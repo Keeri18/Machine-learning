{
 "cells": [
  {
   "cell_type": "code",
   "execution_count": 1,
   "metadata": {
    "_uuid": "c72424fcefad6b27f904bdc3301ff272baf3b212",
    "execution": {
     "iopub.execute_input": "2021-10-02T12:09:38.933839Z",
     "iopub.status.busy": "2021-10-02T12:09:38.933242Z",
     "iopub.status.idle": "2021-10-02T12:09:38.940913Z",
     "shell.execute_reply": "2021-10-02T12:09:38.940173Z",
     "shell.execute_reply.started": "2021-10-02T12:09:38.933750Z"
    }
   },
   "outputs": [],
   "source": [
    "import pandas as pd\n",
    "import numpy as np\n",
    "from sklearn import metrics\n",
    "import matplotlib.pyplot as plt\n",
    "import seaborn as sns\n",
    "%matplotlib inline"
   ]
  },
  {
   "cell_type": "code",
   "execution_count": 2,
   "metadata": {
    "_uuid": "7ad691aeebc4b3845eefa1ac8ca32fc4b631209d",
    "execution": {
     "iopub.execute_input": "2021-10-02T12:09:38.942125Z",
     "iopub.status.busy": "2021-10-02T12:09:38.941800Z",
     "iopub.status.idle": "2021-10-02T12:09:38.964284Z",
     "shell.execute_reply": "2021-10-02T12:09:38.963413Z",
     "shell.execute_reply.started": "2021-10-02T12:09:38.942090Z"
    },
    "scrolled": true
   },
   "outputs": [],
   "source": [
    "from sklearn.datasets import load_boston\n",
    "boston = load_boston()"
   ]
  },
  {
   "cell_type": "code",
   "execution_count": 3,
   "metadata": {
    "_uuid": "5853d3c3d9e4b52f37ea42665f573bfd92941ddf",
    "execution": {
     "iopub.execute_input": "2021-10-02T12:09:38.965701Z",
     "iopub.status.busy": "2021-10-02T12:09:38.965436Z",
     "iopub.status.idle": "2021-10-02T12:09:38.972591Z",
     "shell.execute_reply": "2021-10-02T12:09:38.971424Z",
     "shell.execute_reply.started": "2021-10-02T12:09:38.965655Z"
    }
   },
   "outputs": [],
   "source": [
    "data = pd.DataFrame(boston.data)"
   ]
  },
  {
   "cell_type": "code",
   "execution_count": 4,
   "metadata": {
    "_uuid": "7b6f7755accf4b1c5f4e90a3d4aea7f41f89a482",
    "execution": {
     "iopub.execute_input": "2021-10-02T12:09:38.974068Z",
     "iopub.status.busy": "2021-10-02T12:09:38.973826Z",
     "iopub.status.idle": "2021-10-02T12:09:39.015064Z",
     "shell.execute_reply": "2021-10-02T12:09:39.013946Z",
     "shell.execute_reply.started": "2021-10-02T12:09:38.974019Z"
    }
   },
   "outputs": [
    {
     "data": {
      "text/html": [
       "<div>\n",
       "<style scoped>\n",
       "    .dataframe tbody tr th:only-of-type {\n",
       "        vertical-align: middle;\n",
       "    }\n",
       "\n",
       "    .dataframe tbody tr th {\n",
       "        vertical-align: top;\n",
       "    }\n",
       "\n",
       "    .dataframe thead th {\n",
       "        text-align: right;\n",
       "    }\n",
       "</style>\n",
       "<table border=\"1\" class=\"dataframe\">\n",
       "  <thead>\n",
       "    <tr style=\"text-align: right;\">\n",
       "      <th></th>\n",
       "      <th>0</th>\n",
       "      <th>1</th>\n",
       "      <th>2</th>\n",
       "      <th>3</th>\n",
       "      <th>4</th>\n",
       "      <th>5</th>\n",
       "      <th>6</th>\n",
       "      <th>7</th>\n",
       "      <th>8</th>\n",
       "      <th>9</th>\n",
       "      <th>10</th>\n",
       "      <th>11</th>\n",
       "      <th>12</th>\n",
       "    </tr>\n",
       "  </thead>\n",
       "  <tbody>\n",
       "    <tr>\n",
       "      <th>0</th>\n",
       "      <td>0.00632</td>\n",
       "      <td>18.0</td>\n",
       "      <td>2.31</td>\n",
       "      <td>0.0</td>\n",
       "      <td>0.538</td>\n",
       "      <td>6.575</td>\n",
       "      <td>65.2</td>\n",
       "      <td>4.0900</td>\n",
       "      <td>1.0</td>\n",
       "      <td>296.0</td>\n",
       "      <td>15.3</td>\n",
       "      <td>396.90</td>\n",
       "      <td>4.98</td>\n",
       "    </tr>\n",
       "    <tr>\n",
       "      <th>1</th>\n",
       "      <td>0.02731</td>\n",
       "      <td>0.0</td>\n",
       "      <td>7.07</td>\n",
       "      <td>0.0</td>\n",
       "      <td>0.469</td>\n",
       "      <td>6.421</td>\n",
       "      <td>78.9</td>\n",
       "      <td>4.9671</td>\n",
       "      <td>2.0</td>\n",
       "      <td>242.0</td>\n",
       "      <td>17.8</td>\n",
       "      <td>396.90</td>\n",
       "      <td>9.14</td>\n",
       "    </tr>\n",
       "    <tr>\n",
       "      <th>2</th>\n",
       "      <td>0.02729</td>\n",
       "      <td>0.0</td>\n",
       "      <td>7.07</td>\n",
       "      <td>0.0</td>\n",
       "      <td>0.469</td>\n",
       "      <td>7.185</td>\n",
       "      <td>61.1</td>\n",
       "      <td>4.9671</td>\n",
       "      <td>2.0</td>\n",
       "      <td>242.0</td>\n",
       "      <td>17.8</td>\n",
       "      <td>392.83</td>\n",
       "      <td>4.03</td>\n",
       "    </tr>\n",
       "    <tr>\n",
       "      <th>3</th>\n",
       "      <td>0.03237</td>\n",
       "      <td>0.0</td>\n",
       "      <td>2.18</td>\n",
       "      <td>0.0</td>\n",
       "      <td>0.458</td>\n",
       "      <td>6.998</td>\n",
       "      <td>45.8</td>\n",
       "      <td>6.0622</td>\n",
       "      <td>3.0</td>\n",
       "      <td>222.0</td>\n",
       "      <td>18.7</td>\n",
       "      <td>394.63</td>\n",
       "      <td>2.94</td>\n",
       "    </tr>\n",
       "    <tr>\n",
       "      <th>4</th>\n",
       "      <td>0.06905</td>\n",
       "      <td>0.0</td>\n",
       "      <td>2.18</td>\n",
       "      <td>0.0</td>\n",
       "      <td>0.458</td>\n",
       "      <td>7.147</td>\n",
       "      <td>54.2</td>\n",
       "      <td>6.0622</td>\n",
       "      <td>3.0</td>\n",
       "      <td>222.0</td>\n",
       "      <td>18.7</td>\n",
       "      <td>396.90</td>\n",
       "      <td>5.33</td>\n",
       "    </tr>\n",
       "  </tbody>\n",
       "</table>\n",
       "</div>"
      ],
      "text/plain": [
       "        0     1     2    3      4   ...    8      9     10      11    12\n",
       "0  0.00632  18.0  2.31  0.0  0.538  ...   1.0  296.0  15.3  396.90  4.98\n",
       "1  0.02731   0.0  7.07  0.0  0.469  ...   2.0  242.0  17.8  396.90  9.14\n",
       "2  0.02729   0.0  7.07  0.0  0.469  ...   2.0  242.0  17.8  392.83  4.03\n",
       "3  0.03237   0.0  2.18  0.0  0.458  ...   3.0  222.0  18.7  394.63  2.94\n",
       "4  0.06905   0.0  2.18  0.0  0.458  ...   3.0  222.0  18.7  396.90  5.33\n",
       "\n",
       "[5 rows x 13 columns]"
      ]
     },
     "execution_count": 4,
     "metadata": {},
     "output_type": "execute_result"
    }
   ],
   "source": [
    "data.head()"
   ]
  },
  {
   "cell_type": "code",
   "execution_count": 5,
   "metadata": {
    "_uuid": "6ecbc294bdbabbafee3893b5c66bd89709d6a069",
    "execution": {
     "iopub.execute_input": "2021-10-02T12:09:39.017047Z",
     "iopub.status.busy": "2021-10-02T12:09:39.016453Z",
     "iopub.status.idle": "2021-10-02T12:09:39.053696Z",
     "shell.execute_reply": "2021-10-02T12:09:39.052726Z",
     "shell.execute_reply.started": "2021-10-02T12:09:39.017006Z"
    }
   },
   "outputs": [
    {
     "data": {
      "text/html": [
       "<div>\n",
       "<style scoped>\n",
       "    .dataframe tbody tr th:only-of-type {\n",
       "        vertical-align: middle;\n",
       "    }\n",
       "\n",
       "    .dataframe tbody tr th {\n",
       "        vertical-align: top;\n",
       "    }\n",
       "\n",
       "    .dataframe thead th {\n",
       "        text-align: right;\n",
       "    }\n",
       "</style>\n",
       "<table border=\"1\" class=\"dataframe\">\n",
       "  <thead>\n",
       "    <tr style=\"text-align: right;\">\n",
       "      <th></th>\n",
       "      <th>CRIM</th>\n",
       "      <th>ZN</th>\n",
       "      <th>INDUS</th>\n",
       "      <th>CHAS</th>\n",
       "      <th>NOX</th>\n",
       "      <th>RM</th>\n",
       "      <th>AGE</th>\n",
       "      <th>DIS</th>\n",
       "      <th>RAD</th>\n",
       "      <th>TAX</th>\n",
       "      <th>PTRATIO</th>\n",
       "      <th>B</th>\n",
       "      <th>LSTAT</th>\n",
       "    </tr>\n",
       "  </thead>\n",
       "  <tbody>\n",
       "    <tr>\n",
       "      <th>0</th>\n",
       "      <td>0.00632</td>\n",
       "      <td>18.0</td>\n",
       "      <td>2.31</td>\n",
       "      <td>0.0</td>\n",
       "      <td>0.538</td>\n",
       "      <td>6.575</td>\n",
       "      <td>65.2</td>\n",
       "      <td>4.0900</td>\n",
       "      <td>1.0</td>\n",
       "      <td>296.0</td>\n",
       "      <td>15.3</td>\n",
       "      <td>396.90</td>\n",
       "      <td>4.98</td>\n",
       "    </tr>\n",
       "    <tr>\n",
       "      <th>1</th>\n",
       "      <td>0.02731</td>\n",
       "      <td>0.0</td>\n",
       "      <td>7.07</td>\n",
       "      <td>0.0</td>\n",
       "      <td>0.469</td>\n",
       "      <td>6.421</td>\n",
       "      <td>78.9</td>\n",
       "      <td>4.9671</td>\n",
       "      <td>2.0</td>\n",
       "      <td>242.0</td>\n",
       "      <td>17.8</td>\n",
       "      <td>396.90</td>\n",
       "      <td>9.14</td>\n",
       "    </tr>\n",
       "    <tr>\n",
       "      <th>2</th>\n",
       "      <td>0.02729</td>\n",
       "      <td>0.0</td>\n",
       "      <td>7.07</td>\n",
       "      <td>0.0</td>\n",
       "      <td>0.469</td>\n",
       "      <td>7.185</td>\n",
       "      <td>61.1</td>\n",
       "      <td>4.9671</td>\n",
       "      <td>2.0</td>\n",
       "      <td>242.0</td>\n",
       "      <td>17.8</td>\n",
       "      <td>392.83</td>\n",
       "      <td>4.03</td>\n",
       "    </tr>\n",
       "    <tr>\n",
       "      <th>3</th>\n",
       "      <td>0.03237</td>\n",
       "      <td>0.0</td>\n",
       "      <td>2.18</td>\n",
       "      <td>0.0</td>\n",
       "      <td>0.458</td>\n",
       "      <td>6.998</td>\n",
       "      <td>45.8</td>\n",
       "      <td>6.0622</td>\n",
       "      <td>3.0</td>\n",
       "      <td>222.0</td>\n",
       "      <td>18.7</td>\n",
       "      <td>394.63</td>\n",
       "      <td>2.94</td>\n",
       "    </tr>\n",
       "    <tr>\n",
       "      <th>4</th>\n",
       "      <td>0.06905</td>\n",
       "      <td>0.0</td>\n",
       "      <td>2.18</td>\n",
       "      <td>0.0</td>\n",
       "      <td>0.458</td>\n",
       "      <td>7.147</td>\n",
       "      <td>54.2</td>\n",
       "      <td>6.0622</td>\n",
       "      <td>3.0</td>\n",
       "      <td>222.0</td>\n",
       "      <td>18.7</td>\n",
       "      <td>396.90</td>\n",
       "      <td>5.33</td>\n",
       "    </tr>\n",
       "  </tbody>\n",
       "</table>\n",
       "</div>"
      ],
      "text/plain": [
       "      CRIM    ZN  INDUS  CHAS    NOX  ...    RAD    TAX  PTRATIO       B  LSTAT\n",
       "0  0.00632  18.0   2.31   0.0  0.538  ...    1.0  296.0     15.3  396.90   4.98\n",
       "1  0.02731   0.0   7.07   0.0  0.469  ...    2.0  242.0     17.8  396.90   9.14\n",
       "2  0.02729   0.0   7.07   0.0  0.469  ...    2.0  242.0     17.8  392.83   4.03\n",
       "3  0.03237   0.0   2.18   0.0  0.458  ...    3.0  222.0     18.7  394.63   2.94\n",
       "4  0.06905   0.0   2.18   0.0  0.458  ...    3.0  222.0     18.7  396.90   5.33\n",
       "\n",
       "[5 rows x 13 columns]"
      ]
     },
     "execution_count": 5,
     "metadata": {},
     "output_type": "execute_result"
    }
   ],
   "source": [
    "data.columns = boston.feature_names\n",
    "data.head()"
   ]
  },
  {
   "cell_type": "code",
   "execution_count": 6,
   "metadata": {
    "_uuid": "293641aa8ae59c57884bd19c0ee6fc43143b19b8",
    "execution": {
     "iopub.execute_input": "2021-10-02T12:09:39.055225Z",
     "iopub.status.busy": "2021-10-02T12:09:39.054848Z",
     "iopub.status.idle": "2021-10-02T12:09:39.063800Z",
     "shell.execute_reply": "2021-10-02T12:09:39.062775Z",
     "shell.execute_reply.started": "2021-10-02T12:09:39.055034Z"
    }
   },
   "outputs": [],
   "source": [
    "data['PRICE'] = boston.target "
   ]
  },
  {
   "cell_type": "code",
   "execution_count": 7,
   "metadata": {
    "_uuid": "b5edd7daea054f44df78e956846596fd9e82274f",
    "execution": {
     "iopub.execute_input": "2021-10-02T12:09:39.065207Z",
     "iopub.status.busy": "2021-10-02T12:09:39.064972Z",
     "iopub.status.idle": "2021-10-02T12:09:39.075240Z",
     "shell.execute_reply": "2021-10-02T12:09:39.074453Z",
     "shell.execute_reply.started": "2021-10-02T12:09:39.065152Z"
    }
   },
   "outputs": [
    {
     "data": {
      "text/plain": [
       "(506, 14)"
      ]
     },
     "execution_count": 7,
     "metadata": {},
     "output_type": "execute_result"
    }
   ],
   "source": [
    "data.shape"
   ]
  },
  {
   "cell_type": "code",
   "execution_count": 8,
   "metadata": {
    "_uuid": "264fd03458b3b349d2d52ac02b83e2e85b6190b2",
    "execution": {
     "iopub.execute_input": "2021-10-02T12:09:39.076901Z",
     "iopub.status.busy": "2021-10-02T12:09:39.076428Z",
     "iopub.status.idle": "2021-10-02T12:09:39.084798Z",
     "shell.execute_reply": "2021-10-02T12:09:39.084196Z",
     "shell.execute_reply.started": "2021-10-02T12:09:39.076854Z"
    }
   },
   "outputs": [
    {
     "data": {
      "text/plain": [
       "Index(['CRIM', 'ZN', 'INDUS', 'CHAS', 'NOX', 'RM', 'AGE', 'DIS', 'RAD', 'TAX',\n",
       "       'PTRATIO', 'B', 'LSTAT', 'PRICE'],\n",
       "      dtype='object')"
      ]
     },
     "execution_count": 8,
     "metadata": {},
     "output_type": "execute_result"
    }
   ],
   "source": [
    "data.columns"
   ]
  },
  {
   "cell_type": "code",
   "execution_count": 9,
   "metadata": {
    "_uuid": "1a745ede36d316c539a7c8d53ced27b9ccae85b2",
    "execution": {
     "iopub.execute_input": "2021-10-02T12:09:39.086324Z",
     "iopub.status.busy": "2021-10-02T12:09:39.085951Z",
     "iopub.status.idle": "2021-10-02T12:09:39.097428Z",
     "shell.execute_reply": "2021-10-02T12:09:39.096484Z",
     "shell.execute_reply.started": "2021-10-02T12:09:39.086147Z"
    }
   },
   "outputs": [
    {
     "data": {
      "text/plain": [
       "CRIM       float64\n",
       "ZN         float64\n",
       "INDUS      float64\n",
       "CHAS       float64\n",
       "NOX        float64\n",
       "RM         float64\n",
       "AGE        float64\n",
       "DIS        float64\n",
       "RAD        float64\n",
       "TAX        float64\n",
       "PTRATIO    float64\n",
       "B          float64\n",
       "LSTAT      float64\n",
       "PRICE      float64\n",
       "dtype: object"
      ]
     },
     "execution_count": 9,
     "metadata": {},
     "output_type": "execute_result"
    }
   ],
   "source": [
    "data.dtypes"
   ]
  },
  {
   "cell_type": "code",
   "execution_count": 10,
   "metadata": {
    "_uuid": "e86b006860c2efe29294aca3ba4419d9c758ced2",
    "execution": {
     "iopub.execute_input": "2021-10-02T12:09:39.099371Z",
     "iopub.status.busy": "2021-10-02T12:09:39.098854Z",
     "iopub.status.idle": "2021-10-02T12:09:39.113502Z",
     "shell.execute_reply": "2021-10-02T12:09:39.112815Z",
     "shell.execute_reply.started": "2021-10-02T12:09:39.099303Z"
    }
   },
   "outputs": [
    {
     "data": {
      "text/plain": [
       "CRIM       504\n",
       "ZN          26\n",
       "INDUS       76\n",
       "CHAS         2\n",
       "NOX         81\n",
       "RM         446\n",
       "AGE        356\n",
       "DIS        412\n",
       "RAD          9\n",
       "TAX         66\n",
       "PTRATIO     46\n",
       "B          357\n",
       "LSTAT      455\n",
       "PRICE      229\n",
       "dtype: int64"
      ]
     },
     "execution_count": 10,
     "metadata": {},
     "output_type": "execute_result"
    }
   ],
   "source": [
    "data.nunique()"
   ]
  },
  {
   "cell_type": "code",
   "execution_count": 11,
   "metadata": {
    "_uuid": "cef1bbf6ab92b5cd42a9a0771a24f48a09acf218",
    "execution": {
     "iopub.execute_input": "2021-10-02T12:09:39.114875Z",
     "iopub.status.busy": "2021-10-02T12:09:39.114621Z",
     "iopub.status.idle": "2021-10-02T12:09:39.125980Z",
     "shell.execute_reply": "2021-10-02T12:09:39.124653Z",
     "shell.execute_reply.started": "2021-10-02T12:09:39.114829Z"
    }
   },
   "outputs": [
    {
     "data": {
      "text/plain": [
       "CRIM       0\n",
       "ZN         0\n",
       "INDUS      0\n",
       "CHAS       0\n",
       "NOX        0\n",
       "RM         0\n",
       "AGE        0\n",
       "DIS        0\n",
       "RAD        0\n",
       "TAX        0\n",
       "PTRATIO    0\n",
       "B          0\n",
       "LSTAT      0\n",
       "PRICE      0\n",
       "dtype: int64"
      ]
     },
     "execution_count": 11,
     "metadata": {},
     "output_type": "execute_result"
    }
   ],
   "source": [
    "data.isnull().sum()"
   ]
  },
  {
   "cell_type": "code",
   "execution_count": 12,
   "metadata": {
    "_uuid": "9d77b2f0e188a0bad15574340c61fad981a571b5",
    "execution": {
     "iopub.execute_input": "2021-10-02T12:09:39.127836Z",
     "iopub.status.busy": "2021-10-02T12:09:39.127573Z",
     "iopub.status.idle": "2021-10-02T12:09:39.139409Z",
     "shell.execute_reply": "2021-10-02T12:09:39.138809Z",
     "shell.execute_reply.started": "2021-10-02T12:09:39.127799Z"
    }
   },
   "outputs": [
    {
     "data": {
      "text/html": [
       "<div>\n",
       "<style scoped>\n",
       "    .dataframe tbody tr th:only-of-type {\n",
       "        vertical-align: middle;\n",
       "    }\n",
       "\n",
       "    .dataframe tbody tr th {\n",
       "        vertical-align: top;\n",
       "    }\n",
       "\n",
       "    .dataframe thead th {\n",
       "        text-align: right;\n",
       "    }\n",
       "</style>\n",
       "<table border=\"1\" class=\"dataframe\">\n",
       "  <thead>\n",
       "    <tr style=\"text-align: right;\">\n",
       "      <th></th>\n",
       "      <th>CRIM</th>\n",
       "      <th>ZN</th>\n",
       "      <th>INDUS</th>\n",
       "      <th>CHAS</th>\n",
       "      <th>NOX</th>\n",
       "      <th>RM</th>\n",
       "      <th>AGE</th>\n",
       "      <th>DIS</th>\n",
       "      <th>RAD</th>\n",
       "      <th>TAX</th>\n",
       "      <th>PTRATIO</th>\n",
       "      <th>B</th>\n",
       "      <th>LSTAT</th>\n",
       "      <th>PRICE</th>\n",
       "    </tr>\n",
       "  </thead>\n",
       "  <tbody>\n",
       "  </tbody>\n",
       "</table>\n",
       "</div>"
      ],
      "text/plain": [
       "Empty DataFrame\n",
       "Columns: [CRIM, ZN, INDUS, CHAS, NOX, RM, AGE, DIS, RAD, TAX, PTRATIO, B, LSTAT, PRICE]\n",
       "Index: []"
      ]
     },
     "execution_count": 12,
     "metadata": {},
     "output_type": "execute_result"
    }
   ],
   "source": [
    "data[data.isnull().any(axis=1)]"
   ]
  },
  {
   "cell_type": "code",
   "execution_count": 13,
   "metadata": {
    "_uuid": "fd9f1bad153f453931265ca2c2662a138a6737b3",
    "execution": {
     "iopub.execute_input": "2021-10-02T12:09:39.141015Z",
     "iopub.status.busy": "2021-10-02T12:09:39.140708Z",
     "iopub.status.idle": "2021-10-02T12:09:39.216875Z",
     "shell.execute_reply": "2021-10-02T12:09:39.215931Z",
     "shell.execute_reply.started": "2021-10-02T12:09:39.140958Z"
    },
    "scrolled": true
   },
   "outputs": [
    {
     "data": {
      "text/html": [
       "<div>\n",
       "<style scoped>\n",
       "    .dataframe tbody tr th:only-of-type {\n",
       "        vertical-align: middle;\n",
       "    }\n",
       "\n",
       "    .dataframe tbody tr th {\n",
       "        vertical-align: top;\n",
       "    }\n",
       "\n",
       "    .dataframe thead th {\n",
       "        text-align: right;\n",
       "    }\n",
       "</style>\n",
       "<table border=\"1\" class=\"dataframe\">\n",
       "  <thead>\n",
       "    <tr style=\"text-align: right;\">\n",
       "      <th></th>\n",
       "      <th>CRIM</th>\n",
       "      <th>ZN</th>\n",
       "      <th>INDUS</th>\n",
       "      <th>CHAS</th>\n",
       "      <th>NOX</th>\n",
       "      <th>RM</th>\n",
       "      <th>AGE</th>\n",
       "      <th>DIS</th>\n",
       "      <th>RAD</th>\n",
       "      <th>TAX</th>\n",
       "      <th>PTRATIO</th>\n",
       "      <th>B</th>\n",
       "      <th>LSTAT</th>\n",
       "      <th>PRICE</th>\n",
       "    </tr>\n",
       "  </thead>\n",
       "  <tbody>\n",
       "    <tr>\n",
       "      <th>count</th>\n",
       "      <td>506.000000</td>\n",
       "      <td>506.000000</td>\n",
       "      <td>506.000000</td>\n",
       "      <td>506.000000</td>\n",
       "      <td>506.000000</td>\n",
       "      <td>506.000000</td>\n",
       "      <td>506.000000</td>\n",
       "      <td>506.000000</td>\n",
       "      <td>506.000000</td>\n",
       "      <td>506.000000</td>\n",
       "      <td>506.000000</td>\n",
       "      <td>506.000000</td>\n",
       "      <td>506.000000</td>\n",
       "      <td>506.000000</td>\n",
       "    </tr>\n",
       "    <tr>\n",
       "      <th>mean</th>\n",
       "      <td>3.613524</td>\n",
       "      <td>11.363636</td>\n",
       "      <td>11.136779</td>\n",
       "      <td>0.069170</td>\n",
       "      <td>0.554695</td>\n",
       "      <td>6.284634</td>\n",
       "      <td>68.574901</td>\n",
       "      <td>3.795043</td>\n",
       "      <td>9.549407</td>\n",
       "      <td>408.237154</td>\n",
       "      <td>18.455534</td>\n",
       "      <td>356.674032</td>\n",
       "      <td>12.653063</td>\n",
       "      <td>22.532806</td>\n",
       "    </tr>\n",
       "    <tr>\n",
       "      <th>std</th>\n",
       "      <td>8.601545</td>\n",
       "      <td>23.322453</td>\n",
       "      <td>6.860353</td>\n",
       "      <td>0.253994</td>\n",
       "      <td>0.115878</td>\n",
       "      <td>0.702617</td>\n",
       "      <td>28.148861</td>\n",
       "      <td>2.105710</td>\n",
       "      <td>8.707259</td>\n",
       "      <td>168.537116</td>\n",
       "      <td>2.164946</td>\n",
       "      <td>91.294864</td>\n",
       "      <td>7.141062</td>\n",
       "      <td>9.197104</td>\n",
       "    </tr>\n",
       "    <tr>\n",
       "      <th>min</th>\n",
       "      <td>0.006320</td>\n",
       "      <td>0.000000</td>\n",
       "      <td>0.460000</td>\n",
       "      <td>0.000000</td>\n",
       "      <td>0.385000</td>\n",
       "      <td>3.561000</td>\n",
       "      <td>2.900000</td>\n",
       "      <td>1.129600</td>\n",
       "      <td>1.000000</td>\n",
       "      <td>187.000000</td>\n",
       "      <td>12.600000</td>\n",
       "      <td>0.320000</td>\n",
       "      <td>1.730000</td>\n",
       "      <td>5.000000</td>\n",
       "    </tr>\n",
       "    <tr>\n",
       "      <th>25%</th>\n",
       "      <td>0.082045</td>\n",
       "      <td>0.000000</td>\n",
       "      <td>5.190000</td>\n",
       "      <td>0.000000</td>\n",
       "      <td>0.449000</td>\n",
       "      <td>5.885500</td>\n",
       "      <td>45.025000</td>\n",
       "      <td>2.100175</td>\n",
       "      <td>4.000000</td>\n",
       "      <td>279.000000</td>\n",
       "      <td>17.400000</td>\n",
       "      <td>375.377500</td>\n",
       "      <td>6.950000</td>\n",
       "      <td>17.025000</td>\n",
       "    </tr>\n",
       "    <tr>\n",
       "      <th>50%</th>\n",
       "      <td>0.256510</td>\n",
       "      <td>0.000000</td>\n",
       "      <td>9.690000</td>\n",
       "      <td>0.000000</td>\n",
       "      <td>0.538000</td>\n",
       "      <td>6.208500</td>\n",
       "      <td>77.500000</td>\n",
       "      <td>3.207450</td>\n",
       "      <td>5.000000</td>\n",
       "      <td>330.000000</td>\n",
       "      <td>19.050000</td>\n",
       "      <td>391.440000</td>\n",
       "      <td>11.360000</td>\n",
       "      <td>21.200000</td>\n",
       "    </tr>\n",
       "    <tr>\n",
       "      <th>75%</th>\n",
       "      <td>3.677083</td>\n",
       "      <td>12.500000</td>\n",
       "      <td>18.100000</td>\n",
       "      <td>0.000000</td>\n",
       "      <td>0.624000</td>\n",
       "      <td>6.623500</td>\n",
       "      <td>94.075000</td>\n",
       "      <td>5.188425</td>\n",
       "      <td>24.000000</td>\n",
       "      <td>666.000000</td>\n",
       "      <td>20.200000</td>\n",
       "      <td>396.225000</td>\n",
       "      <td>16.955000</td>\n",
       "      <td>25.000000</td>\n",
       "    </tr>\n",
       "    <tr>\n",
       "      <th>max</th>\n",
       "      <td>88.976200</td>\n",
       "      <td>100.000000</td>\n",
       "      <td>27.740000</td>\n",
       "      <td>1.000000</td>\n",
       "      <td>0.871000</td>\n",
       "      <td>8.780000</td>\n",
       "      <td>100.000000</td>\n",
       "      <td>12.126500</td>\n",
       "      <td>24.000000</td>\n",
       "      <td>711.000000</td>\n",
       "      <td>22.000000</td>\n",
       "      <td>396.900000</td>\n",
       "      <td>37.970000</td>\n",
       "      <td>50.000000</td>\n",
       "    </tr>\n",
       "  </tbody>\n",
       "</table>\n",
       "</div>"
      ],
      "text/plain": [
       "             CRIM          ZN     ...           LSTAT       PRICE\n",
       "count  506.000000  506.000000     ...      506.000000  506.000000\n",
       "mean     3.613524   11.363636     ...       12.653063   22.532806\n",
       "std      8.601545   23.322453     ...        7.141062    9.197104\n",
       "min      0.006320    0.000000     ...        1.730000    5.000000\n",
       "25%      0.082045    0.000000     ...        6.950000   17.025000\n",
       "50%      0.256510    0.000000     ...       11.360000   21.200000\n",
       "75%      3.677083   12.500000     ...       16.955000   25.000000\n",
       "max     88.976200  100.000000     ...       37.970000   50.000000\n",
       "\n",
       "[8 rows x 14 columns]"
      ]
     },
     "execution_count": 13,
     "metadata": {},
     "output_type": "execute_result"
    }
   ],
   "source": [
    "data.describe()"
   ]
  },
  {
   "cell_type": "code",
   "execution_count": 14,
   "metadata": {
    "_uuid": "f35fcf15ca8787f7c2b27c9567e02bec12dd8232",
    "execution": {
     "iopub.execute_input": "2021-10-02T12:09:39.218290Z",
     "iopub.status.busy": "2021-10-02T12:09:39.218031Z",
     "iopub.status.idle": "2021-10-02T12:09:39.225096Z",
     "shell.execute_reply": "2021-10-02T12:09:39.224286Z",
     "shell.execute_reply.started": "2021-10-02T12:09:39.218239Z"
    }
   },
   "outputs": [
    {
     "data": {
      "text/plain": [
       "(14, 14)"
      ]
     },
     "execution_count": 14,
     "metadata": {},
     "output_type": "execute_result"
    }
   ],
   "source": [
    "corr = data.corr()\n",
    "corr.shape"
   ]
  },
  {
   "cell_type": "code",
   "execution_count": 15,
   "metadata": {
    "execution": {
     "iopub.execute_input": "2021-10-02T12:09:39.227419Z",
     "iopub.status.busy": "2021-10-02T12:09:39.226842Z",
     "iopub.status.idle": "2021-10-02T12:10:05.662871Z",
     "shell.execute_reply": "2021-10-02T12:10:05.662198Z",
     "shell.execute_reply.started": "2021-10-02T12:09:39.227361Z"
    }
   },
   "outputs": [
    {
     "data": {
      "text/plain": [
       "<seaborn.axisgrid.PairGrid at 0x7f8052268710>"
      ]
     },
     "execution_count": 15,
     "metadata": {},
     "output_type": "execute_result"
    },
    {
     "data": {
      "image/png": "[encoded data removed]",
      "text/plain": [
       "<Figure size 2520x2520 with 210 Axes>"
      ]
     },
     "metadata": {},
     "output_type": "display_data"
    }
   ],
   "source": [
    "sns.pairplot(corr)"
   ]
  },
  {
   "cell_type": "code",
   "execution_count": 16,
   "metadata": {
    "_uuid": "5a2f669e42f1c4da0678d3012fe90996ce8dc476",
    "execution": {
     "iopub.execute_input": "2021-10-02T12:10:05.664464Z",
     "iopub.status.busy": "2021-10-02T12:10:05.664022Z",
     "iopub.status.idle": "2021-10-02T12:10:07.292129Z",
     "shell.execute_reply": "2021-10-02T12:10:07.291435Z",
     "shell.execute_reply.started": "2021-10-02T12:10:05.664409Z"
    }
   },
   "outputs": [
    {
     "data": {
      "text/plain": [
       "<matplotlib.axes._subplots.AxesSubplot at 0x7f8049722518>"
      ]
     },
     "execution_count": 16,
     "metadata": {},
     "output_type": "execute_result"
    },
    {
     "data": {
      "image/png": "[encoded data removed]",
      "text/plain": [
       "<Figure size 1440x1440 with 2 Axes>"
      ]
     },
     "metadata": {},
     "output_type": "display_data"
    }
   ],
   "source": [
    "plt.figure(figsize=(20,20))\n",
    "sns.heatmap(corr, cbar=True, square= True, fmt='.1f', annot=True, annot_kws={'size':15}, cmap='Reds')"
   ]
  },
  {
   "cell_type": "code",
   "execution_count": 17,
   "metadata": {
    "_uuid": "e8b29232f337d8d269fdeab876ecf1b6cf692556",
    "execution": {
     "iopub.execute_input": "2021-10-02T12:10:07.293938Z",
     "iopub.status.busy": "2021-10-02T12:10:07.293429Z",
     "iopub.status.idle": "2021-10-02T12:10:07.300297Z",
     "shell.execute_reply": "2021-10-02T12:10:07.299321Z",
     "shell.execute_reply.started": "2021-10-02T12:10:07.293880Z"
    },
    "scrolled": true
   },
   "outputs": [],
   "source": [
    "X = data.drop(['PRICE'], axis = 1)\n",
    "y = data['PRICE']"
   ]
  },
  {
   "cell_type": "code",
   "execution_count": 18,
   "metadata": {
    "_uuid": "8c44aa7df1ef21f85c1baba09dbb5807c223c51a",
    "execution": {
     "iopub.execute_input": "2021-10-02T12:10:07.301972Z",
     "iopub.status.busy": "2021-10-02T12:10:07.301648Z",
     "iopub.status.idle": "2021-10-02T12:10:07.312613Z",
     "shell.execute_reply": "2021-10-02T12:10:07.311746Z",
     "shell.execute_reply.started": "2021-10-02T12:10:07.301908Z"
    }
   },
   "outputs": [],
   "source": [
    "from sklearn.model_selection import train_test_split\n",
    "X_train, X_test, y_train, y_test = train_test_split(X,y, test_size = 0.3, random_state = 4)"
   ]
  },
  {
   "cell_type": "code",
   "execution_count": 19,
   "metadata": {
    "_uuid": "74c1df4cd4ba074712c8fe65802acc568e0b6ba9",
    "execution": {
     "iopub.execute_input": "2021-10-02T12:10:07.314269Z",
     "iopub.status.busy": "2021-10-02T12:10:07.313865Z",
     "iopub.status.idle": "2021-10-02T12:10:07.328903Z",
     "shell.execute_reply": "2021-10-02T12:10:07.327850Z",
     "shell.execute_reply.started": "2021-10-02T12:10:07.314055Z"
    },
    "scrolled": true
   },
   "outputs": [
    {
     "data": {
      "text/plain": [
       "LinearRegression(copy_X=True, fit_intercept=True, n_jobs=None,\n",
       "         normalize=False)"
      ]
     },
     "execution_count": 19,
     "metadata": {},
     "output_type": "execute_result"
    }
   ],
   "source": [
    "from sklearn.linear_model import LinearRegression\n",
    "lm = LinearRegression()\n",
    "lm.fit(X_train, y_train)"
   ]
  },
  {
   "cell_type": "code",
   "execution_count": 20,
   "metadata": {
    "_uuid": "998fb3c39c9a86eb1bcd4d921dd183a6491335d7",
    "execution": {
     "iopub.execute_input": "2021-10-02T12:10:07.330848Z",
     "iopub.status.busy": "2021-10-02T12:10:07.330514Z",
     "iopub.status.idle": "2021-10-02T12:10:07.339478Z",
     "shell.execute_reply": "2021-10-02T12:10:07.338765Z",
     "shell.execute_reply.started": "2021-10-02T12:10:07.330781Z"
    }
   },
   "outputs": [
    {
     "data": {
      "text/plain": [
       "36.357041376595205"
      ]
     },
     "execution_count": 20,
     "metadata": {},
     "output_type": "execute_result"
    }
   ],
   "source": [
    "lm.intercept_"
   ]
  },
  {
   "cell_type": "code",
   "execution_count": 21,
   "metadata": {
    "_uuid": "014c51bc46bb492a44f253c3c04e113ddbc39af6",
    "execution": {
     "iopub.execute_input": "2021-10-02T12:10:07.341463Z",
     "iopub.status.busy": "2021-10-02T12:10:07.341050Z",
     "iopub.status.idle": "2021-10-02T12:10:07.361376Z",
     "shell.execute_reply": "2021-10-02T12:10:07.360420Z",
     "shell.execute_reply.started": "2021-10-02T12:10:07.341287Z"
    }
   },
   "outputs": [
    {
     "data": {
      "text/html": [
       "<div>\n",
       "<style scoped>\n",
       "    .dataframe tbody tr th:only-of-type {\n",
       "        vertical-align: middle;\n",
       "    }\n",
       "\n",
       "    .dataframe tbody tr th {\n",
       "        vertical-align: top;\n",
       "    }\n",
       "\n",
       "    .dataframe thead th {\n",
       "        text-align: right;\n",
       "    }\n",
       "</style>\n",
       "<table border=\"1\" class=\"dataframe\">\n",
       "  <thead>\n",
       "    <tr style=\"text-align: right;\">\n",
       "      <th></th>\n",
       "      <th>Attribute</th>\n",
       "      <th>Coefficients</th>\n",
       "    </tr>\n",
       "  </thead>\n",
       "  <tbody>\n",
       "    <tr>\n",
       "      <th>0</th>\n",
       "      <td>CRIM</td>\n",
       "      <td>-0.12257</td>\n",
       "    </tr>\n",
       "    <tr>\n",
       "      <th>1</th>\n",
       "      <td>ZN</td>\n",
       "      <td>0.0556777</td>\n",
       "    </tr>\n",
       "    <tr>\n",
       "      <th>2</th>\n",
       "      <td>INDUS</td>\n",
       "      <td>-0.00883428</td>\n",
       "    </tr>\n",
       "    <tr>\n",
       "      <th>3</th>\n",
       "      <td>CHAS</td>\n",
       "      <td>4.69345</td>\n",
       "    </tr>\n",
       "    <tr>\n",
       "      <th>4</th>\n",
       "      <td>NOX</td>\n",
       "      <td>-14.4358</td>\n",
       "    </tr>\n",
       "    <tr>\n",
       "      <th>5</th>\n",
       "      <td>RM</td>\n",
       "      <td>3.28008</td>\n",
       "    </tr>\n",
       "    <tr>\n",
       "      <th>6</th>\n",
       "      <td>AGE</td>\n",
       "      <td>-0.00344778</td>\n",
       "    </tr>\n",
       "    <tr>\n",
       "      <th>7</th>\n",
       "      <td>DIS</td>\n",
       "      <td>-1.55214</td>\n",
       "    </tr>\n",
       "    <tr>\n",
       "      <th>8</th>\n",
       "      <td>RAD</td>\n",
       "      <td>0.32625</td>\n",
       "    </tr>\n",
       "    <tr>\n",
       "      <th>9</th>\n",
       "      <td>TAX</td>\n",
       "      <td>-0.0140666</td>\n",
       "    </tr>\n",
       "    <tr>\n",
       "      <th>10</th>\n",
       "      <td>PTRATIO</td>\n",
       "      <td>-0.803275</td>\n",
       "    </tr>\n",
       "    <tr>\n",
       "      <th>11</th>\n",
       "      <td>B</td>\n",
       "      <td>0.00935369</td>\n",
       "    </tr>\n",
       "    <tr>\n",
       "      <th>12</th>\n",
       "      <td>LSTAT</td>\n",
       "      <td>-0.523478</td>\n",
       "    </tr>\n",
       "  </tbody>\n",
       "</table>\n",
       "</div>"
      ],
      "text/plain": [
       "   Attribute Coefficients\n",
       "0       CRIM     -0.12257\n",
       "1         ZN    0.0556777\n",
       "2      INDUS  -0.00883428\n",
       "3       CHAS      4.69345\n",
       "4        NOX     -14.4358\n",
       "5         RM      3.28008\n",
       "6        AGE  -0.00344778\n",
       "7        DIS     -1.55214\n",
       "8        RAD      0.32625\n",
       "9        TAX   -0.0140666\n",
       "10   PTRATIO    -0.803275\n",
       "11         B   0.00935369\n",
       "12     LSTAT    -0.523478"
      ]
     },
     "execution_count": 21,
     "metadata": {},
     "output_type": "execute_result"
    }
   ],
   "source": [
    "coeffcients = pd.DataFrame([X_train.columns,lm.coef_]).T\n",
    "coeffcients = coeffcients.rename(columns={0: 'Attribute', 1: 'Coefficients'})\n",
    "coeffcients"
   ]
  },
  {
   "cell_type": "code",
   "execution_count": 22,
   "metadata": {
    "_uuid": "fbf88954f6ea78c339dfd4d1bbb4731fe1b3c489",
    "execution": {
     "iopub.execute_input": "2021-10-02T12:10:07.362845Z",
     "iopub.status.busy": "2021-10-02T12:10:07.362503Z",
     "iopub.status.idle": "2021-10-02T12:10:07.367229Z",
     "shell.execute_reply": "2021-10-02T12:10:07.366282Z",
     "shell.execute_reply.started": "2021-10-02T12:10:07.362686Z"
    }
   },
   "outputs": [],
   "source": [
    "y_pred = lm.predict(X_train)"
   ]
  },
  {
   "cell_type": "code",
   "execution_count": 23,
   "metadata": {
    "_uuid": "40c2d862d0798c825949e665b23a0d93e7acbf22",
    "execution": {
     "iopub.execute_input": "2021-10-02T12:10:07.368958Z",
     "iopub.status.busy": "2021-10-02T12:10:07.368668Z",
     "iopub.status.idle": "2021-10-02T12:10:07.380614Z",
     "shell.execute_reply": "2021-10-02T12:10:07.379595Z",
     "shell.execute_reply.started": "2021-10-02T12:10:07.368899Z"
    },
    "scrolled": true
   },
   "outputs": [
    {
     "name": "stdout",
     "output_type": "stream",
     "text": [
      "R^2: 0.7465991966746854\n",
      "Adjusted R^2: 0.736910342429894\n",
      "MAE: 3.08986109497113\n",
      "MSE: 19.07368870346903\n",
      "RMSE: 4.367343437774162\n"
     ]
    }
   ],
   "source": [
    "print('R^2:',metrics.r2_score(y_train, y_pred))\n",
    "print('Adjusted R^2:',1 - (1-metrics.r2_score(y_train, y_pred))*(len(y_train)-1)/(len(y_train)-X_train.shape[1]-1))\n",
    "print('MAE:',metrics.mean_absolute_error(y_train, y_pred))\n",
    "print('MSE:',metrics.mean_squared_error(y_train, y_pred))\n",
    "print('RMSE:',np.sqrt(metrics.mean_squared_error(y_train, y_pred)))"
   ]
  },
  {
   "cell_type": "code",
   "execution_count": 24,
   "metadata": {
    "_uuid": "c00f457edc850676c7ac951f2a77994bc798f709",
    "execution": {
     "iopub.execute_input": "2021-10-02T12:10:07.382165Z",
     "iopub.status.busy": "2021-10-02T12:10:07.381917Z",
     "iopub.status.idle": "2021-10-02T12:10:07.590069Z",
     "shell.execute_reply": "2021-10-02T12:10:07.589044Z",
     "shell.execute_reply.started": "2021-10-02T12:10:07.382121Z"
    }
   },
   "outputs": [
    {
     "data": {
      "image/png": "[encoded data removed]",
      "text/plain": [
       "<Figure size 432x288 with 1 Axes>"
      ]
     },
     "metadata": {},
     "output_type": "display_data"
    }
   ],
   "source": [
    "plt.scatter(y_train, y_pred)\n",
    "plt.xlabel(\"Prices\")\n",
    "plt.ylabel(\"Predicted prices\")\n",
    "plt.title(\"Prices vs Predicted prices\")\n",
    "plt.show()"
   ]
  },
  {
   "cell_type": "code",
   "execution_count": 25,
   "metadata": {
    "_uuid": "65b07c5f88bbc8863b56057568bb09443484d806",
    "execution": {
     "iopub.execute_input": "2021-10-02T12:10:07.591641Z",
     "iopub.status.busy": "2021-10-02T12:10:07.591320Z",
     "iopub.status.idle": "2021-10-02T12:10:07.821122Z",
     "shell.execute_reply": "2021-10-02T12:10:07.819979Z",
     "shell.execute_reply.started": "2021-10-02T12:10:07.591589Z"
    }
   },
   "outputs": [
    {
     "data": {
      "image/png": "[encoded data removed]",
      "text/plain": [
       "<Figure size 432x288 with 1 Axes>"
      ]
     },
     "metadata": {},
     "output_type": "display_data"
    }
   ],
   "source": [
    "plt.scatter(y_pred,y_train-y_pred)\n",
    "plt.title(\"Predicted vs residuals\")\n",
    "plt.xlabel(\"Predicted\")\n",
    "plt.ylabel(\"Residuals\")\n",
    "plt.show()"
   ]
  },
  {
   "cell_type": "code",
   "execution_count": 26,
   "metadata": {
    "_uuid": "9814045d0aaa99146a32653f4e5449a11b05ff8f",
    "execution": {
     "iopub.execute_input": "2021-10-02T12:10:07.822895Z",
     "iopub.status.busy": "2021-10-02T12:10:07.822558Z",
     "iopub.status.idle": "2021-10-02T12:10:08.104023Z",
     "shell.execute_reply": "2021-10-02T12:10:08.103122Z",
     "shell.execute_reply.started": "2021-10-02T12:10:07.822839Z"
    }
   },
   "outputs": [
    {
     "name": "stderr",
     "output_type": "stream",
     "text": [
      "/opt/conda/lib/python3.6/site-packages/scipy/stats/stats.py:1713: FutureWarning: Using a non-tuple sequence for multidimensional indexing is deprecated; use `arr[tuple(seq)]` instead of `arr[seq]`. In the future this will be interpreted as an array index, `arr[np.array(seq)]`, which will result either in an error or a different result.\n",
      "  return np.add.reduce(sorted[indexer] * weights, axis=axis) / sumval\n"
     ]
    },
    {
     "data": {
      "image/png": "[encoded data removed]",
      "text/plain": [
       "<Figure size 432x288 with 1 Axes>"
      ]
     },
     "metadata": {},
     "output_type": "display_data"
    }
   ],
   "source": [
    "sns.distplot(y_train-y_pred)\n",
    "plt.title(\"Histogram of Residuals\")\n",
    "plt.xlabel(\"Residuals\")\n",
    "plt.ylabel(\"Frequency\")\n",
    "plt.show()"
   ]
  },
  {
   "cell_type": "code",
   "execution_count": 27,
   "metadata": {
    "_uuid": "d1c22569bf33b54bc8e67dd9768beeb48520c5f0",
    "execution": {
     "iopub.execute_input": "2021-10-02T12:10:08.106156Z",
     "iopub.status.busy": "2021-10-02T12:10:08.105585Z",
     "iopub.status.idle": "2021-10-02T12:10:08.112631Z",
     "shell.execute_reply": "2021-10-02T12:10:08.111387Z",
     "shell.execute_reply.started": "2021-10-02T12:10:08.106098Z"
    }
   },
   "outputs": [],
   "source": [
    "y_test_pred = lm.predict(X_test)"
   ]
  },
  {
   "cell_type": "code",
   "execution_count": 28,
   "metadata": {
    "_uuid": "5bd7bf701f57b013f7b4bb3ee30debdf216647f6",
    "execution": {
     "iopub.execute_input": "2021-10-02T12:10:08.115347Z",
     "iopub.status.busy": "2021-10-02T12:10:08.114692Z",
     "iopub.status.idle": "2021-10-02T12:10:08.131543Z",
     "shell.execute_reply": "2021-10-02T12:10:08.130254Z",
     "shell.execute_reply.started": "2021-10-02T12:10:08.115287Z"
    }
   },
   "outputs": [
    {
     "name": "stdout",
     "output_type": "stream",
     "text": [
      "R^2: 0.7121818377409195\n",
      "Adjusted R^2: 0.6850685326005713\n",
      "MAE: 3.8590055923707407\n",
      "MSE: 30.053993307124134\n",
      "RMSE: 5.482152251362975\n"
     ]
    }
   ],
   "source": [
    "acc_linreg = metrics.r2_score(y_test, y_test_pred)\n",
    "print('R^2:', acc_linreg)\n",
    "print('Adjusted R^2:',1 - (1-metrics.r2_score(y_test, y_test_pred))*(len(y_test)-1)/(len(y_test)-X_test.shape[1]-1))\n",
    "print('MAE:',metrics.mean_absolute_error(y_test, y_test_pred))\n",
    "print('MSE:',metrics.mean_squared_error(y_test, y_test_pred))\n",
    "print('RMSE:',np.sqrt(metrics.mean_squared_error(y_test, y_test_pred)))"
   ]
  },
  {
   "cell_type": "code",
   "execution_count": 29,
   "metadata": {
    "_uuid": "34e2ffdaf66c5bb6d30daa5acd5276a6da21e809",
    "execution": {
     "iopub.execute_input": "2021-10-02T12:10:08.133779Z",
     "iopub.status.busy": "2021-10-02T12:10:08.133116Z",
     "iopub.status.idle": "2021-10-02T12:10:08.173198Z",
     "shell.execute_reply": "2021-10-02T12:10:08.172361Z",
     "shell.execute_reply.started": "2021-10-02T12:10:08.133716Z"
    }
   },
   "outputs": [
    {
     "name": "stderr",
     "output_type": "stream",
     "text": [
      "/opt/conda/lib/python3.6/site-packages/sklearn/ensemble/forest.py:246: FutureWarning: The default value of n_estimators will change from 10 in version 0.20 to 100 in 0.22.\n",
      "  \"10 in version 0.20 to 100 in 0.22.\", FutureWarning)\n"
     ]
    },
    {
     "data": {
      "text/plain": [
       "RandomForestRegressor(bootstrap=True, criterion='mse', max_depth=None,\n",
       "           max_features='auto', max_leaf_nodes=None,\n",
       "           min_impurity_decrease=0.0, min_impurity_split=None,\n",
       "           min_samples_leaf=1, min_samples_split=2,\n",
       "           min_weight_fraction_leaf=0.0, n_estimators=10, n_jobs=None,\n",
       "           oob_score=False, random_state=None, verbose=0, warm_start=False)"
      ]
     },
     "execution_count": 29,
     "metadata": {},
     "output_type": "execute_result"
    }
   ],
   "source": [
    "from sklearn.ensemble import RandomForestRegressor\n",
    "reg = RandomForestRegressor()\n",
    "reg.fit(X_train, y_train)"
   ]
  },
  {
   "cell_type": "code",
   "execution_count": 30,
   "metadata": {
    "_uuid": "96b76c70a914d3b9d20a4aefe0742e625890f73e",
    "execution": {
     "iopub.execute_input": "2021-10-02T12:10:08.174726Z",
     "iopub.status.busy": "2021-10-02T12:10:08.174328Z",
     "iopub.status.idle": "2021-10-02T12:10:08.180366Z",
     "shell.execute_reply": "2021-10-02T12:10:08.179545Z",
     "shell.execute_reply.started": "2021-10-02T12:10:08.174530Z"
    }
   },
   "outputs": [],
   "source": [
    "y_pred = reg.predict(X_train)"
   ]
  },
  {
   "cell_type": "code",
   "execution_count": 31,
   "metadata": {
    "_uuid": "1a0a1be1b53f2e4e5ee260d9bc27099403c703fa",
    "execution": {
     "iopub.execute_input": "2021-10-02T12:10:08.182071Z",
     "iopub.status.busy": "2021-10-02T12:10:08.181698Z",
     "iopub.status.idle": "2021-10-02T12:10:08.196095Z",
     "shell.execute_reply": "2021-10-02T12:10:08.195205Z",
     "shell.execute_reply.started": "2021-10-02T12:10:08.181885Z"
    }
   },
   "outputs": [
    {
     "name": "stdout",
     "output_type": "stream",
     "text": [
      "R^2: 0.9710896062686184\n",
      "Adjusted R^2: 0.969984208861242\n",
      "MAE: 0.9407062146892659\n",
      "MSE: 2.1761093220338994\n",
      "RMSE: 1.4751641678246863\n"
     ]
    }
   ],
   "source": [
    "print('R^2:',metrics.r2_score(y_train, y_pred))\n",
    "print('Adjusted R^2:',1 - (1-metrics.r2_score(y_train, y_pred))*(len(y_train)-1)/(len(y_train)-X_train.shape[1]-1))\n",
    "print('MAE:',metrics.mean_absolute_error(y_train, y_pred))\n",
    "print('MSE:',metrics.mean_squared_error(y_train, y_pred))\n",
    "print('RMSE:',np.sqrt(metrics.mean_squared_error(y_train, y_pred)))"
   ]
  },
  {
   "cell_type": "code",
   "execution_count": 32,
   "metadata": {
    "_uuid": "b02cec6f66440794e5108df5f5474e920d1fe98a",
    "execution": {
     "iopub.execute_input": "2021-10-02T12:10:08.198126Z",
     "iopub.status.busy": "2021-10-02T12:10:08.197655Z",
     "iopub.status.idle": "2021-10-02T12:10:08.404346Z",
     "shell.execute_reply": "2021-10-02T12:10:08.403390Z",
     "shell.execute_reply.started": "2021-10-02T12:10:08.198085Z"
    }
   },
   "outputs": [
    {
     "data": {
      "image/png": "[encoded data removed]",
      "text/plain": [
       "<Figure size 432x288 with 1 Axes>"
      ]
     },
     "metadata": {},
     "output_type": "display_data"
    }
   ],
   "source": [
    "plt.scatter(y_train, y_pred)\n",
    "plt.xlabel(\"Prices\")\n",
    "plt.ylabel(\"Predicted prices\")\n",
    "plt.title(\"Prices vs Predicted prices\")\n",
    "plt.show()"
   ]
  },
  {
   "cell_type": "code",
   "execution_count": 33,
   "metadata": {
    "_uuid": "daf4eff8a6666267fda29751966ec7d6fe7e6d98",
    "execution": {
     "iopub.execute_input": "2021-10-02T12:10:08.406523Z",
     "iopub.status.busy": "2021-10-02T12:10:08.405954Z",
     "iopub.status.idle": "2021-10-02T12:10:08.611174Z",
     "shell.execute_reply": "2021-10-02T12:10:08.610194Z",
     "shell.execute_reply.started": "2021-10-02T12:10:08.406465Z"
    }
   },
   "outputs": [
    {
     "data": {
      "image/png": "[encoded data removed]",
      "text/plain": [
       "<Figure size 432x288 with 1 Axes>"
      ]
     },
     "metadata": {},
     "output_type": "display_data"
    }
   ],
   "source": [
    "plt.scatter(y_pred,y_train-y_pred)\n",
    "plt.title(\"Predicted vs residuals\")\n",
    "plt.xlabel(\"Predicted\")\n",
    "plt.ylabel(\"Residuals\")\n",
    "plt.show()"
   ]
  },
  {
   "cell_type": "code",
   "execution_count": 34,
   "metadata": {
    "_uuid": "78c445bf1a9e2a03850b6042742b53e0f1620d7c",
    "execution": {
     "iopub.execute_input": "2021-10-02T12:10:08.613394Z",
     "iopub.status.busy": "2021-10-02T12:10:08.612794Z",
     "iopub.status.idle": "2021-10-02T12:10:08.622136Z",
     "shell.execute_reply": "2021-10-02T12:10:08.621036Z",
     "shell.execute_reply.started": "2021-10-02T12:10:08.613332Z"
    }
   },
   "outputs": [],
   "source": [
    "y_test_pred = reg.predict(X_test)"
   ]
  },
  {
   "cell_type": "code",
   "execution_count": 35,
   "metadata": {
    "_uuid": "bb95f57e021dcda311e9da08163f9ca0479dc600",
    "execution": {
     "iopub.execute_input": "2021-10-02T12:10:08.625059Z",
     "iopub.status.busy": "2021-10-02T12:10:08.624534Z",
     "iopub.status.idle": "2021-10-02T12:10:08.640014Z",
     "shell.execute_reply": "2021-10-02T12:10:08.638624Z",
     "shell.execute_reply.started": "2021-10-02T12:10:08.624842Z"
    }
   },
   "outputs": [
    {
     "name": "stdout",
     "output_type": "stream",
     "text": [
      "R^2: 0.8292856641455215\n",
      "Adjusted R^2: 0.8132038788838678\n",
      "MAE: 2.6426973684210524\n",
      "MSE: 17.826003289473682\n",
      "RMSE: 4.222085182640645\n"
     ]
    }
   ],
   "source": [
    "acc_rf = metrics.r2_score(y_test, y_test_pred)\n",
    "print('R^2:', acc_rf)\n",
    "print('Adjusted R^2:',1 - (1-metrics.r2_score(y_test, y_test_pred))*(len(y_test)-1)/(len(y_test)-X_test.shape[1]-1))\n",
    "print('MAE:',metrics.mean_absolute_error(y_test, y_test_pred))\n",
    "print('MSE:',metrics.mean_squared_error(y_test, y_test_pred))\n",
    "print('RMSE:',np.sqrt(metrics.mean_squared_error(y_test, y_test_pred)))"
   ]
  },
  {
   "cell_type": "code",
   "execution_count": 36,
   "metadata": {
    "_uuid": "c6d191c4c3ded9af5367084d4261e22e499ffa6d",
    "execution": {
     "iopub.execute_input": "2021-10-02T12:10:08.642676Z",
     "iopub.status.busy": "2021-10-02T12:10:08.642109Z",
     "iopub.status.idle": "2021-10-02T12:10:08.701199Z",
     "shell.execute_reply": "2021-10-02T12:10:08.699800Z",
     "shell.execute_reply.started": "2021-10-02T12:10:08.642422Z"
    }
   },
   "outputs": [
    {
     "data": {
      "text/plain": [
       "XGBRegressor(base_score=0.5, booster='gbtree', colsample_bylevel=1,\n",
       "       colsample_bytree=1, gamma=0, learning_rate=0.1, max_delta_step=0,\n",
       "       max_depth=3, min_child_weight=1, missing=None, n_estimators=100,\n",
       "       n_jobs=1, nthread=None, objective='reg:linear', random_state=0,\n",
       "       reg_alpha=0, reg_lambda=1, scale_pos_weight=1, seed=None,\n",
       "       silent=True, subsample=1)"
      ]
     },
     "execution_count": 36,
     "metadata": {},
     "output_type": "execute_result"
    }
   ],
   "source": [
    "from xgboost import XGBRegressor\n",
    "reg = XGBRegressor()\n",
    "reg.fit(X_train, y_train)"
   ]
  },
  {
   "cell_type": "code",
   "execution_count": 37,
   "metadata": {
    "_uuid": "242ef4a922e91e75c0d61be702a3c6ef57ac955b",
    "execution": {
     "iopub.execute_input": "2021-10-02T12:10:08.702665Z",
     "iopub.status.busy": "2021-10-02T12:10:08.702368Z",
     "iopub.status.idle": "2021-10-02T12:10:08.709355Z",
     "shell.execute_reply": "2021-10-02T12:10:08.708608Z",
     "shell.execute_reply.started": "2021-10-02T12:10:08.702606Z"
    }
   },
   "outputs": [],
   "source": [
    "y_pred = reg.predict(X_train)"
   ]
  },
  {
   "cell_type": "code",
   "execution_count": 38,
   "metadata": {
    "_uuid": "41e25ef2b58e5b0a5c1300425a4282dd8e0a0955",
    "execution": {
     "iopub.execute_input": "2021-10-02T12:10:08.711016Z",
     "iopub.status.busy": "2021-10-02T12:10:08.710798Z",
     "iopub.status.idle": "2021-10-02T12:10:08.722464Z",
     "shell.execute_reply": "2021-10-02T12:10:08.721673Z",
     "shell.execute_reply.started": "2021-10-02T12:10:08.710976Z"
    }
   },
   "outputs": [
    {
     "name": "stdout",
     "output_type": "stream",
     "text": [
      "R^2: 0.9703652512761263\n",
      "Adjusted R^2: 0.9692321579425663\n",
      "MAE: 1.1372202838208043\n",
      "MSE: 2.230632123289034\n",
      "RMSE: 1.4935300878419002\n"
     ]
    }
   ],
   "source": [
    "print('R^2:',metrics.r2_score(y_train, y_pred))\n",
    "print('Adjusted R^2:',1 - (1-metrics.r2_score(y_train, y_pred))*(len(y_train)-1)/(len(y_train)-X_train.shape[1]-1))\n",
    "print('MAE:',metrics.mean_absolute_error(y_train, y_pred))\n",
    "print('MSE:',metrics.mean_squared_error(y_train, y_pred))\n",
    "print('RMSE:',np.sqrt(metrics.mean_squared_error(y_train, y_pred)))"
   ]
  },
  {
   "cell_type": "code",
   "execution_count": 39,
   "metadata": {
    "_uuid": "85df05cbc687636df454c4e5e0059492bcd77ce6",
    "execution": {
     "iopub.execute_input": "2021-10-02T12:10:08.724168Z",
     "iopub.status.busy": "2021-10-02T12:10:08.723950Z",
     "iopub.status.idle": "2021-10-02T12:10:08.923322Z",
     "shell.execute_reply": "2021-10-02T12:10:08.922097Z",
     "shell.execute_reply.started": "2021-10-02T12:10:08.724127Z"
    }
   },
   "outputs": [
    {
     "data": {
      "image/png": "[encoded data removed]",
      "text/plain": [
       "<Figure size 432x288 with 1 Axes>"
      ]
     },
     "metadata": {},
     "output_type": "display_data"
    }
   ],
   "source": [
    "plt.scatter(y_train, y_pred)\n",
    "plt.xlabel(\"Prices\")\n",
    "plt.ylabel(\"Predicted prices\")\n",
    "plt.title(\"Prices vs Predicted prices\")\n",
    "plt.show()"
   ]
  },
  {
   "cell_type": "code",
   "execution_count": 40,
   "metadata": {
    "_uuid": "04df87e9670c3cc1b07d4525dd67605d8d4eb542",
    "execution": {
     "iopub.execute_input": "2021-10-02T12:10:08.925505Z",
     "iopub.status.busy": "2021-10-02T12:10:08.925161Z",
     "iopub.status.idle": "2021-10-02T12:10:09.146417Z",
     "shell.execute_reply": "2021-10-02T12:10:09.145077Z",
     "shell.execute_reply.started": "2021-10-02T12:10:08.925436Z"
    }
   },
   "outputs": [
    {
     "data": {
      "image/png": "[encoded data removed]",
      "text/plain": [
       "<Figure size 432x288 with 1 Axes>"
      ]
     },
     "metadata": {},
     "output_type": "display_data"
    }
   ],
   "source": [
    "plt.scatter(y_pred,y_train-y_pred)\n",
    "plt.title(\"Predicted vs residuals\")\n",
    "plt.xlabel(\"Predicted\")\n",
    "plt.ylabel(\"Residuals\")\n",
    "plt.show()"
   ]
  },
  {
   "cell_type": "code",
   "execution_count": 41,
   "metadata": {
    "_uuid": "df2ead1c6dcee03e3143e1e139a42b050e1de3ca",
    "execution": {
     "iopub.execute_input": "2021-10-02T12:10:09.148564Z",
     "iopub.status.busy": "2021-10-02T12:10:09.148215Z",
     "iopub.status.idle": "2021-10-02T12:10:09.156730Z",
     "shell.execute_reply": "2021-10-02T12:10:09.155342Z",
     "shell.execute_reply.started": "2021-10-02T12:10:09.148501Z"
    }
   },
   "outputs": [],
   "source": [
    "y_test_pred = reg.predict(X_test)"
   ]
  },
  {
   "cell_type": "code",
   "execution_count": 42,
   "metadata": {
    "_uuid": "4cfe00224641dca28997a6f4b05bdc2dece952ca",
    "execution": {
     "iopub.execute_input": "2021-10-02T12:10:09.162670Z",
     "iopub.status.busy": "2021-10-02T12:10:09.159781Z",
     "iopub.status.idle": "2021-10-02T12:10:09.180925Z",
     "shell.execute_reply": "2021-10-02T12:10:09.179964Z",
     "shell.execute_reply.started": "2021-10-02T12:10:09.162599Z"
    }
   },
   "outputs": [
    {
     "name": "stdout",
     "output_type": "stream",
     "text": [
      "R^2: 0.8494894736313225\n",
      "Adjusted R^2: 0.8353109457849979\n",
      "MAE: 2.4509708843733136\n",
      "MSE: 15.716320042597493\n",
      "RMSE: 3.9643814199188117\n"
     ]
    }
   ],
   "source": [
    "acc_xgb = metrics.r2_score(y_test, y_test_pred)\n",
    "print('R^2:', acc_xgb)\n",
    "print('Adjusted R^2:',1 - (1-metrics.r2_score(y_test, y_test_pred))*(len(y_test)-1)/(len(y_test)-X_test.shape[1]-1))\n",
    "print('MAE:',metrics.mean_absolute_error(y_test, y_test_pred))\n",
    "print('MSE:',metrics.mean_squared_error(y_test, y_test_pred))\n",
    "print('RMSE:',np.sqrt(metrics.mean_squared_error(y_test, y_test_pred)))"
   ]
  },
  {
   "cell_type": "code",
   "execution_count": 43,
   "metadata": {
    "_uuid": "e7d40a6ff89aa230a6e3bea996aa93316300ed9a",
    "execution": {
     "iopub.execute_input": "2021-10-02T12:10:09.183635Z",
     "iopub.status.busy": "2021-10-02T12:10:09.182759Z",
     "iopub.status.idle": "2021-10-02T12:10:09.194451Z",
     "shell.execute_reply": "2021-10-02T12:10:09.193410Z",
     "shell.execute_reply.started": "2021-10-02T12:10:09.183571Z"
    }
   },
   "outputs": [],
   "source": [
    "from sklearn.preprocessing import StandardScaler\n",
    "sc = StandardScaler()\n",
    "X_train = sc.fit_transform(X_train)\n",
    "X_test = sc.transform(X_test)"
   ]
  },
  {
   "cell_type": "code",
   "execution_count": 44,
   "metadata": {
    "_uuid": "519df75a3e65e691e203efa21693814f25cc305d",
    "execution": {
     "iopub.execute_input": "2021-10-02T12:10:09.196475Z",
     "iopub.status.busy": "2021-10-02T12:10:09.196063Z",
     "iopub.status.idle": "2021-10-02T12:10:09.201273Z",
     "shell.execute_reply": "2021-10-02T12:10:09.200679Z",
     "shell.execute_reply.started": "2021-10-02T12:10:09.196416Z"
    },
    "scrolled": true
   },
   "outputs": [],
   "source": [
    "from sklearn import svm\n",
    "reg = svm.SVR()"
   ]
  },
  {
   "cell_type": "code",
   "execution_count": 45,
   "metadata": {
    "_uuid": "35d7e0b6ac09dfdca6d9fc5328cf42bfb7b287ca",
    "execution": {
     "iopub.execute_input": "2021-10-02T12:10:09.202885Z",
     "iopub.status.busy": "2021-10-02T12:10:09.202569Z",
     "iopub.status.idle": "2021-10-02T12:10:09.225697Z",
     "shell.execute_reply": "2021-10-02T12:10:09.224938Z",
     "shell.execute_reply.started": "2021-10-02T12:10:09.202735Z"
    }
   },
   "outputs": [
    {
     "data": {
      "text/plain": [
       "SVR(C=1.0, cache_size=200, coef0=0.0, degree=3, epsilon=0.1,\n",
       "  gamma='auto_deprecated', kernel='rbf', max_iter=-1, shrinking=True,\n",
       "  tol=0.001, verbose=False)"
      ]
     },
     "execution_count": 45,
     "metadata": {},
     "output_type": "execute_result"
    }
   ],
   "source": [
    "reg.fit(X_train, y_train)"
   ]
  },
  {
   "cell_type": "code",
   "execution_count": 46,
   "metadata": {
    "_uuid": "829074eccb90898b90ce05559579d433ebd7d6d2",
    "execution": {
     "iopub.execute_input": "2021-10-02T12:10:09.227338Z",
     "iopub.status.busy": "2021-10-02T12:10:09.227015Z",
     "iopub.status.idle": "2021-10-02T12:10:09.236202Z",
     "shell.execute_reply": "2021-10-02T12:10:09.235138Z",
     "shell.execute_reply.started": "2021-10-02T12:10:09.227191Z"
    }
   },
   "outputs": [],
   "source": [
    "y_pred = reg.predict(X_train)"
   ]
  },
  {
   "cell_type": "code",
   "execution_count": 47,
   "metadata": {
    "_uuid": "e8a70552dd201f2ee41d9e66fc976807cf6aeff4",
    "execution": {
     "iopub.execute_input": "2021-10-02T12:10:09.237300Z",
     "iopub.status.busy": "2021-10-02T12:10:09.237065Z",
     "iopub.status.idle": "2021-10-02T12:10:09.246973Z",
     "shell.execute_reply": "2021-10-02T12:10:09.246241Z",
     "shell.execute_reply.started": "2021-10-02T12:10:09.237268Z"
    }
   },
   "outputs": [
    {
     "name": "stdout",
     "output_type": "stream",
     "text": [
      "R^2: 0.6419097248941195\n",
      "Adjusted R^2: 0.628218037904777\n",
      "MAE: 2.9361501059460293\n",
      "MSE: 26.953752101332935\n",
      "RMSE: 5.191700309275655\n"
     ]
    }
   ],
   "source": [
    "print('R^2:',metrics.r2_score(y_train, y_pred))\n",
    "print('Adjusted R^2:',1 - (1-metrics.r2_score(y_train, y_pred))*(len(y_train)-1)/(len(y_train)-X_train.shape[1]-1))\n",
    "print('MAE:',metrics.mean_absolute_error(y_train, y_pred))\n",
    "print('MSE:',metrics.mean_squared_error(y_train, y_pred))\n",
    "print('RMSE:',np.sqrt(metrics.mean_squared_error(y_train, y_pred)))"
   ]
  },
  {
   "cell_type": "code",
   "execution_count": 48,
   "metadata": {
    "_uuid": "378d3d7cef08763ac0ba33f678fe312b489abb10",
    "execution": {
     "iopub.execute_input": "2021-10-02T12:10:09.248436Z",
     "iopub.status.busy": "2021-10-02T12:10:09.248166Z",
     "iopub.status.idle": "2021-10-02T12:10:09.461565Z",
     "shell.execute_reply": "2021-10-02T12:10:09.460267Z",
     "shell.execute_reply.started": "2021-10-02T12:10:09.248388Z"
    }
   },
   "outputs": [
    {
     "data": {
      "image/png": "[encoded data removed]",
      "text/plain": [
       "<Figure size 432x288 with 1 Axes>"
      ]
     },
     "metadata": {},
     "output_type": "display_data"
    }
   ],
   "source": [
    "plt.scatter(y_train, y_pred)\n",
    "plt.xlabel(\"Prices\")\n",
    "plt.ylabel(\"Predicted prices\")\n",
    "plt.title(\"Prices vs Predicted prices\")\n",
    "plt.show()"
   ]
  },
  {
   "cell_type": "code",
   "execution_count": 49,
   "metadata": {
    "_uuid": "61aa86222c5a5f704cb9de6d3f4a76302ea2bb2e",
    "execution": {
     "iopub.execute_input": "2021-10-02T12:10:09.463465Z",
     "iopub.status.busy": "2021-10-02T12:10:09.463118Z",
     "iopub.status.idle": "2021-10-02T12:10:09.683293Z",
     "shell.execute_reply": "2021-10-02T12:10:09.682260Z",
     "shell.execute_reply.started": "2021-10-02T12:10:09.463398Z"
    }
   },
   "outputs": [
    {
     "data": {
      "image/png": "[encoded data removed]",
      "text/plain": [
       "<Figure size 432x288 with 1 Axes>"
      ]
     },
     "metadata": {},
     "output_type": "display_data"
    }
   ],
   "source": [
    "plt.scatter(y_pred,y_train-y_pred)\n",
    "plt.title(\"Predicted vs residuals\")\n",
    "plt.xlabel(\"Predicted\")\n",
    "plt.ylabel(\"Residuals\")\n",
    "plt.show()"
   ]
  },
  {
   "cell_type": "code",
   "execution_count": 50,
   "metadata": {
    "_uuid": "0c4a9a7cd7ec0910b662763d1a93ada5ec2aab61",
    "execution": {
     "iopub.execute_input": "2021-10-02T12:10:09.685494Z",
     "iopub.status.busy": "2021-10-02T12:10:09.684952Z",
     "iopub.status.idle": "2021-10-02T12:10:09.695249Z",
     "shell.execute_reply": "2021-10-02T12:10:09.694297Z",
     "shell.execute_reply.started": "2021-10-02T12:10:09.685422Z"
    }
   },
   "outputs": [],
   "source": [
    "y_test_pred = reg.predict(X_test)"
   ]
  },
  {
   "cell_type": "code",
   "execution_count": 51,
   "metadata": {
    "_uuid": "9184c04875d7b80ee068c5fa158fbc96ba8491e3",
    "execution": {
     "iopub.execute_input": "2021-10-02T12:10:09.697735Z",
     "iopub.status.busy": "2021-10-02T12:10:09.696904Z",
     "iopub.status.idle": "2021-10-02T12:10:09.712989Z",
     "shell.execute_reply": "2021-10-02T12:10:09.711867Z",
     "shell.execute_reply.started": "2021-10-02T12:10:09.697657Z"
    }
   },
   "outputs": [
    {
     "name": "stdout",
     "output_type": "stream",
     "text": [
      "R^2: 0.5900158460478174\n",
      "Adjusted R^2: 0.5513941503856553\n",
      "MAE: 3.7561453553021686\n",
      "MSE: 42.81057499010247\n",
      "RMSE: 6.542979060802691\n"
     ]
    }
   ],
   "source": [
    "acc_svm = metrics.r2_score(y_test, y_test_pred)\n",
    "print('R^2:', acc_svm)\n",
    "print('Adjusted R^2:',1 - (1-metrics.r2_score(y_test, y_test_pred))*(len(y_test)-1)/(len(y_test)-X_test.shape[1]-1))\n",
    "print('MAE:',metrics.mean_absolute_error(y_test, y_test_pred))\n",
    "print('MSE:',metrics.mean_squared_error(y_test, y_test_pred))\n",
    "print('RMSE:',np.sqrt(metrics.mean_squared_error(y_test, y_test_pred)))"
   ]
  },
  {
   "cell_type": "code",
   "execution_count": 52,
   "metadata": {
    "_uuid": "57ebbecee4e34cd60bd0f03cc2f291ff52b263cc",
    "execution": {
     "iopub.execute_input": "2021-10-02T12:10:09.718424Z",
     "iopub.status.busy": "2021-10-02T12:10:09.718034Z",
     "iopub.status.idle": "2021-10-02T12:10:09.740824Z",
     "shell.execute_reply": "2021-10-02T12:10:09.739900Z",
     "shell.execute_reply.started": "2021-10-02T12:10:09.718357Z"
    }
   },
   "outputs": [
    {
     "data": {
      "text/html": [
       "<div>\n",
       "<style scoped>\n",
       "    .dataframe tbody tr th:only-of-type {\n",
       "        vertical-align: middle;\n",
       "    }\n",
       "\n",
       "    .dataframe tbody tr th {\n",
       "        vertical-align: top;\n",
       "    }\n",
       "\n",
       "    .dataframe thead th {\n",
       "        text-align: right;\n",
       "    }\n",
       "</style>\n",
       "<table border=\"1\" class=\"dataframe\">\n",
       "  <thead>\n",
       "    <tr style=\"text-align: right;\">\n",
       "      <th></th>\n",
       "      <th>Model</th>\n",
       "      <th>R-squared Score</th>\n",
       "    </tr>\n",
       "  </thead>\n",
       "  <tbody>\n",
       "    <tr>\n",
       "      <th>2</th>\n",
       "      <td>XGBoost</td>\n",
       "      <td>84.948947</td>\n",
       "    </tr>\n",
       "    <tr>\n",
       "      <th>1</th>\n",
       "      <td>Random Forest</td>\n",
       "      <td>82.928566</td>\n",
       "    </tr>\n",
       "    <tr>\n",
       "      <th>0</th>\n",
       "      <td>Linear Regression</td>\n",
       "      <td>71.218184</td>\n",
       "    </tr>\n",
       "    <tr>\n",
       "      <th>3</th>\n",
       "      <td>Support Vector Machines</td>\n",
       "      <td>59.001585</td>\n",
       "    </tr>\n",
       "  </tbody>\n",
       "</table>\n",
       "</div>"
      ],
      "text/plain": [
       "                     Model  R-squared Score\n",
       "2                  XGBoost        84.948947\n",
       "1            Random Forest        82.928566\n",
       "0        Linear Regression        71.218184\n",
       "3  Support Vector Machines        59.001585"
      ]
     },
     "execution_count": 52,
     "metadata": {},
     "output_type": "execute_result"
    }
   ],
   "source": [
    "models = pd.DataFrame({\n",
    "    'Model': ['Linear Regression', 'Random Forest', 'XGBoost', 'Support Vector Machines'],\n",
    "    'R-squared Score': [acc_linreg*100, acc_rf*100, acc_xgb*100, acc_svm*100]})\n",
    "models.sort_values(by='R-squared Score', ascending=False)"
   ]
  },
  {
   "cell_type": "code",
   "execution_count": 53,
   "metadata": {
    "execution": {
     "iopub.execute_input": "2021-10-02T12:10:09.742305Z",
     "iopub.status.busy": "2021-10-02T12:10:09.741962Z",
     "iopub.status.idle": "2021-10-02T12:10:09.749349Z",
     "shell.execute_reply": "2021-10-02T12:10:09.748263Z",
     "shell.execute_reply.started": "2021-10-02T12:10:09.742136Z"
    }
   },
   "outputs": [],
   "source": [
    "from sklearn import preprocessing\n",
    "\n",
    "data_scaler = preprocessing.MinMaxScaler()\n",
    "target_scaler = preprocessing.MinMaxScaler()\n",
    "\n",
    "data = data_scaler.fit_transform(data)\n",
    "target = target_scaler.fit_transform(boston.target.reshape(-1, 1))"
   ]
  },
  {
   "cell_type": "code",
   "execution_count": 54,
   "metadata": {
    "execution": {
     "iopub.execute_input": "2021-10-02T12:10:09.751254Z",
     "iopub.status.busy": "2021-10-02T12:10:09.750768Z",
     "iopub.status.idle": "2021-10-02T12:10:09.758364Z",
     "shell.execute_reply": "2021-10-02T12:10:09.757592Z",
     "shell.execute_reply.started": "2021-10-02T12:10:09.751042Z"
    }
   },
   "outputs": [],
   "source": [
    "X = data[:,0:10]"
   ]
  },
  {
   "cell_type": "code",
   "execution_count": 55,
   "metadata": {
    "execution": {
     "iopub.execute_input": "2021-10-02T12:10:09.759855Z",
     "iopub.status.busy": "2021-10-02T12:10:09.759596Z",
     "iopub.status.idle": "2021-10-02T12:10:09.768535Z",
     "shell.execute_reply": "2021-10-02T12:10:09.767883Z",
     "shell.execute_reply.started": "2021-10-02T12:10:09.759814Z"
    }
   },
   "outputs": [],
   "source": [
    "Y = data[:,10]"
   ]
  },
  {
   "cell_type": "code",
   "execution_count": 56,
   "metadata": {
    "execution": {
     "iopub.execute_input": "2021-10-02T12:10:09.769918Z",
     "iopub.status.busy": "2021-10-02T12:10:09.769642Z",
     "iopub.status.idle": "2021-10-02T12:10:09.781761Z",
     "shell.execute_reply": "2021-10-02T12:10:09.780660Z",
     "shell.execute_reply.started": "2021-10-02T12:10:09.769874Z"
    }
   },
   "outputs": [
    {
     "data": {
      "text/plain": [
       "array([[0.00000000e+00, 1.80000000e-01, 6.78152493e-02, ...,\n",
       "        2.69203139e-01, 0.00000000e+00, 2.08015267e-01],\n",
       "       [2.35922539e-04, 0.00000000e+00, 2.42302053e-01, ...,\n",
       "        3.48961980e-01, 4.34782609e-02, 1.04961832e-01],\n",
       "       [2.35697744e-04, 0.00000000e+00, 2.42302053e-01, ...,\n",
       "        3.48961980e-01, 4.34782609e-02, 1.04961832e-01],\n",
       "       ...,\n",
       "       [6.11892474e-04, 0.00000000e+00, 4.20454545e-01, ...,\n",
       "        9.43811438e-02, 0.00000000e+00, 1.64122137e-01],\n",
       "       [1.16072990e-03, 0.00000000e+00, 4.20454545e-01, ...,\n",
       "        1.14514090e-01, 0.00000000e+00, 1.64122137e-01],\n",
       "       [4.61841693e-04, 0.00000000e+00, 4.20454545e-01, ...,\n",
       "        1.25071611e-01, 0.00000000e+00, 1.64122137e-01]])"
      ]
     },
     "execution_count": 56,
     "metadata": {},
     "output_type": "execute_result"
    }
   ],
   "source": [
    "X"
   ]
  },
  {
   "cell_type": "code",
   "execution_count": 57,
   "metadata": {
    "execution": {
     "iopub.execute_input": "2021-10-02T12:10:09.783623Z",
     "iopub.status.busy": "2021-10-02T12:10:09.783114Z",
     "iopub.status.idle": "2021-10-02T12:10:09.796801Z",
     "shell.execute_reply": "2021-10-02T12:10:09.796066Z",
     "shell.execute_reply.started": "2021-10-02T12:10:09.783553Z"
    }
   },
   "outputs": [
    {
     "data": {
      "text/plain": [
       "array([0.28723404, 0.55319149, 0.55319149, 0.64893617, 0.64893617,\n",
       "       0.64893617, 0.27659574, 0.27659574, 0.27659574, 0.27659574,\n",
       "       0.27659574, 0.27659574, 0.27659574, 0.89361702, 0.89361702,\n",
       "       0.89361702, 0.89361702, 0.89361702, 0.89361702, 0.89361702,\n",
       "       0.89361702, 0.89361702, 0.89361702, 0.89361702, 0.89361702,\n",
       "       0.89361702, 0.89361702, 0.89361702, 0.89361702, 0.89361702,\n",
       "       0.89361702, 0.89361702, 0.89361702, 0.89361702, 0.89361702,\n",
       "       0.70212766, 0.70212766, 0.70212766, 0.70212766, 0.60638298,\n",
       "       0.60638298, 0.56382979, 0.56382979, 0.56382979, 0.56382979,\n",
       "       0.56382979, 0.56382979, 0.56382979, 0.56382979, 0.56382979,\n",
       "       0.44680851, 0.44680851, 0.44680851, 0.44680851, 0.90425532,\n",
       "       0.56382979, 0.5       , 0.26595745, 0.75531915, 0.75531915,\n",
       "       0.75531915, 0.75531915, 0.75531915, 0.75531915, 0.63829787,\n",
       "       0.37234043, 0.37234043, 0.67021277, 0.67021277, 0.67021277,\n",
       "       0.70212766, 0.70212766, 0.70212766, 0.70212766, 0.64893617,\n",
       "       0.64893617, 0.64893617, 0.64893617, 0.64893617, 0.64893617,\n",
       "       0.68085106, 0.68085106, 0.68085106, 0.68085106, 0.62765957,\n",
       "       0.62765957, 0.62765957, 0.62765957, 0.55319149, 0.55319149,\n",
       "       0.55319149, 0.55319149, 0.59574468, 0.59574468, 0.59574468,\n",
       "       0.57446809, 0.57446809, 0.57446809, 0.57446809, 0.57446809,\n",
       "       0.88297872, 0.88297872, 0.88297872, 0.88297872, 0.88297872,\n",
       "       0.88297872, 0.88297872, 0.88297872, 0.88297872, 0.88297872,\n",
       "       0.88297872, 0.55319149, 0.55319149, 0.55319149, 0.55319149,\n",
       "       0.55319149, 0.55319149, 0.55319149, 0.55319149, 0.55319149,\n",
       "       0.69148936, 0.69148936, 0.69148936, 0.69148936, 0.69148936,\n",
       "       0.69148936, 0.69148936, 0.91489362, 0.91489362, 0.91489362,\n",
       "       0.91489362, 0.91489362, 0.91489362, 0.91489362, 0.91489362,\n",
       "       0.91489362, 0.91489362, 0.91489362, 0.91489362, 0.91489362,\n",
       "       0.91489362, 0.91489362, 0.22340426, 0.22340426, 0.22340426,\n",
       "       0.22340426, 0.22340426, 0.22340426, 0.22340426, 0.22340426,\n",
       "       0.22340426, 0.22340426, 0.22340426, 0.22340426, 0.22340426,\n",
       "       0.22340426, 0.22340426, 0.22340426, 0.22340426, 0.22340426,\n",
       "       0.22340426, 0.22340426, 0.22340426, 0.22340426, 0.22340426,\n",
       "       0.22340426, 0.22340426, 0.22340426, 0.22340426, 0.22340426,\n",
       "       0.22340426, 0.22340426, 0.42553191, 0.42553191, 0.42553191,\n",
       "       0.42553191, 0.42553191, 0.42553191, 0.42553191, 0.55319149,\n",
       "       0.55319149, 0.55319149, 0.55319149, 0.55319149, 0.55319149,\n",
       "       0.55319149, 0.55319149, 0.27659574, 0.27659574, 0.27659574,\n",
       "       0.27659574, 0.27659574, 0.27659574, 0.31914894, 0.31914894,\n",
       "       0.19148936, 0.        , 0.        , 0.        , 0.46808511,\n",
       "       0.46808511, 0.22340426, 0.22340426, 0.22340426, 0.22340426,\n",
       "       0.63829787, 0.63829787, 0.63829787, 0.63829787, 0.63829787,\n",
       "       0.63829787, 0.63829787, 0.63829787, 0.63829787, 0.63829787,\n",
       "       0.63829787, 0.40425532, 0.40425532, 0.40425532, 0.40425532,\n",
       "       0.5106383 , 0.5106383 , 0.5106383 , 0.5106383 , 0.5106383 ,\n",
       "       0.5106383 , 0.5106383 , 0.5106383 , 0.5106383 , 0.5106383 ,\n",
       "       0.5106383 , 0.5106383 , 0.5106383 , 0.5106383 , 0.5106383 ,\n",
       "       0.5106383 , 0.5106383 , 0.5106383 , 0.42553191, 0.42553191,\n",
       "       0.42553191, 0.42553191, 0.42553191, 0.42553191, 0.69148936,\n",
       "       0.69148936, 0.69148936, 0.69148936, 0.69148936, 0.69148936,\n",
       "       0.69148936, 0.69148936, 0.69148936, 0.69148936, 0.40425532,\n",
       "       0.40425532, 0.35106383, 0.04255319, 0.04255319, 0.04255319,\n",
       "       0.04255319, 0.04255319, 0.04255319, 0.04255319, 0.04255319,\n",
       "       0.04255319, 0.04255319, 0.04255319, 0.04255319, 0.63829787,\n",
       "       0.63829787, 0.63829787, 0.63829787, 0.63829787, 0.53191489,\n",
       "       0.53191489, 0.53191489, 0.53191489, 0.53191489, 0.24468085,\n",
       "       0.24468085, 0.24468085, 0.24468085, 0.10638298, 0.28723404,\n",
       "       0.28723404, 0.59574468, 0.42553191, 0.42553191, 0.42553191,\n",
       "       0.70212766, 0.70212766, 0.70212766, 0.36170213, 0.36170213,\n",
       "       0.36170213, 0.36170213, 0.36170213, 0.23404255, 0.23404255,\n",
       "       0.23404255, 0.37234043, 0.37234043, 0.37234043, 0.61702128,\n",
       "       0.61702128, 0.61702128, 0.61702128, 0.61702128, 0.61702128,\n",
       "       0.61702128, 0.61702128, 0.61702128, 0.61702128, 0.61702128,\n",
       "       0.61702128, 0.61702128, 0.61702128, 0.61702128, 0.61702128,\n",
       "       0.74468085, 0.74468085, 0.74468085, 0.74468085, 0.74468085,\n",
       "       0.74468085, 0.74468085, 0.74468085, 0.45744681, 0.45744681,\n",
       "       0.45744681, 0.45744681, 0.45744681, 0.80851064, 0.80851064,\n",
       "       0.80851064, 0.80851064, 0.80851064, 0.80851064, 0.80851064,\n",
       "       0.80851064, 0.30851064, 0.35106383, 0.53191489, 0.53191489,\n",
       "       0.65957447, 0.65957447, 0.56382979, 0.46808511, 0.75531915,\n",
       "       0.75531915, 0.60638298, 0.60638298, 0.46808511, 1.        ,\n",
       "       1.        , 0.80851064, 0.80851064, 0.80851064, 0.80851064,\n",
       "       0.80851064, 0.80851064, 0.80851064, 0.80851064, 0.80851064,\n",
       "       0.80851064, 0.80851064, 0.80851064, 0.80851064, 0.80851064,\n",
       "       0.80851064, 0.80851064, 0.80851064, 0.80851064, 0.80851064,\n",
       "       0.80851064, 0.80851064, 0.80851064, 0.80851064, 0.80851064,\n",
       "       0.80851064, 0.80851064, 0.80851064, 0.80851064, 0.80851064,\n",
       "       0.80851064, 0.80851064, 0.80851064, 0.80851064, 0.80851064,\n",
       "       0.80851064, 0.80851064, 0.80851064, 0.80851064, 0.80851064,\n",
       "       0.80851064, 0.80851064, 0.80851064, 0.80851064, 0.80851064,\n",
       "       0.80851064, 0.80851064, 0.80851064, 0.80851064, 0.80851064,\n",
       "       0.80851064, 0.80851064, 0.80851064, 0.80851064, 0.80851064,\n",
       "       0.80851064, 0.80851064, 0.80851064, 0.80851064, 0.80851064,\n",
       "       0.80851064, 0.80851064, 0.80851064, 0.80851064, 0.80851064,\n",
       "       0.80851064, 0.80851064, 0.80851064, 0.80851064, 0.80851064,\n",
       "       0.80851064, 0.80851064, 0.80851064, 0.80851064, 0.80851064,\n",
       "       0.80851064, 0.80851064, 0.80851064, 0.80851064, 0.80851064,\n",
       "       0.80851064, 0.80851064, 0.80851064, 0.80851064, 0.80851064,\n",
       "       0.80851064, 0.80851064, 0.80851064, 0.80851064, 0.80851064,\n",
       "       0.80851064, 0.80851064, 0.80851064, 0.80851064, 0.80851064,\n",
       "       0.80851064, 0.80851064, 0.80851064, 0.80851064, 0.80851064,\n",
       "       0.80851064, 0.80851064, 0.80851064, 0.80851064, 0.80851064,\n",
       "       0.80851064, 0.80851064, 0.80851064, 0.80851064, 0.80851064,\n",
       "       0.80851064, 0.80851064, 0.80851064, 0.80851064, 0.80851064,\n",
       "       0.80851064, 0.80851064, 0.80851064, 0.80851064, 0.80851064,\n",
       "       0.80851064, 0.80851064, 0.80851064, 0.80851064, 0.80851064,\n",
       "       0.80851064, 0.80851064, 0.80851064, 0.80851064, 0.80851064,\n",
       "       0.80851064, 0.80851064, 0.80851064, 0.79787234, 0.79787234,\n",
       "       0.79787234, 0.79787234, 0.79787234, 0.70212766, 0.70212766,\n",
       "       0.70212766, 0.70212766, 0.70212766, 0.70212766, 0.70212766,\n",
       "       0.70212766, 0.89361702, 0.89361702, 0.89361702, 0.89361702,\n",
       "       0.89361702])"
      ]
     },
     "execution_count": 57,
     "metadata": {},
     "output_type": "execute_result"
    }
   ],
   "source": [
    "Y"
   ]
  },
  {
   "cell_type": "code",
   "execution_count": 58,
   "metadata": {
    "execution": {
     "iopub.execute_input": "2021-10-02T12:10:09.797972Z",
     "iopub.status.busy": "2021-10-02T12:10:09.797780Z",
     "iopub.status.idle": "2021-10-02T12:10:09.805678Z",
     "shell.execute_reply": "2021-10-02T12:10:09.805001Z",
     "shell.execute_reply.started": "2021-10-02T12:10:09.797942Z"
    }
   },
   "outputs": [],
   "source": [
    "from sklearn import preprocessing"
   ]
  },
  {
   "cell_type": "code",
   "execution_count": 59,
   "metadata": {
    "execution": {
     "iopub.execute_input": "2021-10-02T12:10:09.807267Z",
     "iopub.status.busy": "2021-10-02T12:10:09.806884Z",
     "iopub.status.idle": "2021-10-02T12:10:09.815936Z",
     "shell.execute_reply": "2021-10-02T12:10:09.815025Z",
     "shell.execute_reply.started": "2021-10-02T12:10:09.807230Z"
    }
   },
   "outputs": [],
   "source": [
    "min_max_scaler = preprocessing.MinMaxScaler()\n",
    "X_scale = min_max_scaler.fit_transform(X)"
   ]
  },
  {
   "cell_type": "code",
   "execution_count": 60,
   "metadata": {
    "execution": {
     "iopub.execute_input": "2021-10-02T12:10:09.817657Z",
     "iopub.status.busy": "2021-10-02T12:10:09.817223Z",
     "iopub.status.idle": "2021-10-02T12:10:09.827419Z",
     "shell.execute_reply": "2021-10-02T12:10:09.826562Z",
     "shell.execute_reply.started": "2021-10-02T12:10:09.817422Z"
    }
   },
   "outputs": [
    {
     "data": {
      "text/plain": [
       "array([[0.00000000e+00, 1.80000000e-01, 6.78152493e-02, ...,\n",
       "        2.69203139e-01, 0.00000000e+00, 2.08015267e-01],\n",
       "       [2.35922539e-04, 0.00000000e+00, 2.42302053e-01, ...,\n",
       "        3.48961980e-01, 4.34782609e-02, 1.04961832e-01],\n",
       "       [2.35697744e-04, 0.00000000e+00, 2.42302053e-01, ...,\n",
       "        3.48961980e-01, 4.34782609e-02, 1.04961832e-01],\n",
       "       ...,\n",
       "       [6.11892474e-04, 0.00000000e+00, 4.20454545e-01, ...,\n",
       "        9.43811438e-02, 0.00000000e+00, 1.64122137e-01],\n",
       "       [1.16072990e-03, 0.00000000e+00, 4.20454545e-01, ...,\n",
       "        1.14514090e-01, 0.00000000e+00, 1.64122137e-01],\n",
       "       [4.61841693e-04, 0.00000000e+00, 4.20454545e-01, ...,\n",
       "        1.25071611e-01, 0.00000000e+00, 1.64122137e-01]])"
      ]
     },
     "execution_count": 60,
     "metadata": {},
     "output_type": "execute_result"
    }
   ],
   "source": [
    "X_scale"
   ]
  },
  {
   "cell_type": "code",
   "execution_count": 61,
   "metadata": {
    "execution": {
     "iopub.execute_input": "2021-10-02T12:10:09.828830Z",
     "iopub.status.busy": "2021-10-02T12:10:09.828551Z",
     "iopub.status.idle": "2021-10-02T12:10:09.834322Z",
     "shell.execute_reply": "2021-10-02T12:10:09.833491Z",
     "shell.execute_reply.started": "2021-10-02T12:10:09.828779Z"
    }
   },
   "outputs": [],
   "source": [
    "from sklearn.model_selection import train_test_split"
   ]
  },
  {
   "cell_type": "code",
   "execution_count": 62,
   "metadata": {
    "execution": {
     "iopub.execute_input": "2021-10-02T12:10:09.836155Z",
     "iopub.status.busy": "2021-10-02T12:10:09.835763Z",
     "iopub.status.idle": "2021-10-02T12:10:09.845369Z",
     "shell.execute_reply": "2021-10-02T12:10:09.844670Z",
     "shell.execute_reply.started": "2021-10-02T12:10:09.836084Z"
    }
   },
   "outputs": [],
   "source": [
    "X_train, X_val_and_test, Y_train, Y_val_and_test = train_test_split(X_scale, Y, test_size=0.3)"
   ]
  },
  {
   "cell_type": "code",
   "execution_count": 63,
   "metadata": {
    "execution": {
     "iopub.execute_input": "2021-10-02T12:10:09.847228Z",
     "iopub.status.busy": "2021-10-02T12:10:09.846951Z",
     "iopub.status.idle": "2021-10-02T12:10:09.853980Z",
     "shell.execute_reply": "2021-10-02T12:10:09.853020Z",
     "shell.execute_reply.started": "2021-10-02T12:10:09.847174Z"
    }
   },
   "outputs": [],
   "source": [
    "X_val, X_test, Y_val, Y_test = train_test_split(X_val_and_test, Y_val_and_test, test_size=0.5)"
   ]
  },
  {
   "cell_type": "code",
   "execution_count": 64,
   "metadata": {
    "execution": {
     "iopub.execute_input": "2021-10-02T12:10:09.855858Z",
     "iopub.status.busy": "2021-10-02T12:10:09.855568Z",
     "iopub.status.idle": "2021-10-02T12:10:09.863407Z",
     "shell.execute_reply": "2021-10-02T12:10:09.862707Z",
     "shell.execute_reply.started": "2021-10-02T12:10:09.855807Z"
    }
   },
   "outputs": [
    {
     "name": "stdout",
     "output_type": "stream",
     "text": [
      "(354, 10) (76, 10) (76, 10) (354,) (76,) (76,)\n"
     ]
    }
   ],
   "source": [
    "print(X_train.shape, X_val.shape, X_test.shape, Y_train.shape, Y_val.shape, Y_test.shape)"
   ]
  },
  {
   "cell_type": "code",
   "execution_count": 65,
   "metadata": {
    "execution": {
     "iopub.execute_input": "2021-10-02T12:10:09.865104Z",
     "iopub.status.busy": "2021-10-02T12:10:09.864741Z",
     "iopub.status.idle": "2021-10-02T12:10:09.875601Z",
     "shell.execute_reply": "2021-10-02T12:10:09.874948Z",
     "shell.execute_reply.started": "2021-10-02T12:10:09.864981Z"
    }
   },
   "outputs": [
    {
     "name": "stderr",
     "output_type": "stream",
     "text": [
      "Using TensorFlow backend.\n"
     ]
    }
   ],
   "source": [
    "from keras.models import Sequential\n",
    "from keras.layers import Dense"
   ]
  },
  {
   "cell_type": "code",
   "execution_count": 66,
   "metadata": {
    "execution": {
     "iopub.execute_input": "2021-10-02T12:10:09.876694Z",
     "iopub.status.busy": "2021-10-02T12:10:09.876431Z",
     "iopub.status.idle": "2021-10-02T12:10:09.924859Z",
     "shell.execute_reply": "2021-10-02T12:10:09.923851Z",
     "shell.execute_reply.started": "2021-10-02T12:10:09.876652Z"
    }
   },
   "outputs": [],
   "source": [
    "model = Sequential([\n",
    "    Dense(32, activation='relu', input_shape=(10,)),\n",
    "    Dense(32, activation='relu'),\n",
    "    Dense(1, activation='sigmoid'),\n",
    "])"
   ]
  },
  {
   "cell_type": "code",
   "execution_count": 67,
   "metadata": {
    "execution": {
     "iopub.execute_input": "2021-10-02T12:10:09.926194Z",
     "iopub.status.busy": "2021-10-02T12:10:09.925975Z",
     "iopub.status.idle": "2021-10-02T12:10:09.970901Z",
     "shell.execute_reply": "2021-10-02T12:10:09.969721Z",
     "shell.execute_reply.started": "2021-10-02T12:10:09.926156Z"
    }
   },
   "outputs": [],
   "source": [
    "model.compile(optimizer='sgd',\n",
    "              loss='binary_crossentropy',\n",
    "              metrics=['accuracy'])"
   ]
  },
  {
   "cell_type": "code",
   "execution_count": 68,
   "metadata": {
    "execution": {
     "iopub.execute_input": "2021-10-02T12:10:09.972749Z",
     "iopub.status.busy": "2021-10-02T12:10:09.972424Z",
     "iopub.status.idle": "2021-10-02T12:10:12.367302Z",
     "shell.execute_reply": "2021-10-02T12:10:12.366425Z",
     "shell.execute_reply.started": "2021-10-02T12:10:09.972697Z"
    }
   },
   "outputs": [
    {
     "name": "stdout",
     "output_type": "stream",
     "text": [
      "Train on 354 samples, validate on 76 samples\n",
      "Epoch 1/100\n",
      "354/354 [==============================] - 0s 815us/step - loss: 0.6733 - acc: 0.0000e+00 - val_loss: 0.6593 - val_acc: 0.0000e+00\n",
      "Epoch 2/100\n",
      "354/354 [==============================] - 0s 46us/step - loss: 0.6709 - acc: 0.0000e+00 - val_loss: 0.6561 - val_acc: 0.0000e+00\n",
      "Epoch 3/100\n",
      "354/354 [==============================] - 0s 40us/step - loss: 0.6688 - acc: 0.0028 - val_loss: 0.6536 - val_acc: 0.0000e+00\n",
      "Epoch 4/100\n",
      "354/354 [==============================] - 0s 45us/step - loss: 0.6672 - acc: 0.0028 - val_loss: 0.6495 - val_acc: 0.0000e+00\n",
      "Epoch 5/100\n",
      "354/354 [==============================] - 0s 40us/step - loss: 0.6649 - acc: 0.0028 - val_loss: 0.6463 - val_acc: 0.0000e+00\n",
      "Epoch 6/100\n",
      "354/354 [==============================] - 0s 41us/step - loss: 0.6630 - acc: 0.0028 - val_loss: 0.6439 - val_acc: 0.0000e+00\n",
      "Epoch 7/100\n",
      "354/354 [==============================] - 0s 40us/step - loss: 0.6617 - acc: 0.0028 - val_loss: 0.6418 - val_acc: 0.0000e+00\n",
      "Epoch 8/100\n",
      "354/354 [==============================] - 0s 39us/step - loss: 0.6606 - acc: 0.0028 - val_loss: 0.6397 - val_acc: 0.0000e+00\n",
      "Epoch 9/100\n",
      "354/354 [==============================] - 0s 38us/step - loss: 0.6594 - acc: 0.0028 - val_loss: 0.6388 - val_acc: 0.0000e+00\n",
      "Epoch 10/100\n",
      "354/354 [==============================] - 0s 46us/step - loss: 0.6587 - acc: 0.0028 - val_loss: 0.6370 - val_acc: 0.0000e+00\n",
      "Epoch 11/100\n",
      "354/354 [==============================] - 0s 41us/step - loss: 0.6578 - acc: 0.0028 - val_loss: 0.6366 - val_acc: 0.0000e+00\n",
      "Epoch 12/100\n",
      "354/354 [==============================] - 0s 44us/step - loss: 0.6573 - acc: 0.0028 - val_loss: 0.6352 - val_acc: 0.0000e+00\n",
      "Epoch 13/100\n",
      "354/354 [==============================] - 0s 41us/step - loss: 0.6565 - acc: 0.0028 - val_loss: 0.6344 - val_acc: 0.0000e+00\n",
      "Epoch 14/100\n",
      "354/354 [==============================] - 0s 46us/step - loss: 0.6560 - acc: 0.0028 - val_loss: 0.6339 - val_acc: 0.0000e+00\n",
      "Epoch 15/100\n",
      "354/354 [==============================] - 0s 40us/step - loss: 0.6555 - acc: 0.0028 - val_loss: 0.6328 - val_acc: 0.0000e+00\n",
      "Epoch 16/100\n",
      "354/354 [==============================] - 0s 40us/step - loss: 0.6548 - acc: 0.0028 - val_loss: 0.6324 - val_acc: 0.0000e+00\n",
      "Epoch 17/100\n",
      "354/354 [==============================] - 0s 42us/step - loss: 0.6543 - acc: 0.0028 - val_loss: 0.6320 - val_acc: 0.0000e+00\n",
      "Epoch 18/100\n",
      "354/354 [==============================] - 0s 46us/step - loss: 0.6539 - acc: 0.0028 - val_loss: 0.6315 - val_acc: 0.0000e+00\n",
      "Epoch 19/100\n",
      "354/354 [==============================] - 0s 41us/step - loss: 0.6533 - acc: 0.0028 - val_loss: 0.6308 - val_acc: 0.0000e+00\n",
      "Epoch 20/100\n",
      "354/354 [==============================] - 0s 43us/step - loss: 0.6528 - acc: 0.0028 - val_loss: 0.6313 - val_acc: 0.0000e+00\n",
      "Epoch 21/100\n",
      "354/354 [==============================] - 0s 44us/step - loss: 0.6523 - acc: 0.0028 - val_loss: 0.6306 - val_acc: 0.0000e+00\n",
      "Epoch 22/100\n",
      "354/354 [==============================] - 0s 40us/step - loss: 0.6518 - acc: 0.0028 - val_loss: 0.6311 - val_acc: 0.0000e+00\n",
      "Epoch 23/100\n",
      "354/354 [==============================] - 0s 40us/step - loss: 0.6513 - acc: 0.0028 - val_loss: 0.6302 - val_acc: 0.0000e+00\n",
      "Epoch 24/100\n",
      "354/354 [==============================] - 0s 42us/step - loss: 0.6509 - acc: 0.0028 - val_loss: 0.6294 - val_acc: 0.0000e+00\n",
      "Epoch 25/100\n",
      "354/354 [==============================] - 0s 43us/step - loss: 0.6504 - acc: 0.0028 - val_loss: 0.6293 - val_acc: 0.0000e+00\n",
      "Epoch 26/100\n",
      "354/354 [==============================] - 0s 40us/step - loss: 0.6498 - acc: 0.0028 - val_loss: 0.6288 - val_acc: 0.0000e+00\n",
      "Epoch 27/100\n",
      "354/354 [==============================] - 0s 42us/step - loss: 0.6494 - acc: 0.0028 - val_loss: 0.6294 - val_acc: 0.0000e+00\n",
      "Epoch 28/100\n",
      "354/354 [==============================] - 0s 44us/step - loss: 0.6489 - acc: 0.0028 - val_loss: 0.6291 - val_acc: 0.0000e+00\n",
      "Epoch 29/100\n",
      "354/354 [==============================] - 0s 44us/step - loss: 0.6485 - acc: 0.0028 - val_loss: 0.6288 - val_acc: 0.0000e+00\n",
      "Epoch 30/100\n",
      "354/354 [==============================] - 0s 40us/step - loss: 0.6481 - acc: 0.0028 - val_loss: 0.6278 - val_acc: 0.0000e+00\n",
      "Epoch 31/100\n",
      "354/354 [==============================] - 0s 41us/step - loss: 0.6477 - acc: 0.0028 - val_loss: 0.6277 - val_acc: 0.0000e+00\n",
      "Epoch 32/100\n",
      "354/354 [==============================] - 0s 46us/step - loss: 0.6473 - acc: 0.0028 - val_loss: 0.6270 - val_acc: 0.0000e+00\n",
      "Epoch 33/100\n",
      "354/354 [==============================] - 0s 45us/step - loss: 0.6469 - acc: 0.0028 - val_loss: 0.6269 - val_acc: 0.0000e+00\n",
      "Epoch 34/100\n",
      "354/354 [==============================] - 0s 39us/step - loss: 0.6465 - acc: 0.0028 - val_loss: 0.6269 - val_acc: 0.0000e+00\n",
      "Epoch 35/100\n",
      "354/354 [==============================] - 0s 42us/step - loss: 0.6462 - acc: 0.0028 - val_loss: 0.6269 - val_acc: 0.0000e+00\n",
      "Epoch 36/100\n",
      "354/354 [==============================] - 0s 39us/step - loss: 0.6458 - acc: 0.0028 - val_loss: 0.6273 - val_acc: 0.0000e+00\n",
      "Epoch 37/100\n",
      "354/354 [==============================] - 0s 39us/step - loss: 0.6454 - acc: 0.0028 - val_loss: 0.6276 - val_acc: 0.0000e+00\n",
      "Epoch 38/100\n",
      "354/354 [==============================] - 0s 39us/step - loss: 0.6451 - acc: 0.0028 - val_loss: 0.6269 - val_acc: 0.0000e+00\n",
      "Epoch 39/100\n",
      "354/354 [==============================] - 0s 42us/step - loss: 0.6448 - acc: 0.0028 - val_loss: 0.6267 - val_acc: 0.0000e+00\n",
      "Epoch 40/100\n",
      "354/354 [==============================] - 0s 39us/step - loss: 0.6444 - acc: 0.0028 - val_loss: 0.6267 - val_acc: 0.0000e+00\n",
      "Epoch 41/100\n",
      "354/354 [==============================] - 0s 41us/step - loss: 0.6442 - acc: 0.0028 - val_loss: 0.6269 - val_acc: 0.0000e+00\n",
      "Epoch 42/100\n",
      "354/354 [==============================] - 0s 43us/step - loss: 0.6439 - acc: 0.0028 - val_loss: 0.6257 - val_acc: 0.0000e+00\n",
      "Epoch 43/100\n",
      "354/354 [==============================] - 0s 43us/step - loss: 0.6433 - acc: 0.0028 - val_loss: 0.6256 - val_acc: 0.0000e+00\n",
      "Epoch 44/100\n",
      "354/354 [==============================] - 0s 40us/step - loss: 0.6430 - acc: 0.0028 - val_loss: 0.6255 - val_acc: 0.0000e+00\n",
      "Epoch 45/100\n",
      "354/354 [==============================] - 0s 39us/step - loss: 0.6427 - acc: 0.0028 - val_loss: 0.6246 - val_acc: 0.0000e+00\n",
      "Epoch 46/100\n",
      "354/354 [==============================] - 0s 39us/step - loss: 0.6423 - acc: 0.0028 - val_loss: 0.6251 - val_acc: 0.0000e+00\n",
      "Epoch 47/100\n",
      "354/354 [==============================] - 0s 39us/step - loss: 0.6421 - acc: 0.0028 - val_loss: 0.6249 - val_acc: 0.0000e+00\n",
      "Epoch 48/100\n",
      "354/354 [==============================] - 0s 43us/step - loss: 0.6418 - acc: 0.0028 - val_loss: 0.6248 - val_acc: 0.0000e+00\n",
      "Epoch 49/100\n",
      "354/354 [==============================] - 0s 41us/step - loss: 0.6415 - acc: 0.0028 - val_loss: 0.6241 - val_acc: 0.0000e+00\n",
      "Epoch 50/100\n",
      "354/354 [==============================] - 0s 39us/step - loss: 0.6412 - acc: 0.0028 - val_loss: 0.6245 - val_acc: 0.0000e+00\n",
      "Epoch 51/100\n",
      "354/354 [==============================] - 0s 41us/step - loss: 0.6409 - acc: 0.0028 - val_loss: 0.6242 - val_acc: 0.0000e+00\n",
      "Epoch 52/100\n",
      "354/354 [==============================] - 0s 40us/step - loss: 0.6406 - acc: 0.0028 - val_loss: 0.6247 - val_acc: 0.0000e+00\n",
      "Epoch 53/100\n",
      "354/354 [==============================] - 0s 39us/step - loss: 0.6404 - acc: 0.0028 - val_loss: 0.6240 - val_acc: 0.0000e+00\n",
      "Epoch 54/100\n",
      "354/354 [==============================] - 0s 41us/step - loss: 0.6400 - acc: 0.0028 - val_loss: 0.6238 - val_acc: 0.0000e+00\n",
      "Epoch 55/100\n",
      "354/354 [==============================] - 0s 41us/step - loss: 0.6398 - acc: 0.0028 - val_loss: 0.6232 - val_acc: 0.0000e+00\n",
      "Epoch 56/100\n",
      "354/354 [==============================] - 0s 42us/step - loss: 0.6395 - acc: 0.0028 - val_loss: 0.6229 - val_acc: 0.0000e+00\n",
      "Epoch 57/100\n",
      "354/354 [==============================] - 0s 43us/step - loss: 0.6392 - acc: 0.0028 - val_loss: 0.6222 - val_acc: 0.0000e+00\n",
      "Epoch 58/100\n",
      "354/354 [==============================] - 0s 40us/step - loss: 0.6390 - acc: 0.0028 - val_loss: 0.6217 - val_acc: 0.0000e+00\n",
      "Epoch 59/100\n",
      "354/354 [==============================] - 0s 44us/step - loss: 0.6387 - acc: 0.0028 - val_loss: 0.6217 - val_acc: 0.0000e+00\n",
      "Epoch 60/100\n",
      "354/354 [==============================] - 0s 44us/step - loss: 0.6385 - acc: 0.0028 - val_loss: 0.6206 - val_acc: 0.0000e+00\n",
      "Epoch 61/100\n",
      "354/354 [==============================] - 0s 46us/step - loss: 0.6383 - acc: 0.0028 - val_loss: 0.6203 - val_acc: 0.0000e+00\n",
      "Epoch 62/100\n",
      "354/354 [==============================] - 0s 42us/step - loss: 0.6380 - acc: 0.0028 - val_loss: 0.6203 - val_acc: 0.0000e+00\n",
      "Epoch 63/100\n",
      "354/354 [==============================] - 0s 42us/step - loss: 0.6378 - acc: 0.0028 - val_loss: 0.6203 - val_acc: 0.0000e+00\n",
      "Epoch 64/100\n",
      "354/354 [==============================] - 0s 47us/step - loss: 0.6376 - acc: 0.0028 - val_loss: 0.6201 - val_acc: 0.0000e+00\n",
      "Epoch 65/100\n",
      "354/354 [==============================] - 0s 43us/step - loss: 0.6373 - acc: 0.0028 - val_loss: 0.6198 - val_acc: 0.0000e+00\n",
      "Epoch 66/100\n",
      "354/354 [==============================] - 0s 40us/step - loss: 0.6371 - acc: 0.0028 - val_loss: 0.6209 - val_acc: 0.0000e+00\n",
      "Epoch 67/100\n",
      "354/354 [==============================] - 0s 50us/step - loss: 0.6369 - acc: 0.0000e+00 - val_loss: 0.6206 - val_acc: 0.0000e+00\n",
      "Epoch 68/100\n",
      "354/354 [==============================] - 0s 43us/step - loss: 0.6367 - acc: 0.0000e+00 - val_loss: 0.6210 - val_acc: 0.0000e+00\n",
      "Epoch 69/100\n",
      "354/354 [==============================] - 0s 46us/step - loss: 0.6365 - acc: 0.0000e+00 - val_loss: 0.6205 - val_acc: 0.0000e+00\n",
      "Epoch 70/100\n",
      "354/354 [==============================] - 0s 48us/step - loss: 0.6363 - acc: 0.0000e+00 - val_loss: 0.6201 - val_acc: 0.0000e+00\n",
      "Epoch 71/100\n",
      "354/354 [==============================] - 0s 41us/step - loss: 0.6361 - acc: 0.0000e+00 - val_loss: 0.6195 - val_acc: 0.0000e+00\n",
      "Epoch 72/100\n",
      "354/354 [==============================] - 0s 47us/step - loss: 0.6359 - acc: 0.0000e+00 - val_loss: 0.6190 - val_acc: 0.0000e+00\n",
      "Epoch 73/100\n",
      "354/354 [==============================] - 0s 43us/step - loss: 0.6357 - acc: 0.0028 - val_loss: 0.6188 - val_acc: 0.0000e+00\n",
      "Epoch 74/100\n",
      "354/354 [==============================] - 0s 50us/step - loss: 0.6355 - acc: 0.0000e+00 - val_loss: 0.6194 - val_acc: 0.0000e+00\n",
      "Epoch 75/100\n",
      "354/354 [==============================] - 0s 50us/step - loss: 0.6353 - acc: 0.0000e+00 - val_loss: 0.6195 - val_acc: 0.0000e+00\n",
      "Epoch 76/100\n",
      "354/354 [==============================] - 0s 45us/step - loss: 0.6351 - acc: 0.0000e+00 - val_loss: 0.6189 - val_acc: 0.0000e+00\n",
      "Epoch 77/100\n",
      "354/354 [==============================] - 0s 44us/step - loss: 0.6349 - acc: 0.0000e+00 - val_loss: 0.6185 - val_acc: 0.0000e+00\n",
      "Epoch 78/100\n",
      "354/354 [==============================] - 0s 46us/step - loss: 0.6347 - acc: 0.0000e+00 - val_loss: 0.6184 - val_acc: 0.0000e+00\n",
      "Epoch 79/100\n",
      "354/354 [==============================] - 0s 46us/step - loss: 0.6345 - acc: 0.0000e+00 - val_loss: 0.6191 - val_acc: 0.0132\n",
      "Epoch 80/100\n",
      "354/354 [==============================] - 0s 43us/step - loss: 0.6343 - acc: 0.0056 - val_loss: 0.6185 - val_acc: 0.0000e+00\n",
      "Epoch 81/100\n",
      "354/354 [==============================] - 0s 39us/step - loss: 0.6341 - acc: 0.0056 - val_loss: 0.6188 - val_acc: 0.0132\n",
      "Epoch 82/100\n",
      "354/354 [==============================] - 0s 44us/step - loss: 0.6339 - acc: 0.0056 - val_loss: 0.6182 - val_acc: 0.0132\n",
      "Epoch 83/100\n",
      "354/354 [==============================] - 0s 39us/step - loss: 0.6337 - acc: 0.0056 - val_loss: 0.6181 - val_acc: 0.0132\n",
      "Epoch 84/100\n",
      "354/354 [==============================] - 0s 37us/step - loss: 0.6336 - acc: 0.0056 - val_loss: 0.6176 - val_acc: 0.0132\n",
      "Epoch 85/100\n",
      "354/354 [==============================] - 0s 44us/step - loss: 0.6334 - acc: 0.0056 - val_loss: 0.6173 - val_acc: 0.0132\n",
      "Epoch 86/100\n",
      "354/354 [==============================] - 0s 40us/step - loss: 0.6333 - acc: 0.0056 - val_loss: 0.6175 - val_acc: 0.0132\n",
      "Epoch 87/100\n",
      "354/354 [==============================] - 0s 43us/step - loss: 0.6331 - acc: 0.0056 - val_loss: 0.6172 - val_acc: 0.0132\n",
      "Epoch 88/100\n",
      "354/354 [==============================] - 0s 42us/step - loss: 0.6329 - acc: 0.0056 - val_loss: 0.6182 - val_acc: 0.0132\n",
      "Epoch 89/100\n",
      "354/354 [==============================] - 0s 41us/step - loss: 0.6328 - acc: 0.0056 - val_loss: 0.6179 - val_acc: 0.0132\n",
      "Epoch 90/100\n",
      "354/354 [==============================] - 0s 42us/step - loss: 0.6326 - acc: 0.0056 - val_loss: 0.6175 - val_acc: 0.0132\n",
      "Epoch 91/100\n",
      "354/354 [==============================] - 0s 53us/step - loss: 0.6324 - acc: 0.0056 - val_loss: 0.6172 - val_acc: 0.0132\n",
      "Epoch 92/100\n",
      "354/354 [==============================] - 0s 46us/step - loss: 0.6323 - acc: 0.0056 - val_loss: 0.6167 - val_acc: 0.0132\n",
      "Epoch 93/100\n",
      "354/354 [==============================] - 0s 45us/step - loss: 0.6321 - acc: 0.0056 - val_loss: 0.6166 - val_acc: 0.0132\n",
      "Epoch 94/100\n",
      "354/354 [==============================] - 0s 42us/step - loss: 0.6320 - acc: 0.0056 - val_loss: 0.6164 - val_acc: 0.0132\n",
      "Epoch 95/100\n",
      "354/354 [==============================] - 0s 46us/step - loss: 0.6319 - acc: 0.0056 - val_loss: 0.6164 - val_acc: 0.0132\n",
      "Epoch 96/100\n",
      "354/354 [==============================] - 0s 41us/step - loss: 0.6318 - acc: 0.0056 - val_loss: 0.6171 - val_acc: 0.0132\n",
      "Epoch 97/100\n",
      "354/354 [==============================] - 0s 41us/step - loss: 0.6315 - acc: 0.0056 - val_loss: 0.6180 - val_acc: 0.0132\n",
      "Epoch 98/100\n",
      "354/354 [==============================] - 0s 39us/step - loss: 0.6314 - acc: 0.0056 - val_loss: 0.6187 - val_acc: 0.0132\n",
      "Epoch 99/100\n",
      "354/354 [==============================] - 0s 49us/step - loss: 0.6313 - acc: 0.0056 - val_loss: 0.6183 - val_acc: 0.0132\n",
      "Epoch 100/100\n",
      "354/354 [==============================] - 0s 42us/step - loss: 0.6311 - acc: 0.0056 - val_loss: 0.6181 - val_acc: 0.0132\n"
     ]
    }
   ],
   "source": [
    "hist = model.fit(X_train, Y_train,\n",
    "          batch_size=32, epochs=100,\n",
    "          validation_data=(X_val, Y_val))"
   ]
  },
  {
   "cell_type": "code",
   "execution_count": 69,
   "metadata": {
    "execution": {
     "iopub.execute_input": "2021-10-02T12:10:12.368602Z",
     "iopub.status.busy": "2021-10-02T12:10:12.368357Z",
     "iopub.status.idle": "2021-10-02T12:10:12.380553Z",
     "shell.execute_reply": "2021-10-02T12:10:12.379825Z",
     "shell.execute_reply.started": "2021-10-02T12:10:12.368556Z"
    }
   },
   "outputs": [
    {
     "name": "stdout",
     "output_type": "stream",
     "text": [
      "76/76 [==============================] - 0s 53us/step\n"
     ]
    },
    {
     "data": {
      "text/plain": [
       "0.0"
      ]
     },
     "execution_count": 69,
     "metadata": {},
     "output_type": "execute_result"
    }
   ],
   "source": [
    "model.evaluate(X_test, Y_test)[1]"
   ]
  },
  {
   "cell_type": "code",
   "execution_count": 70,
   "metadata": {
    "execution": {
     "iopub.execute_input": "2021-10-02T12:10:12.382128Z",
     "iopub.status.busy": "2021-10-02T12:10:12.381880Z",
     "iopub.status.idle": "2021-10-02T12:10:12.385916Z",
     "shell.execute_reply": "2021-10-02T12:10:12.385007Z",
     "shell.execute_reply.started": "2021-10-02T12:10:12.382082Z"
    }
   },
   "outputs": [],
   "source": [
    "import matplotlib.pyplot as plt"
   ]
  },
  {
   "cell_type": "code",
   "execution_count": 71,
   "metadata": {
    "execution": {
     "iopub.execute_input": "2021-10-02T12:10:12.387588Z",
     "iopub.status.busy": "2021-10-02T12:10:12.387216Z",
     "iopub.status.idle": "2021-10-02T12:10:12.621805Z",
     "shell.execute_reply": "2021-10-02T12:10:12.620686Z",
     "shell.execute_reply.started": "2021-10-02T12:10:12.387409Z"
    }
   },
   "outputs": [
    {
     "data": {
      "image/png": "[encoded data removed]",
      "text/plain": [
       "<Figure size 432x288 with 1 Axes>"
      ]
     },
     "metadata": {},
     "output_type": "display_data"
    }
   ],
   "source": [
    "plt.plot(hist.history['loss'])\n",
    "plt.plot(hist.history['val_loss'])\n",
    "plt.title('Model loss')\n",
    "plt.ylabel('Loss')\n",
    "plt.xlabel('Epoch')\n",
    "plt.legend(['Train', 'Val'], loc='upper right')\n",
    "plt.show()"
   ]
  },
  {
   "cell_type": "code",
   "execution_count": 72,
   "metadata": {
    "execution": {
     "iopub.execute_input": "2021-10-02T12:10:12.623479Z",
     "iopub.status.busy": "2021-10-02T12:10:12.623141Z",
     "iopub.status.idle": "2021-10-02T12:10:12.865114Z",
     "shell.execute_reply": "2021-10-02T12:10:12.863722Z",
     "shell.execute_reply.started": "2021-10-02T12:10:12.623411Z"
    }
   },
   "outputs": [
    {
     "data": {
      "image/png": "[encoded data removed]",
      "text/plain": [
       "<Figure size 432x288 with 1 Axes>"
      ]
     },
     "metadata": {},
     "output_type": "display_data"
    }
   ],
   "source": [
    "plt.plot(hist.history['acc'])\n",
    "plt.plot(hist.history['val_acc'])\n",
    "plt.title('Model accuracy')\n",
    "plt.ylabel('Accuracy')\n",
    "plt.xlabel('Epoch')\n",
    "plt.legend(['Train', 'Val'], loc='lower right')\n",
    "plt.show()"
   ]
  },
  {
   "cell_type": "code",
   "execution_count": 73,
   "metadata": {
    "execution": {
     "iopub.execute_input": "2021-10-02T12:10:12.867334Z",
     "iopub.status.busy": "2021-10-02T12:10:12.866970Z",
     "iopub.status.idle": "2021-10-02T12:10:49.922742Z",
     "shell.execute_reply": "2021-10-02T12:10:49.921771Z",
     "shell.execute_reply.started": "2021-10-02T12:10:12.867267Z"
    }
   },
   "outputs": [
    {
     "name": "stdout",
     "output_type": "stream",
     "text": [
      "Train on 354 samples, validate on 76 samples\n",
      "Epoch 1/100\n",
      "354/354 [==============================] - 1s 2ms/step - loss: 0.6650 - acc: 0.0000e+00 - val_loss: 0.6424 - val_acc: 0.0132\n",
      "Epoch 2/100\n",
      "354/354 [==============================] - 0s 992us/step - loss: 0.6398 - acc: 0.0056 - val_loss: 0.6094 - val_acc: 0.0132\n",
      "Epoch 3/100\n",
      "354/354 [==============================] - 0s 978us/step - loss: 0.6311 - acc: 0.0085 - val_loss: 0.6063 - val_acc: 0.0132\n",
      "Epoch 4/100\n",
      "354/354 [==============================] - 0s 1ms/step - loss: 0.6160 - acc: 0.0085 - val_loss: 0.6126 - val_acc: 0.0132\n",
      "Epoch 5/100\n",
      "354/354 [==============================] - 0s 991us/step - loss: 0.6147 - acc: 0.0056 - val_loss: 0.5935 - val_acc: 0.0132\n",
      "Epoch 6/100\n",
      "354/354 [==============================] - 0s 983us/step - loss: 0.6038 - acc: 0.0085 - val_loss: 0.5971 - val_acc: 0.0132\n",
      "Epoch 7/100\n",
      "354/354 [==============================] - 0s 1ms/step - loss: 0.6023 - acc: 0.0085 - val_loss: 0.5855 - val_acc: 0.0132\n",
      "Epoch 8/100\n",
      "354/354 [==============================] - 0s 1ms/step - loss: 0.5999 - acc: 0.0085 - val_loss: 0.5848 - val_acc: 0.0132\n",
      "Epoch 9/100\n",
      "354/354 [==============================] - 0s 1ms/step - loss: 0.5973 - acc: 0.0085 - val_loss: 0.5851 - val_acc: 0.0132\n",
      "Epoch 10/100\n",
      "354/354 [==============================] - 0s 1ms/step - loss: 0.5956 - acc: 0.0085 - val_loss: 0.5867 - val_acc: 0.0132\n",
      "Epoch 11/100\n",
      "354/354 [==============================] - 0s 1ms/step - loss: 0.5954 - acc: 0.0085 - val_loss: 0.5988 - val_acc: 0.0132\n",
      "Epoch 12/100\n",
      "354/354 [==============================] - 0s 1ms/step - loss: 0.5949 - acc: 0.0085 - val_loss: 0.5926 - val_acc: 0.0132\n",
      "Epoch 13/100\n",
      "354/354 [==============================] - 0s 994us/step - loss: 0.5922 - acc: 0.0085 - val_loss: 0.5827 - val_acc: 0.0132\n",
      "Epoch 14/100\n",
      "354/354 [==============================] - 0s 1ms/step - loss: 0.5966 - acc: 0.0085 - val_loss: 0.5807 - val_acc: 0.0132\n",
      "Epoch 15/100\n",
      "354/354 [==============================] - 0s 1ms/step - loss: 0.5925 - acc: 0.0085 - val_loss: 0.5812 - val_acc: 0.0132\n",
      "Epoch 16/100\n",
      "354/354 [==============================] - 0s 1ms/step - loss: 0.5882 - acc: 0.0085 - val_loss: 0.5831 - val_acc: 0.0132\n",
      "Epoch 17/100\n",
      "354/354 [==============================] - 0s 1ms/step - loss: 0.5877 - acc: 0.0085 - val_loss: 0.5857 - val_acc: 0.0132\n",
      "Epoch 18/100\n",
      "354/354 [==============================] - 0s 1ms/step - loss: 0.5892 - acc: 0.0085 - val_loss: 0.5795 - val_acc: 0.0132\n",
      "Epoch 19/100\n",
      "354/354 [==============================] - 0s 998us/step - loss: 0.5908 - acc: 0.0028 - val_loss: 0.5891 - val_acc: 0.0132\n",
      "Epoch 20/100\n",
      "354/354 [==============================] - 0s 1ms/step - loss: 0.5906 - acc: 0.0085 - val_loss: 0.5822 - val_acc: 0.0132\n",
      "Epoch 21/100\n",
      "354/354 [==============================] - 0s 1ms/step - loss: 0.5831 - acc: 0.0085 - val_loss: 0.5831 - val_acc: 0.0132\n",
      "Epoch 22/100\n",
      "354/354 [==============================] - 0s 1ms/step - loss: 0.5872 - acc: 0.0085 - val_loss: 0.5981 - val_acc: 0.0132\n",
      "Epoch 23/100\n",
      "354/354 [==============================] - 0s 1ms/step - loss: 0.5991 - acc: 0.0085 - val_loss: 0.5773 - val_acc: 0.0132\n",
      "Epoch 24/100\n",
      "354/354 [==============================] - 0s 1ms/step - loss: 0.5850 - acc: 0.0085 - val_loss: 0.5896 - val_acc: 0.0132\n",
      "Epoch 25/100\n",
      "354/354 [==============================] - 0s 1ms/step - loss: 0.5814 - acc: 0.0085 - val_loss: 0.5877 - val_acc: 0.0132\n",
      "Epoch 26/100\n",
      "354/354 [==============================] - 0s 1ms/step - loss: 0.5780 - acc: 0.0085 - val_loss: 0.5804 - val_acc: 0.0132\n",
      "Epoch 27/100\n",
      "354/354 [==============================] - 0s 1ms/step - loss: 0.5716 - acc: 0.0085 - val_loss: 0.5857 - val_acc: 0.0132\n",
      "Epoch 28/100\n",
      "354/354 [==============================] - 0s 991us/step - loss: 0.5825 - acc: 0.0085 - val_loss: 0.5863 - val_acc: 0.0132\n",
      "Epoch 29/100\n",
      "354/354 [==============================] - 0s 993us/step - loss: 0.5891 - acc: 0.0085 - val_loss: 0.5928 - val_acc: 0.0132\n",
      "Epoch 30/100\n",
      "354/354 [==============================] - 0s 1ms/step - loss: 0.5755 - acc: 0.0085 - val_loss: 0.5798 - val_acc: 0.0132\n",
      "Epoch 31/100\n",
      "354/354 [==============================] - 0s 1ms/step - loss: 0.5762 - acc: 0.0085 - val_loss: 0.5694 - val_acc: 0.0132\n",
      "Epoch 32/100\n",
      "354/354 [==============================] - 0s 1ms/step - loss: 0.5664 - acc: 0.0085 - val_loss: 0.5819 - val_acc: 0.0132\n",
      "Epoch 33/100\n",
      "354/354 [==============================] - 0s 1ms/step - loss: 0.5643 - acc: 0.0085 - val_loss: 0.5651 - val_acc: 0.0132\n",
      "Epoch 34/100\n",
      "354/354 [==============================] - 0s 980us/step - loss: 0.5710 - acc: 0.0085 - val_loss: 0.5632 - val_acc: 0.0132\n",
      "Epoch 35/100\n",
      "354/354 [==============================] - 0s 1ms/step - loss: 0.5792 - acc: 0.0085 - val_loss: 0.5962 - val_acc: 0.0132\n",
      "Epoch 36/100\n",
      "354/354 [==============================] - 0s 1ms/step - loss: 0.5796 - acc: 0.0085 - val_loss: 0.5985 - val_acc: 0.0132\n",
      "Epoch 37/100\n",
      "354/354 [==============================] - 0s 1ms/step - loss: 0.5984 - acc: 0.0085 - val_loss: 0.5799 - val_acc: 0.0132\n",
      "Epoch 38/100\n",
      "354/354 [==============================] - 0s 1ms/step - loss: 0.5857 - acc: 0.0085 - val_loss: 0.5664 - val_acc: 0.0132\n",
      "Epoch 39/100\n",
      "354/354 [==============================] - 0s 1ms/step - loss: 0.5754 - acc: 0.0085 - val_loss: 0.5736 - val_acc: 0.0132\n",
      "Epoch 40/100\n",
      "354/354 [==============================] - 0s 988us/step - loss: 0.5696 - acc: 0.0085 - val_loss: 0.5679 - val_acc: 0.0132\n",
      "Epoch 41/100\n",
      "354/354 [==============================] - 0s 994us/step - loss: 0.5695 - acc: 0.0085 - val_loss: 0.5752 - val_acc: 0.0132\n",
      "Epoch 42/100\n",
      "354/354 [==============================] - 0s 1ms/step - loss: 0.5670 - acc: 0.0085 - val_loss: 0.5774 - val_acc: 0.0132\n",
      "Epoch 43/100\n",
      "354/354 [==============================] - 0s 1000us/step - loss: 0.5707 - acc: 0.0085 - val_loss: 0.5650 - val_acc: 0.0132\n",
      "Epoch 44/100\n",
      "354/354 [==============================] - 0s 1ms/step - loss: 0.5663 - acc: 0.0085 - val_loss: 0.5740 - val_acc: 0.0132\n",
      "Epoch 45/100\n",
      "354/354 [==============================] - 0s 980us/step - loss: 0.5628 - acc: 0.0085 - val_loss: 0.5783 - val_acc: 0.0132\n",
      "Epoch 46/100\n",
      "354/354 [==============================] - 0s 1ms/step - loss: 0.5626 - acc: 0.0085 - val_loss: 0.5709 - val_acc: 0.0132\n",
      "Epoch 47/100\n",
      "354/354 [==============================] - 0s 999us/step - loss: 0.5874 - acc: 0.0085 - val_loss: 0.5806 - val_acc: 0.0132\n",
      "Epoch 48/100\n",
      "354/354 [==============================] - 0s 1ms/step - loss: 0.5830 - acc: 0.0085 - val_loss: 0.5677 - val_acc: 0.0132\n",
      "Epoch 49/100\n",
      "354/354 [==============================] - 0s 1ms/step - loss: 0.5764 - acc: 0.0085 - val_loss: 0.5681 - val_acc: 0.0132\n",
      "Epoch 50/100\n",
      "354/354 [==============================] - 0s 1ms/step - loss: 0.5701 - acc: 0.0085 - val_loss: 0.5735 - val_acc: 0.0132\n",
      "Epoch 51/100\n",
      "354/354 [==============================] - 0s 1ms/step - loss: 0.5649 - acc: 0.0085 - val_loss: 0.5860 - val_acc: 0.0132\n",
      "Epoch 52/100\n",
      "354/354 [==============================] - 0s 1ms/step - loss: 0.5684 - acc: 0.0085 - val_loss: 0.5738 - val_acc: 0.0132\n",
      "Epoch 53/100\n",
      "354/354 [==============================] - 0s 1ms/step - loss: 0.5768 - acc: 0.0085 - val_loss: 0.5687 - val_acc: 0.0132\n",
      "Epoch 54/100\n",
      "354/354 [==============================] - 0s 1ms/step - loss: 0.5775 - acc: 0.0085 - val_loss: 0.5714 - val_acc: 0.0132\n",
      "Epoch 55/100\n",
      "354/354 [==============================] - 0s 1ms/step - loss: 0.5694 - acc: 0.0085 - val_loss: 0.5711 - val_acc: 0.0132\n",
      "Epoch 56/100\n",
      "354/354 [==============================] - 0s 1ms/step - loss: 0.5654 - acc: 0.0085 - val_loss: 0.5892 - val_acc: 0.0132\n",
      "Epoch 57/100\n",
      "354/354 [==============================] - 0s 1ms/step - loss: 0.5812 - acc: 0.0085 - val_loss: 0.5610 - val_acc: 0.0132\n",
      "Epoch 58/100\n",
      "354/354 [==============================] - 0s 1ms/step - loss: 0.5720 - acc: 0.0085 - val_loss: 0.5611 - val_acc: 0.0132\n",
      "Epoch 59/100\n",
      "354/354 [==============================] - 0s 1ms/step - loss: 0.5648 - acc: 0.0085 - val_loss: 0.5698 - val_acc: 0.0132\n",
      "Epoch 60/100\n",
      "354/354 [==============================] - 0s 1ms/step - loss: 0.5611 - acc: 0.0085 - val_loss: 0.5737 - val_acc: 0.0132\n",
      "Epoch 61/100\n",
      "354/354 [==============================] - 0s 1ms/step - loss: 0.5698 - acc: 0.0085 - val_loss: 0.5655 - val_acc: 0.0132\n",
      "Epoch 62/100\n",
      "354/354 [==============================] - 0s 1ms/step - loss: 0.5683 - acc: 0.0085 - val_loss: 0.5703 - val_acc: 0.0132\n",
      "Epoch 63/100\n",
      "354/354 [==============================] - 0s 1ms/step - loss: 0.5609 - acc: 0.0085 - val_loss: 0.5715 - val_acc: 0.0132\n",
      "Epoch 64/100\n",
      "354/354 [==============================] - 0s 1ms/step - loss: 0.5583 - acc: 0.0085 - val_loss: 0.5716 - val_acc: 0.0132\n",
      "Epoch 65/100\n",
      "354/354 [==============================] - 0s 1ms/step - loss: 0.5631 - acc: 0.0085 - val_loss: 0.5639 - val_acc: 0.0132\n",
      "Epoch 66/100\n",
      "354/354 [==============================] - 0s 1ms/step - loss: 0.5540 - acc: 0.0085 - val_loss: 0.5716 - val_acc: 0.0132\n",
      "Epoch 67/100\n",
      "354/354 [==============================] - 0s 1ms/step - loss: 0.5542 - acc: 0.0085 - val_loss: 0.5581 - val_acc: 0.0132\n",
      "Epoch 68/100\n",
      "354/354 [==============================] - 0s 1ms/step - loss: 0.5530 - acc: 0.0085 - val_loss: 0.5552 - val_acc: 0.0132\n",
      "Epoch 69/100\n",
      "354/354 [==============================] - 0s 991us/step - loss: 0.5507 - acc: 0.0085 - val_loss: 0.5532 - val_acc: 0.0132\n",
      "Epoch 70/100\n",
      "354/354 [==============================] - 0s 1ms/step - loss: 0.5531 - acc: 0.0085 - val_loss: 0.5507 - val_acc: 0.0132\n",
      "Epoch 71/100\n",
      "354/354 [==============================] - 0s 1ms/step - loss: 0.5498 - acc: 0.0085 - val_loss: 0.5508 - val_acc: 0.0132\n",
      "Epoch 72/100\n",
      "354/354 [==============================] - 0s 1ms/step - loss: 0.5541 - acc: 0.0085 - val_loss: 0.5591 - val_acc: 0.0132\n",
      "Epoch 73/100\n",
      "354/354 [==============================] - 0s 1ms/step - loss: 0.5517 - acc: 0.0085 - val_loss: 0.5580 - val_acc: 0.0132\n",
      "Epoch 74/100\n",
      "354/354 [==============================] - 0s 1ms/step - loss: 0.5497 - acc: 0.0085 - val_loss: 0.5549 - val_acc: 0.0132\n",
      "Epoch 75/100\n",
      "354/354 [==============================] - 0s 1ms/step - loss: 0.5518 - acc: 0.0085 - val_loss: 0.5606 - val_acc: 0.0132\n",
      "Epoch 76/100\n",
      "354/354 [==============================] - 0s 1ms/step - loss: 0.5497 - acc: 0.0085 - val_loss: 0.5577 - val_acc: 0.0132\n",
      "Epoch 77/100\n",
      "354/354 [==============================] - 0s 1ms/step - loss: 0.5495 - acc: 0.0085 - val_loss: 0.5598 - val_acc: 0.0132\n",
      "Epoch 78/100\n",
      "354/354 [==============================] - 0s 1ms/step - loss: 0.5480 - acc: 0.0085 - val_loss: 0.5516 - val_acc: 0.0132\n",
      "Epoch 79/100\n",
      "354/354 [==============================] - 0s 1ms/step - loss: 0.5485 - acc: 0.0085 - val_loss: 0.5556 - val_acc: 0.0132\n",
      "Epoch 80/100\n",
      "354/354 [==============================] - 0s 1ms/step - loss: 0.5484 - acc: 0.0085 - val_loss: 0.5608 - val_acc: 0.0132\n",
      "Epoch 81/100\n",
      "354/354 [==============================] - 0s 1ms/step - loss: 0.5478 - acc: 0.0085 - val_loss: 0.5601 - val_acc: 0.0132\n",
      "Epoch 82/100\n",
      "354/354 [==============================] - 0s 1ms/step - loss: 0.5482 - acc: 0.0085 - val_loss: 0.5539 - val_acc: 0.0132\n",
      "Epoch 83/100\n",
      "354/354 [==============================] - 0s 1ms/step - loss: 0.5499 - acc: 0.0085 - val_loss: 0.5587 - val_acc: 0.0132\n",
      "Epoch 84/100\n",
      "354/354 [==============================] - 0s 1ms/step - loss: 0.5482 - acc: 0.0085 - val_loss: 0.5561 - val_acc: 0.0132\n",
      "Epoch 85/100\n",
      "354/354 [==============================] - 0s 1ms/step - loss: 0.5472 - acc: 0.0085 - val_loss: 0.5610 - val_acc: 0.0132\n",
      "Epoch 86/100\n",
      "354/354 [==============================] - 0s 1ms/step - loss: 0.5470 - acc: 0.0085 - val_loss: 0.5602 - val_acc: 0.0132\n",
      "Epoch 87/100\n",
      "354/354 [==============================] - 0s 1ms/step - loss: 0.5466 - acc: 0.0085 - val_loss: 0.5619 - val_acc: 0.0132\n",
      "Epoch 88/100\n",
      "354/354 [==============================] - 0s 1ms/step - loss: 0.5464 - acc: 0.0085 - val_loss: 0.5600 - val_acc: 0.0132\n",
      "Epoch 89/100\n",
      "354/354 [==============================] - 0s 1ms/step - loss: 0.5466 - acc: 0.0085 - val_loss: 0.5658 - val_acc: 0.0132\n",
      "Epoch 90/100\n",
      "354/354 [==============================] - 0s 1ms/step - loss: 0.5467 - acc: 0.0085 - val_loss: 0.5622 - val_acc: 0.0132\n",
      "Epoch 91/100\n",
      "354/354 [==============================] - 0s 1ms/step - loss: 0.5463 - acc: 0.0085 - val_loss: 0.5601 - val_acc: 0.0132\n",
      "Epoch 92/100\n",
      "354/354 [==============================] - 0s 1ms/step - loss: 0.5465 - acc: 0.0085 - val_loss: 0.5600 - val_acc: 0.0132\n",
      "Epoch 93/100\n",
      "354/354 [==============================] - 0s 1ms/step - loss: 0.5463 - acc: 0.0085 - val_loss: 0.5614 - val_acc: 0.0132\n",
      "Epoch 94/100\n",
      "354/354 [==============================] - 0s 1ms/step - loss: 0.5462 - acc: 0.0085 - val_loss: 0.5604 - val_acc: 0.0132\n",
      "Epoch 95/100\n",
      "354/354 [==============================] - 0s 1ms/step - loss: 0.5462 - acc: 0.0085 - val_loss: 0.5604 - val_acc: 0.0132\n",
      "Epoch 96/100\n",
      "354/354 [==============================] - 0s 1ms/step - loss: 0.5464 - acc: 0.0085 - val_loss: 0.5618 - val_acc: 0.0132\n",
      "Epoch 97/100\n",
      "354/354 [==============================] - 0s 983us/step - loss: 0.5461 - acc: 0.0085 - val_loss: 0.5607 - val_acc: 0.0132\n",
      "Epoch 98/100\n",
      "354/354 [==============================] - 0s 1ms/step - loss: 0.5463 - acc: 0.0085 - val_loss: 0.5616 - val_acc: 0.0132\n",
      "Epoch 99/100\n",
      "354/354 [==============================] - 0s 1ms/step - loss: 0.5462 - acc: 0.0085 - val_loss: 0.5606 - val_acc: 0.0132\n",
      "Epoch 100/100\n",
      "354/354 [==============================] - 0s 1ms/step - loss: 0.5461 - acc: 0.0085 - val_loss: 0.5608 - val_acc: 0.0132\n"
     ]
    }
   ],
   "source": [
    "model_2 = Sequential([\n",
    "    Dense(1000, activation='relu', input_shape=(10,)),\n",
    "    Dense(1000, activation='relu'),\n",
    "    Dense(1000, activation='relu'),\n",
    "    Dense(1000, activation='relu'),\n",
    "    Dense(1, activation='sigmoid'),\n",
    "])\n",
    "\n",
    "model_2.compile(optimizer='adam',\n",
    "              loss='binary_crossentropy',\n",
    "              metrics=['accuracy'])\n",
    "              \n",
    "hist_2 = model_2.fit(X_train, Y_train,\n",
    "          batch_size=32, epochs=100,\n",
    "          validation_data=(X_val, Y_val))"
   ]
  },
  {
   "cell_type": "code",
   "execution_count": 74,
   "metadata": {
    "execution": {
     "iopub.execute_input": "2021-10-02T12:10:49.924644Z",
     "iopub.status.busy": "2021-10-02T12:10:49.924223Z",
     "iopub.status.idle": "2021-10-02T12:10:50.145845Z",
     "shell.execute_reply": "2021-10-02T12:10:50.144839Z",
     "shell.execute_reply.started": "2021-10-02T12:10:49.924567Z"
    }
   },
   "outputs": [
    {
     "data": {
      "image/png": "[encoded data removed]",
      "text/plain": [
       "<Figure size 432x288 with 1 Axes>"
      ]
     },
     "metadata": {},
     "output_type": "display_data"
    }
   ],
   "source": [
    "plt.plot(hist_2.history['loss'])\n",
    "plt.plot(hist_2.history['val_loss'])\n",
    "plt.title('Model loss')\n",
    "plt.ylabel('Loss')\n",
    "plt.xlabel('Epoch')\n",
    "plt.legend(['Train', 'Val'], loc='upper right')\n",
    "plt.show()"
   ]
  },
  {
   "cell_type": "code",
   "execution_count": 75,
   "metadata": {
    "execution": {
     "iopub.execute_input": "2021-10-02T12:10:50.147882Z",
     "iopub.status.busy": "2021-10-02T12:10:50.147553Z",
     "iopub.status.idle": "2021-10-02T12:10:50.395921Z",
     "shell.execute_reply": "2021-10-02T12:10:50.394936Z",
     "shell.execute_reply.started": "2021-10-02T12:10:50.147832Z"
    }
   },
   "outputs": [
    {
     "data": {
      "image/png": "[encoded data removed]",
      "text/plain": [
       "<Figure size 432x288 with 1 Axes>"
      ]
     },
     "metadata": {},
     "output_type": "display_data"
    }
   ],
   "source": [
    "plt.plot(hist_2.history['acc'])\n",
    "plt.plot(hist_2.history['val_acc'])\n",
    "plt.title('Model accuracy')\n",
    "plt.ylabel('Accuracy')\n",
    "plt.xlabel('Epoch')\n",
    "plt.legend(['Train', 'Val'], loc='lower right')\n",
    "plt.show()"
   ]
  },
  {
   "cell_type": "code",
   "execution_count": 76,
   "metadata": {
    "execution": {
     "iopub.execute_input": "2021-10-02T12:10:50.397835Z",
     "iopub.status.busy": "2021-10-02T12:10:50.397495Z",
     "iopub.status.idle": "2021-10-02T12:10:50.404502Z",
     "shell.execute_reply": "2021-10-02T12:10:50.401742Z",
     "shell.execute_reply.started": "2021-10-02T12:10:50.397783Z"
    }
   },
   "outputs": [],
   "source": [
    "from keras.layers import Dropout\n",
    "from keras import regularizers"
   ]
  },
  {
   "cell_type": "code",
   "execution_count": 77,
   "metadata": {
    "execution": {
     "iopub.execute_input": "2021-10-02T12:10:50.408527Z",
     "iopub.status.busy": "2021-10-02T12:10:50.406809Z",
     "iopub.status.idle": "2021-10-02T12:10:50.572394Z",
     "shell.execute_reply": "2021-10-02T12:10:50.571548Z",
     "shell.execute_reply.started": "2021-10-02T12:10:50.407423Z"
    }
   },
   "outputs": [],
   "source": [
    "model_3 = Sequential([\n",
    "    Dense(1000, activation='relu', kernel_regularizer=regularizers.l2(0.01), input_shape=(10,)),\n",
    "    Dropout(0.3),\n",
    "    Dense(1000, activation='relu', kernel_regularizer=regularizers.l2(0.01)),\n",
    "    Dropout(0.3),\n",
    "    Dense(1000, activation='relu', kernel_regularizer=regularizers.l2(0.01)),\n",
    "    Dropout(0.3),\n",
    "    Dense(1000, activation='relu', kernel_regularizer=regularizers.l2(0.01)),\n",
    "    Dropout(0.3),\n",
    "    Dense(1, activation='sigmoid', kernel_regularizer=regularizers.l2(0.01)),\n",
    "])"
   ]
  },
  {
   "cell_type": "code",
   "execution_count": 78,
   "metadata": {
    "execution": {
     "iopub.execute_input": "2021-10-02T12:10:50.573730Z",
     "iopub.status.busy": "2021-10-02T12:10:50.573396Z",
     "iopub.status.idle": "2021-10-02T12:11:34.347989Z",
     "shell.execute_reply": "2021-10-02T12:11:34.346940Z",
     "shell.execute_reply.started": "2021-10-02T12:10:50.573599Z"
    }
   },
   "outputs": [
    {
     "name": "stdout",
     "output_type": "stream",
     "text": [
      "Train on 354 samples, validate on 76 samples\n",
      "Epoch 1/100\n",
      "354/354 [==============================] - 1s 4ms/step - loss: 23.7710 - acc: 0.0028 - val_loss: 15.4289 - val_acc: 0.0000e+00\n",
      "Epoch 2/100\n",
      "354/354 [==============================] - 1s 1ms/step - loss: 11.3671 - acc: 0.0028 - val_loss: 6.8976 - val_acc: 0.0000e+00\n",
      "Epoch 3/100\n",
      "354/354 [==============================] - 1s 2ms/step - loss: 4.9602 - acc: 0.0028 - val_loss: 2.9187 - val_acc: 0.0000e+00\n",
      "Epoch 4/100\n",
      "354/354 [==============================] - 0s 1ms/step - loss: 2.1494 - acc: 0.0028 - val_loss: 1.3568 - val_acc: 0.0000e+00\n",
      "Epoch 5/100\n",
      "354/354 [==============================] - 0s 1ms/step - loss: 1.1087 - acc: 0.0028 - val_loss: 0.8376 - val_acc: 0.0000e+00\n",
      "Epoch 6/100\n",
      "354/354 [==============================] - 0s 1ms/step - loss: 0.7867 - acc: 0.0028 - val_loss: 0.7026 - val_acc: 0.0000e+00\n",
      "Epoch 7/100\n",
      "354/354 [==============================] - 0s 1ms/step - loss: 0.7069 - acc: 0.0028 - val_loss: 0.6718 - val_acc: 0.0000e+00\n",
      "Epoch 8/100\n",
      "354/354 [==============================] - 0s 1ms/step - loss: 0.6918 - acc: 0.0028 - val_loss: 0.6665 - val_acc: 0.0000e+00\n",
      "Epoch 9/100\n",
      "354/354 [==============================] - 0s 1ms/step - loss: 0.6848 - acc: 0.0028 - val_loss: 0.6612 - val_acc: 0.0000e+00\n",
      "Epoch 10/100\n",
      "354/354 [==============================] - 0s 1ms/step - loss: 0.6846 - acc: 0.0028 - val_loss: 0.6607 - val_acc: 0.0000e+00\n",
      "Epoch 11/100\n",
      "354/354 [==============================] - 0s 1ms/step - loss: 0.6845 - acc: 0.0028 - val_loss: 0.6656 - val_acc: 0.0000e+00\n",
      "Epoch 12/100\n",
      "354/354 [==============================] - 0s 1ms/step - loss: 0.6866 - acc: 0.0028 - val_loss: 0.6680 - val_acc: 0.0000e+00\n",
      "Epoch 13/100\n",
      "354/354 [==============================] - 0s 1ms/step - loss: 0.6845 - acc: 0.0028 - val_loss: 0.6635 - val_acc: 0.0000e+00\n",
      "Epoch 14/100\n",
      "354/354 [==============================] - 0s 1ms/step - loss: 0.6880 - acc: 0.0028 - val_loss: 0.6734 - val_acc: 0.0000e+00\n",
      "Epoch 15/100\n",
      "354/354 [==============================] - 0s 1ms/step - loss: 0.6843 - acc: 0.0028 - val_loss: 0.6610 - val_acc: 0.0000e+00\n",
      "Epoch 16/100\n",
      "354/354 [==============================] - 0s 1ms/step - loss: 0.6829 - acc: 0.0028 - val_loss: 0.6609 - val_acc: 0.0000e+00\n",
      "Epoch 17/100\n",
      "354/354 [==============================] - 0s 1ms/step - loss: 0.6821 - acc: 0.0028 - val_loss: 0.6618 - val_acc: 0.0000e+00\n",
      "Epoch 18/100\n",
      "354/354 [==============================] - 0s 1ms/step - loss: 0.6810 - acc: 0.0028 - val_loss: 0.6615 - val_acc: 0.0000e+00\n",
      "Epoch 19/100\n",
      "354/354 [==============================] - 0s 1ms/step - loss: 0.6791 - acc: 0.0028 - val_loss: 0.6561 - val_acc: 0.0000e+00\n",
      "Epoch 20/100\n",
      "354/354 [==============================] - 0s 1ms/step - loss: 0.6764 - acc: 0.0028 - val_loss: 0.6559 - val_acc: 0.0000e+00\n",
      "Epoch 21/100\n",
      "354/354 [==============================] - 0s 1ms/step - loss: 0.6749 - acc: 0.0028 - val_loss: 0.6517 - val_acc: 0.0000e+00\n",
      "Epoch 22/100\n",
      "354/354 [==============================] - 0s 1ms/step - loss: 0.6738 - acc: 0.0028 - val_loss: 0.6503 - val_acc: 0.0000e+00\n",
      "Epoch 23/100\n",
      "354/354 [==============================] - 0s 1ms/step - loss: 0.6729 - acc: 0.0028 - val_loss: 0.6501 - val_acc: 0.0000e+00\n",
      "Epoch 24/100\n",
      "354/354 [==============================] - 0s 1ms/step - loss: 0.6725 - acc: 0.0028 - val_loss: 0.6515 - val_acc: 0.0000e+00\n",
      "Epoch 25/100\n",
      "354/354 [==============================] - 0s 1ms/step - loss: 0.6716 - acc: 0.0028 - val_loss: 0.6486 - val_acc: 0.0000e+00\n",
      "Epoch 26/100\n",
      "354/354 [==============================] - 0s 1ms/step - loss: 0.6724 - acc: 0.0028 - val_loss: 0.6477 - val_acc: 0.0000e+00\n",
      "Epoch 27/100\n",
      "354/354 [==============================] - 0s 1ms/step - loss: 0.6721 - acc: 0.0028 - val_loss: 0.6492 - val_acc: 0.0000e+00\n",
      "Epoch 28/100\n",
      "354/354 [==============================] - 0s 1ms/step - loss: 0.6718 - acc: 0.0028 - val_loss: 0.6490 - val_acc: 0.0000e+00\n",
      "Epoch 29/100\n",
      "354/354 [==============================] - 0s 1ms/step - loss: 0.6714 - acc: 0.0028 - val_loss: 0.6524 - val_acc: 0.0000e+00\n",
      "Epoch 30/100\n",
      "354/354 [==============================] - 0s 1ms/step - loss: 0.6713 - acc: 0.0028 - val_loss: 0.6509 - val_acc: 0.0000e+00\n",
      "Epoch 31/100\n",
      "354/354 [==============================] - 0s 1ms/step - loss: 0.6705 - acc: 0.0028 - val_loss: 0.6483 - val_acc: 0.0000e+00\n",
      "Epoch 32/100\n",
      "354/354 [==============================] - 0s 1ms/step - loss: 0.6714 - acc: 0.0028 - val_loss: 0.6469 - val_acc: 0.0000e+00\n",
      "Epoch 33/100\n",
      "354/354 [==============================] - 0s 1ms/step - loss: 0.6705 - acc: 0.0028 - val_loss: 0.6498 - val_acc: 0.0000e+00\n",
      "Epoch 34/100\n",
      "354/354 [==============================] - 0s 1ms/step - loss: 0.6707 - acc: 0.0028 - val_loss: 0.6488 - val_acc: 0.0000e+00\n",
      "Epoch 35/100\n",
      "354/354 [==============================] - 0s 1ms/step - loss: 0.6705 - acc: 0.0028 - val_loss: 0.6491 - val_acc: 0.0000e+00\n",
      "Epoch 36/100\n",
      "354/354 [==============================] - 0s 1ms/step - loss: 0.6702 - acc: 0.0028 - val_loss: 0.6500 - val_acc: 0.0000e+00\n",
      "Epoch 37/100\n",
      "354/354 [==============================] - 0s 1ms/step - loss: 0.6713 - acc: 0.0028 - val_loss: 0.6545 - val_acc: 0.0000e+00\n",
      "Epoch 38/100\n",
      "354/354 [==============================] - 0s 1ms/step - loss: 0.6709 - acc: 0.0028 - val_loss: 0.6485 - val_acc: 0.0000e+00\n",
      "Epoch 39/100\n",
      "354/354 [==============================] - 0s 1ms/step - loss: 0.6705 - acc: 0.0028 - val_loss: 0.6465 - val_acc: 0.0000e+00\n",
      "Epoch 40/100\n",
      "354/354 [==============================] - 0s 1ms/step - loss: 0.6697 - acc: 0.0028 - val_loss: 0.6484 - val_acc: 0.0000e+00\n",
      "Epoch 41/100\n",
      "354/354 [==============================] - 0s 1ms/step - loss: 0.6700 - acc: 0.0028 - val_loss: 0.6467 - val_acc: 0.0000e+00\n",
      "Epoch 42/100\n",
      "354/354 [==============================] - 0s 1ms/step - loss: 0.6704 - acc: 0.0028 - val_loss: 0.6459 - val_acc: 0.0000e+00\n",
      "Epoch 43/100\n",
      "354/354 [==============================] - 0s 1ms/step - loss: 0.6703 - acc: 0.0028 - val_loss: 0.6460 - val_acc: 0.0000e+00\n",
      "Epoch 44/100\n",
      "354/354 [==============================] - 0s 1ms/step - loss: 0.6702 - acc: 0.0028 - val_loss: 0.6448 - val_acc: 0.0000e+00\n",
      "Epoch 45/100\n",
      "354/354 [==============================] - 0s 1ms/step - loss: 0.6702 - acc: 0.0028 - val_loss: 0.6456 - val_acc: 0.0000e+00\n",
      "Epoch 46/100\n",
      "354/354 [==============================] - 0s 1ms/step - loss: 0.6701 - acc: 0.0028 - val_loss: 0.6481 - val_acc: 0.0000e+00\n",
      "Epoch 47/100\n",
      "354/354 [==============================] - 0s 1ms/step - loss: 0.6717 - acc: 0.0028 - val_loss: 0.6553 - val_acc: 0.0000e+00\n",
      "Epoch 48/100\n",
      "354/354 [==============================] - 0s 1ms/step - loss: 0.6702 - acc: 0.0028 - val_loss: 0.6490 - val_acc: 0.0000e+00\n",
      "Epoch 49/100\n",
      "354/354 [==============================] - 0s 1ms/step - loss: 0.6699 - acc: 0.0028 - val_loss: 0.6460 - val_acc: 0.0000e+00\n",
      "Epoch 50/100\n",
      "354/354 [==============================] - 0s 1ms/step - loss: 0.6701 - acc: 0.0028 - val_loss: 0.6450 - val_acc: 0.0000e+00\n",
      "Epoch 51/100\n",
      "354/354 [==============================] - 0s 1ms/step - loss: 0.6701 - acc: 0.0028 - val_loss: 0.6468 - val_acc: 0.0000e+00\n",
      "Epoch 52/100\n",
      "354/354 [==============================] - 0s 1ms/step - loss: 0.6701 - acc: 0.0028 - val_loss: 0.6451 - val_acc: 0.0000e+00\n",
      "Epoch 53/100\n",
      "354/354 [==============================] - 0s 1ms/step - loss: 0.6710 - acc: 0.0028 - val_loss: 0.6448 - val_acc: 0.0000e+00\n",
      "Epoch 54/100\n",
      "354/354 [==============================] - 0s 1ms/step - loss: 0.6699 - acc: 0.0028 - val_loss: 0.6482 - val_acc: 0.0000e+00\n",
      "Epoch 55/100\n",
      "354/354 [==============================] - 0s 1ms/step - loss: 0.6699 - acc: 0.0028 - val_loss: 0.6480 - val_acc: 0.0000e+00\n",
      "Epoch 56/100\n",
      "354/354 [==============================] - 0s 1ms/step - loss: 0.6696 - acc: 0.0028 - val_loss: 0.6456 - val_acc: 0.0000e+00\n",
      "Epoch 57/100\n",
      "354/354 [==============================] - 0s 1ms/step - loss: 0.6697 - acc: 0.0028 - val_loss: 0.6447 - val_acc: 0.0000e+00\n",
      "Epoch 58/100\n",
      "354/354 [==============================] - 0s 1ms/step - loss: 0.6700 - acc: 0.0028 - val_loss: 0.6458 - val_acc: 0.0000e+00\n",
      "Epoch 59/100\n",
      "354/354 [==============================] - 0s 1ms/step - loss: 0.6691 - acc: 0.0028 - val_loss: 0.6463 - val_acc: 0.0000e+00\n",
      "Epoch 60/100\n",
      "354/354 [==============================] - 0s 1ms/step - loss: 0.6697 - acc: 0.0028 - val_loss: 0.6470 - val_acc: 0.0000e+00\n",
      "Epoch 61/100\n",
      "354/354 [==============================] - 0s 1ms/step - loss: 0.6698 - acc: 0.0028 - val_loss: 0.6463 - val_acc: 0.0000e+00\n",
      "Epoch 62/100\n",
      "354/354 [==============================] - 0s 1ms/step - loss: 0.6693 - acc: 0.0028 - val_loss: 0.6452 - val_acc: 0.0000e+00\n",
      "Epoch 63/100\n",
      "354/354 [==============================] - 0s 1ms/step - loss: 0.6701 - acc: 0.0028 - val_loss: 0.6465 - val_acc: 0.0000e+00\n",
      "Epoch 64/100\n",
      "354/354 [==============================] - 0s 1ms/step - loss: 0.6695 - acc: 0.0028 - val_loss: 0.6458 - val_acc: 0.0000e+00\n",
      "Epoch 65/100\n",
      "354/354 [==============================] - 0s 1ms/step - loss: 0.6699 - acc: 0.0028 - val_loss: 0.6446 - val_acc: 0.0000e+00\n",
      "Epoch 66/100\n",
      "354/354 [==============================] - 0s 1ms/step - loss: 0.6696 - acc: 0.0028 - val_loss: 0.6486 - val_acc: 0.0000e+00\n",
      "Epoch 67/100\n",
      "354/354 [==============================] - 0s 1ms/step - loss: 0.6697 - acc: 0.0028 - val_loss: 0.6485 - val_acc: 0.0000e+00\n",
      "Epoch 68/100\n",
      "354/354 [==============================] - 0s 1ms/step - loss: 0.6700 - acc: 0.0028 - val_loss: 0.6486 - val_acc: 0.0000e+00\n",
      "Epoch 69/100\n",
      "354/354 [==============================] - 0s 1ms/step - loss: 0.6695 - acc: 0.0028 - val_loss: 0.6470 - val_acc: 0.0000e+00\n",
      "Epoch 70/100\n",
      "354/354 [==============================] - 0s 1ms/step - loss: 0.6695 - acc: 0.0028 - val_loss: 0.6440 - val_acc: 0.0000e+00\n",
      "Epoch 71/100\n",
      "354/354 [==============================] - 0s 1ms/step - loss: 0.6696 - acc: 0.0028 - val_loss: 0.6452 - val_acc: 0.0000e+00\n",
      "Epoch 72/100\n",
      "354/354 [==============================] - 0s 1ms/step - loss: 0.6691 - acc: 0.0028 - val_loss: 0.6488 - val_acc: 0.0000e+00\n",
      "Epoch 73/100\n",
      "354/354 [==============================] - 0s 1ms/step - loss: 0.6697 - acc: 0.0028 - val_loss: 0.6458 - val_acc: 0.0000e+00\n",
      "Epoch 74/100\n",
      "354/354 [==============================] - 1s 2ms/step - loss: 0.6701 - acc: 0.0028 - val_loss: 0.6454 - val_acc: 0.0000e+00\n",
      "Epoch 75/100\n",
      "354/354 [==============================] - 1s 1ms/step - loss: 0.6685 - acc: 0.0028 - val_loss: 0.6455 - val_acc: 0.0000e+00\n",
      "Epoch 76/100\n",
      "354/354 [==============================] - 0s 1ms/step - loss: 0.6693 - acc: 0.0028 - val_loss: 0.6474 - val_acc: 0.0000e+00\n",
      "Epoch 77/100\n",
      "354/354 [==============================] - 0s 1ms/step - loss: 0.6697 - acc: 0.0028 - val_loss: 0.6501 - val_acc: 0.0000e+00\n",
      "Epoch 78/100\n",
      "354/354 [==============================] - 0s 1ms/step - loss: 0.6697 - acc: 0.0028 - val_loss: 0.6473 - val_acc: 0.0000e+00\n",
      "Epoch 79/100\n",
      "354/354 [==============================] - 0s 1ms/step - loss: 0.6698 - acc: 0.0028 - val_loss: 0.6446 - val_acc: 0.0000e+00\n",
      "Epoch 80/100\n",
      "354/354 [==============================] - 0s 1ms/step - loss: 0.6696 - acc: 0.0028 - val_loss: 0.6475 - val_acc: 0.0000e+00\n",
      "Epoch 81/100\n",
      "354/354 [==============================] - 0s 1ms/step - loss: 0.6691 - acc: 0.0028 - val_loss: 0.6445 - val_acc: 0.0000e+00\n",
      "Epoch 82/100\n",
      "354/354 [==============================] - 0s 1ms/step - loss: 0.6694 - acc: 0.0028 - val_loss: 0.6444 - val_acc: 0.0000e+00\n",
      "Epoch 83/100\n",
      "354/354 [==============================] - 0s 1ms/step - loss: 0.6690 - acc: 0.0028 - val_loss: 0.6464 - val_acc: 0.0000e+00\n",
      "Epoch 84/100\n",
      "354/354 [==============================] - 0s 1ms/step - loss: 0.6697 - acc: 0.0028 - val_loss: 0.6480 - val_acc: 0.0000e+00\n",
      "Epoch 85/100\n",
      "354/354 [==============================] - 0s 1ms/step - loss: 0.6694 - acc: 0.0028 - val_loss: 0.6483 - val_acc: 0.0000e+00\n",
      "Epoch 86/100\n",
      "354/354 [==============================] - 0s 1ms/step - loss: 0.6694 - acc: 0.0028 - val_loss: 0.6473 - val_acc: 0.0000e+00\n",
      "Epoch 87/100\n",
      "354/354 [==============================] - 0s 1ms/step - loss: 0.6692 - acc: 0.0028 - val_loss: 0.6464 - val_acc: 0.0000e+00\n",
      "Epoch 88/100\n",
      "354/354 [==============================] - 0s 1ms/step - loss: 0.6691 - acc: 0.0028 - val_loss: 0.6486 - val_acc: 0.0000e+00\n",
      "Epoch 89/100\n",
      "354/354 [==============================] - 0s 1ms/step - loss: 0.6699 - acc: 0.0028 - val_loss: 0.6507 - val_acc: 0.0000e+00\n",
      "Epoch 90/100\n",
      "354/354 [==============================] - 0s 1ms/step - loss: 0.6699 - acc: 0.0028 - val_loss: 0.6500 - val_acc: 0.0000e+00\n",
      "Epoch 91/100\n",
      "354/354 [==============================] - 1s 2ms/step - loss: 0.6702 - acc: 0.0028 - val_loss: 0.6446 - val_acc: 0.0000e+00\n",
      "Epoch 92/100\n",
      "354/354 [==============================] - 1s 2ms/step - loss: 0.6693 - acc: 0.0028 - val_loss: 0.6450 - val_acc: 0.0000e+00\n",
      "Epoch 93/100\n",
      "354/354 [==============================] - 1s 2ms/step - loss: 0.6693 - acc: 0.0028 - val_loss: 0.6448 - val_acc: 0.0000e+00\n",
      "Epoch 94/100\n",
      "354/354 [==============================] - 1s 2ms/step - loss: 0.6703 - acc: 0.0028 - val_loss: 0.6435 - val_acc: 0.0000e+00\n",
      "Epoch 95/100\n",
      "354/354 [==============================] - 1s 2ms/step - loss: 0.6691 - acc: 0.0028 - val_loss: 0.6467 - val_acc: 0.0000e+00\n",
      "Epoch 96/100\n",
      "354/354 [==============================] - 1s 2ms/step - loss: 0.6689 - acc: 0.0028 - val_loss: 0.6483 - val_acc: 0.0000e+00\n",
      "Epoch 97/100\n",
      "354/354 [==============================] - 1s 2ms/step - loss: 0.6695 - acc: 0.0028 - val_loss: 0.6470 - val_acc: 0.0000e+00\n",
      "Epoch 98/100\n",
      "354/354 [==============================] - 1s 2ms/step - loss: 0.6689 - acc: 0.0028 - val_loss: 0.6457 - val_acc: 0.0000e+00\n",
      "Epoch 99/100\n",
      "354/354 [==============================] - 1s 2ms/step - loss: 0.6692 - acc: 0.0028 - val_loss: 0.6458 - val_acc: 0.0000e+00\n",
      "Epoch 100/100\n",
      "354/354 [==============================] - 1s 2ms/step - loss: 0.6691 - acc: 0.0028 - val_loss: 0.6468 - val_acc: 0.0000e+00\n"
     ]
    }
   ],
   "source": [
    "model_3.compile(optimizer='adam',\n",
    "              loss='binary_crossentropy',\n",
    "              metrics=['accuracy'])\n",
    "              \n",
    "hist_3 = model_3.fit(X_train, Y_train,\n",
    "          batch_size=32, epochs=100,\n",
    "          validation_data=(X_val, Y_val))"
   ]
  },
  {
   "cell_type": "code",
   "execution_count": 79,
   "metadata": {
    "execution": {
     "iopub.execute_input": "2021-10-02T12:11:34.349318Z",
     "iopub.status.busy": "2021-10-02T12:11:34.349018Z",
     "iopub.status.idle": "2021-10-02T12:11:34.574148Z",
     "shell.execute_reply": "2021-10-02T12:11:34.573226Z",
     "shell.execute_reply.started": "2021-10-02T12:11:34.349270Z"
    }
   },
   "outputs": [
    {
     "data": {
      "image/png": "[encoded data removed]",
      "text/plain": [
       "<Figure size 432x288 with 1 Axes>"
      ]
     },
     "metadata": {},
     "output_type": "display_data"
    }
   ],
   "source": [
    "plt.plot(hist_3.history['loss'])\n",
    "plt.plot(hist_3.history['val_loss'])\n",
    "plt.title('Model loss')\n",
    "plt.ylabel('Loss')\n",
    "plt.xlabel('Epoch')\n",
    "plt.legend(['Train', 'Val'], loc='upper right')\n",
    "plt.ylim(top=1.2, bottom=0)\n",
    "plt.show()"
   ]
  },
  {
   "cell_type": "code",
   "execution_count": 80,
   "metadata": {
    "execution": {
     "iopub.execute_input": "2021-10-02T12:11:34.576059Z",
     "iopub.status.busy": "2021-10-02T12:11:34.575529Z",
     "iopub.status.idle": "2021-10-02T12:11:34.803983Z",
     "shell.execute_reply": "2021-10-02T12:11:34.803031Z",
     "shell.execute_reply.started": "2021-10-02T12:11:34.576000Z"
    }
   },
   "outputs": [
    {
     "data": {
      "image/png": "[encoded data removed]",
      "text/plain": [
       "<Figure size 432x288 with 1 Axes>"
      ]
     },
     "metadata": {},
     "output_type": "display_data"
    }
   ],
   "source": [
    "plt.plot(hist_3.history['acc'])\n",
    "plt.plot(hist_3.history['val_acc'])\n",
    "plt.title('Model accuracy')\n",
    "plt.ylabel('Accuracy')\n",
    "plt.xlabel('Epoch')\n",
    "plt.legend(['Train', 'Val'], loc='lower right')\n",
    "plt.show()"
   ]
  },
  {
   "cell_type": "code",
   "execution_count": 81,
   "metadata": {
    "execution": {
     "iopub.execute_input": "2021-10-02T12:11:34.805913Z",
     "iopub.status.busy": "2021-10-02T12:11:34.805399Z",
     "iopub.status.idle": "2021-10-02T12:11:34.814602Z",
     "shell.execute_reply": "2021-10-02T12:11:34.813721Z",
     "shell.execute_reply.started": "2021-10-02T12:11:34.805856Z"
    }
   },
   "outputs": [],
   "source": [
    "import pandas as pd\n",
    "import numpy as np\n",
    "from sklearn.linear_model import LinearRegression\n",
    "import seaborn as sns\n",
    "%matplotlib inline\n",
    "import matplotlib.pyplot as plt"
   ]
  },
  {
   "cell_type": "code",
   "execution_count": 82,
   "metadata": {
    "execution": {
     "iopub.execute_input": "2021-10-02T12:11:34.816727Z",
     "iopub.status.busy": "2021-10-02T12:11:34.816180Z",
     "iopub.status.idle": "2021-10-02T12:11:34.822903Z",
     "shell.execute_reply": "2021-10-02T12:11:34.822074Z",
     "shell.execute_reply.started": "2021-10-02T12:11:34.816671Z"
    }
   },
   "outputs": [],
   "source": [
    "df = pd.DataFrame(boston.data)"
   ]
  },
  {
   "cell_type": "code",
   "execution_count": 83,
   "metadata": {
    "execution": {
     "iopub.execute_input": "2021-10-02T12:11:34.824693Z",
     "iopub.status.busy": "2021-10-02T12:11:34.824188Z",
     "iopub.status.idle": "2021-10-02T12:11:34.866972Z",
     "shell.execute_reply": "2021-10-02T12:11:34.866311Z",
     "shell.execute_reply.started": "2021-10-02T12:11:34.824637Z"
    }
   },
   "outputs": [
    {
     "data": {
      "text/html": [
       "<div>\n",
       "<style scoped>\n",
       "    .dataframe tbody tr th:only-of-type {\n",
       "        vertical-align: middle;\n",
       "    }\n",
       "\n",
       "    .dataframe tbody tr th {\n",
       "        vertical-align: top;\n",
       "    }\n",
       "\n",
       "    .dataframe thead th {\n",
       "        text-align: right;\n",
       "    }\n",
       "</style>\n",
       "<table border=\"1\" class=\"dataframe\">\n",
       "  <thead>\n",
       "    <tr style=\"text-align: right;\">\n",
       "      <th></th>\n",
       "      <th>0</th>\n",
       "      <th>1</th>\n",
       "      <th>2</th>\n",
       "      <th>3</th>\n",
       "      <th>4</th>\n",
       "      <th>5</th>\n",
       "      <th>6</th>\n",
       "      <th>7</th>\n",
       "      <th>8</th>\n",
       "      <th>9</th>\n",
       "      <th>10</th>\n",
       "      <th>11</th>\n",
       "      <th>12</th>\n",
       "    </tr>\n",
       "  </thead>\n",
       "  <tbody>\n",
       "    <tr>\n",
       "      <th>0</th>\n",
       "      <td>0.00632</td>\n",
       "      <td>18.0</td>\n",
       "      <td>2.31</td>\n",
       "      <td>0.0</td>\n",
       "      <td>0.538</td>\n",
       "      <td>6.575</td>\n",
       "      <td>65.2</td>\n",
       "      <td>4.0900</td>\n",
       "      <td>1.0</td>\n",
       "      <td>296.0</td>\n",
       "      <td>15.3</td>\n",
       "      <td>396.90</td>\n",
       "      <td>4.98</td>\n",
       "    </tr>\n",
       "    <tr>\n",
       "      <th>1</th>\n",
       "      <td>0.02731</td>\n",
       "      <td>0.0</td>\n",
       "      <td>7.07</td>\n",
       "      <td>0.0</td>\n",
       "      <td>0.469</td>\n",
       "      <td>6.421</td>\n",
       "      <td>78.9</td>\n",
       "      <td>4.9671</td>\n",
       "      <td>2.0</td>\n",
       "      <td>242.0</td>\n",
       "      <td>17.8</td>\n",
       "      <td>396.90</td>\n",
       "      <td>9.14</td>\n",
       "    </tr>\n",
       "    <tr>\n",
       "      <th>2</th>\n",
       "      <td>0.02729</td>\n",
       "      <td>0.0</td>\n",
       "      <td>7.07</td>\n",
       "      <td>0.0</td>\n",
       "      <td>0.469</td>\n",
       "      <td>7.185</td>\n",
       "      <td>61.1</td>\n",
       "      <td>4.9671</td>\n",
       "      <td>2.0</td>\n",
       "      <td>242.0</td>\n",
       "      <td>17.8</td>\n",
       "      <td>392.83</td>\n",
       "      <td>4.03</td>\n",
       "    </tr>\n",
       "    <tr>\n",
       "      <th>3</th>\n",
       "      <td>0.03237</td>\n",
       "      <td>0.0</td>\n",
       "      <td>2.18</td>\n",
       "      <td>0.0</td>\n",
       "      <td>0.458</td>\n",
       "      <td>6.998</td>\n",
       "      <td>45.8</td>\n",
       "      <td>6.0622</td>\n",
       "      <td>3.0</td>\n",
       "      <td>222.0</td>\n",
       "      <td>18.7</td>\n",
       "      <td>394.63</td>\n",
       "      <td>2.94</td>\n",
       "    </tr>\n",
       "    <tr>\n",
       "      <th>4</th>\n",
       "      <td>0.06905</td>\n",
       "      <td>0.0</td>\n",
       "      <td>2.18</td>\n",
       "      <td>0.0</td>\n",
       "      <td>0.458</td>\n",
       "      <td>7.147</td>\n",
       "      <td>54.2</td>\n",
       "      <td>6.0622</td>\n",
       "      <td>3.0</td>\n",
       "      <td>222.0</td>\n",
       "      <td>18.7</td>\n",
       "      <td>396.90</td>\n",
       "      <td>5.33</td>\n",
       "    </tr>\n",
       "  </tbody>\n",
       "</table>\n",
       "</div>"
      ],
      "text/plain": [
       "        0     1     2    3      4   ...    8      9     10      11    12\n",
       "0  0.00632  18.0  2.31  0.0  0.538  ...   1.0  296.0  15.3  396.90  4.98\n",
       "1  0.02731   0.0  7.07  0.0  0.469  ...   2.0  242.0  17.8  396.90  9.14\n",
       "2  0.02729   0.0  7.07  0.0  0.469  ...   2.0  242.0  17.8  392.83  4.03\n",
       "3  0.03237   0.0  2.18  0.0  0.458  ...   3.0  222.0  18.7  394.63  2.94\n",
       "4  0.06905   0.0  2.18  0.0  0.458  ...   3.0  222.0  18.7  396.90  5.33\n",
       "\n",
       "[5 rows x 13 columns]"
      ]
     },
     "execution_count": 83,
     "metadata": {},
     "output_type": "execute_result"
    }
   ],
   "source": [
    "df.head()"
   ]
  },
  {
   "cell_type": "code",
   "execution_count": 84,
   "metadata": {
    "execution": {
     "iopub.execute_input": "2021-10-02T12:11:34.868085Z",
     "iopub.status.busy": "2021-10-02T12:11:34.867776Z",
     "iopub.status.idle": "2021-10-02T12:11:34.873120Z",
     "shell.execute_reply": "2021-10-02T12:11:34.872209Z",
     "shell.execute_reply.started": "2021-10-02T12:11:34.868052Z"
    }
   },
   "outputs": [
    {
     "data": {
      "text/plain": [
       "array([[0.00000000e+00, 1.80000000e-01, 6.78152493e-02, ...,\n",
       "        1.00000000e+00, 8.96799117e-02, 4.22222222e-01],\n",
       "       [2.35922539e-04, 0.00000000e+00, 2.42302053e-01, ...,\n",
       "        1.00000000e+00, 2.04470199e-01, 3.68888889e-01],\n",
       "       [2.35697744e-04, 0.00000000e+00, 2.42302053e-01, ...,\n",
       "        9.89737254e-01, 6.34657837e-02, 6.60000000e-01],\n",
       "       ...,\n",
       "       [6.11892474e-04, 0.00000000e+00, 4.20454545e-01, ...,\n",
       "        1.00000000e+00, 1.07891832e-01, 4.20000000e-01],\n",
       "       [1.16072990e-03, 0.00000000e+00, 4.20454545e-01, ...,\n",
       "        9.91300620e-01, 1.31070640e-01, 3.77777778e-01],\n",
       "       [4.61841693e-04, 0.00000000e+00, 4.20454545e-01, ...,\n",
       "        1.00000000e+00, 1.69701987e-01, 1.53333333e-01]])"
      ]
     },
     "execution_count": 84,
     "metadata": {},
     "output_type": "execute_result"
    }
   ],
   "source": [
    "data"
   ]
  },
  {
   "cell_type": "code",
   "execution_count": 85,
   "metadata": {
    "execution": {
     "iopub.execute_input": "2021-10-02T12:11:34.874553Z",
     "iopub.status.busy": "2021-10-02T12:11:34.874296Z",
     "iopub.status.idle": "2021-10-02T12:11:35.220220Z",
     "shell.execute_reply": "2021-10-02T12:11:35.218842Z",
     "shell.execute_reply.started": "2021-10-02T12:11:34.874508Z"
    }
   },
   "outputs": [
    {
     "data": {
      "text/plain": [
       "Text(0.5,1,'Median value of owner-occupied homes Distribution')"
      ]
     },
     "execution_count": 85,
     "metadata": {},
     "output_type": "execute_result"
    },
    {
     "data": {
      "image/png": "[encoded data removed]",
      "text/plain": [
       "<Figure size 432x288 with 1 Axes>"
      ]
     },
     "metadata": {},
     "output_type": "display_data"
    }
   ],
   "source": [
    "plt.hist(boston.target, bins = 50, edgecolor = 'k');\n",
    "plt.xlabel('Median value')\n",
    "plt.ylabel('Number of Houses')\n",
    "plt.title('Median value of owner-occupied homes Distribution')"
   ]
  },
  {
   "cell_type": "code",
   "execution_count": 86,
   "metadata": {
    "execution": {
     "iopub.execute_input": "2021-10-02T12:11:35.222560Z",
     "iopub.status.busy": "2021-10-02T12:11:35.222022Z",
     "iopub.status.idle": "2021-10-02T12:11:35.275046Z",
     "shell.execute_reply": "2021-10-02T12:11:35.274188Z",
     "shell.execute_reply.started": "2021-10-02T12:11:35.222309Z"
    }
   },
   "outputs": [
    {
     "data": {
      "text/html": [
       "<div>\n",
       "<style scoped>\n",
       "    .dataframe tbody tr th:only-of-type {\n",
       "        vertical-align: middle;\n",
       "    }\n",
       "\n",
       "    .dataframe tbody tr th {\n",
       "        vertical-align: top;\n",
       "    }\n",
       "\n",
       "    .dataframe thead th {\n",
       "        text-align: right;\n",
       "    }\n",
       "</style>\n",
       "<table border=\"1\" class=\"dataframe\">\n",
       "  <thead>\n",
       "    <tr style=\"text-align: right;\">\n",
       "      <th></th>\n",
       "      <th>0</th>\n",
       "      <th>1</th>\n",
       "      <th>2</th>\n",
       "      <th>3</th>\n",
       "      <th>4</th>\n",
       "      <th>5</th>\n",
       "      <th>6</th>\n",
       "      <th>7</th>\n",
       "      <th>8</th>\n",
       "      <th>9</th>\n",
       "      <th>10</th>\n",
       "      <th>11</th>\n",
       "      <th>12</th>\n",
       "    </tr>\n",
       "  </thead>\n",
       "  <tbody>\n",
       "    <tr>\n",
       "      <th>0</th>\n",
       "      <td>0.00632</td>\n",
       "      <td>18.0</td>\n",
       "      <td>2.31</td>\n",
       "      <td>0.0</td>\n",
       "      <td>0.538</td>\n",
       "      <td>6.575</td>\n",
       "      <td>65.2</td>\n",
       "      <td>4.0900</td>\n",
       "      <td>1.0</td>\n",
       "      <td>296.0</td>\n",
       "      <td>15.3</td>\n",
       "      <td>396.90</td>\n",
       "      <td>4.98</td>\n",
       "    </tr>\n",
       "    <tr>\n",
       "      <th>1</th>\n",
       "      <td>0.02731</td>\n",
       "      <td>0.0</td>\n",
       "      <td>7.07</td>\n",
       "      <td>0.0</td>\n",
       "      <td>0.469</td>\n",
       "      <td>6.421</td>\n",
       "      <td>78.9</td>\n",
       "      <td>4.9671</td>\n",
       "      <td>2.0</td>\n",
       "      <td>242.0</td>\n",
       "      <td>17.8</td>\n",
       "      <td>396.90</td>\n",
       "      <td>9.14</td>\n",
       "    </tr>\n",
       "    <tr>\n",
       "      <th>2</th>\n",
       "      <td>0.02729</td>\n",
       "      <td>0.0</td>\n",
       "      <td>7.07</td>\n",
       "      <td>0.0</td>\n",
       "      <td>0.469</td>\n",
       "      <td>7.185</td>\n",
       "      <td>61.1</td>\n",
       "      <td>4.9671</td>\n",
       "      <td>2.0</td>\n",
       "      <td>242.0</td>\n",
       "      <td>17.8</td>\n",
       "      <td>392.83</td>\n",
       "      <td>4.03</td>\n",
       "    </tr>\n",
       "    <tr>\n",
       "      <th>3</th>\n",
       "      <td>0.03237</td>\n",
       "      <td>0.0</td>\n",
       "      <td>2.18</td>\n",
       "      <td>0.0</td>\n",
       "      <td>0.458</td>\n",
       "      <td>6.998</td>\n",
       "      <td>45.8</td>\n",
       "      <td>6.0622</td>\n",
       "      <td>3.0</td>\n",
       "      <td>222.0</td>\n",
       "      <td>18.7</td>\n",
       "      <td>394.63</td>\n",
       "      <td>2.94</td>\n",
       "    </tr>\n",
       "    <tr>\n",
       "      <th>4</th>\n",
       "      <td>0.06905</td>\n",
       "      <td>0.0</td>\n",
       "      <td>2.18</td>\n",
       "      <td>0.0</td>\n",
       "      <td>0.458</td>\n",
       "      <td>7.147</td>\n",
       "      <td>54.2</td>\n",
       "      <td>6.0622</td>\n",
       "      <td>3.0</td>\n",
       "      <td>222.0</td>\n",
       "      <td>18.7</td>\n",
       "      <td>396.90</td>\n",
       "      <td>5.33</td>\n",
       "    </tr>\n",
       "  </tbody>\n",
       "</table>\n",
       "</div>"
      ],
      "text/plain": [
       "        0     1     2    3      4   ...    8      9     10      11    12\n",
       "0  0.00632  18.0  2.31  0.0  0.538  ...   1.0  296.0  15.3  396.90  4.98\n",
       "1  0.02731   0.0  7.07  0.0  0.469  ...   2.0  242.0  17.8  396.90  9.14\n",
       "2  0.02729   0.0  7.07  0.0  0.469  ...   2.0  242.0  17.8  392.83  4.03\n",
       "3  0.03237   0.0  2.18  0.0  0.458  ...   3.0  222.0  18.7  394.63  2.94\n",
       "4  0.06905   0.0  2.18  0.0  0.458  ...   3.0  222.0  18.7  396.90  5.33\n",
       "\n",
       "[5 rows x 13 columns]"
      ]
     },
     "execution_count": 86,
     "metadata": {},
     "output_type": "execute_result"
    }
   ],
   "source": [
    "data2 = pd.DataFrame(boston.data)\n",
    "data2.head()"
   ]
  },
  {
   "cell_type": "code",
   "execution_count": 87,
   "metadata": {
    "execution": {
     "iopub.execute_input": "2021-10-02T12:11:35.276277Z",
     "iopub.status.busy": "2021-10-02T12:11:35.276072Z",
     "iopub.status.idle": "2021-10-02T12:11:35.310704Z",
     "shell.execute_reply": "2021-10-02T12:11:35.309877Z",
     "shell.execute_reply.started": "2021-10-02T12:11:35.276238Z"
    }
   },
   "outputs": [
    {
     "data": {
      "text/html": [
       "<div>\n",
       "<style scoped>\n",
       "    .dataframe tbody tr th:only-of-type {\n",
       "        vertical-align: middle;\n",
       "    }\n",
       "\n",
       "    .dataframe tbody tr th {\n",
       "        vertical-align: top;\n",
       "    }\n",
       "\n",
       "    .dataframe thead th {\n",
       "        text-align: right;\n",
       "    }\n",
       "</style>\n",
       "<table border=\"1\" class=\"dataframe\">\n",
       "  <thead>\n",
       "    <tr style=\"text-align: right;\">\n",
       "      <th></th>\n",
       "      <th>CRIM</th>\n",
       "      <th>ZN</th>\n",
       "      <th>INDUS</th>\n",
       "      <th>CHAS</th>\n",
       "      <th>NOX</th>\n",
       "      <th>RM</th>\n",
       "      <th>AGE</th>\n",
       "      <th>DIS</th>\n",
       "      <th>RAD</th>\n",
       "      <th>TAX</th>\n",
       "      <th>PTRATIO</th>\n",
       "      <th>B</th>\n",
       "      <th>LSTAT</th>\n",
       "    </tr>\n",
       "  </thead>\n",
       "  <tbody>\n",
       "    <tr>\n",
       "      <th>0</th>\n",
       "      <td>0.00632</td>\n",
       "      <td>18.0</td>\n",
       "      <td>2.31</td>\n",
       "      <td>0.0</td>\n",
       "      <td>0.538</td>\n",
       "      <td>6.575</td>\n",
       "      <td>65.2</td>\n",
       "      <td>4.0900</td>\n",
       "      <td>1.0</td>\n",
       "      <td>296.0</td>\n",
       "      <td>15.3</td>\n",
       "      <td>396.90</td>\n",
       "      <td>4.98</td>\n",
       "    </tr>\n",
       "    <tr>\n",
       "      <th>1</th>\n",
       "      <td>0.02731</td>\n",
       "      <td>0.0</td>\n",
       "      <td>7.07</td>\n",
       "      <td>0.0</td>\n",
       "      <td>0.469</td>\n",
       "      <td>6.421</td>\n",
       "      <td>78.9</td>\n",
       "      <td>4.9671</td>\n",
       "      <td>2.0</td>\n",
       "      <td>242.0</td>\n",
       "      <td>17.8</td>\n",
       "      <td>396.90</td>\n",
       "      <td>9.14</td>\n",
       "    </tr>\n",
       "    <tr>\n",
       "      <th>2</th>\n",
       "      <td>0.02729</td>\n",
       "      <td>0.0</td>\n",
       "      <td>7.07</td>\n",
       "      <td>0.0</td>\n",
       "      <td>0.469</td>\n",
       "      <td>7.185</td>\n",
       "      <td>61.1</td>\n",
       "      <td>4.9671</td>\n",
       "      <td>2.0</td>\n",
       "      <td>242.0</td>\n",
       "      <td>17.8</td>\n",
       "      <td>392.83</td>\n",
       "      <td>4.03</td>\n",
       "    </tr>\n",
       "    <tr>\n",
       "      <th>3</th>\n",
       "      <td>0.03237</td>\n",
       "      <td>0.0</td>\n",
       "      <td>2.18</td>\n",
       "      <td>0.0</td>\n",
       "      <td>0.458</td>\n",
       "      <td>6.998</td>\n",
       "      <td>45.8</td>\n",
       "      <td>6.0622</td>\n",
       "      <td>3.0</td>\n",
       "      <td>222.0</td>\n",
       "      <td>18.7</td>\n",
       "      <td>394.63</td>\n",
       "      <td>2.94</td>\n",
       "    </tr>\n",
       "    <tr>\n",
       "      <th>4</th>\n",
       "      <td>0.06905</td>\n",
       "      <td>0.0</td>\n",
       "      <td>2.18</td>\n",
       "      <td>0.0</td>\n",
       "      <td>0.458</td>\n",
       "      <td>7.147</td>\n",
       "      <td>54.2</td>\n",
       "      <td>6.0622</td>\n",
       "      <td>3.0</td>\n",
       "      <td>222.0</td>\n",
       "      <td>18.7</td>\n",
       "      <td>396.90</td>\n",
       "      <td>5.33</td>\n",
       "    </tr>\n",
       "  </tbody>\n",
       "</table>\n",
       "</div>"
      ],
      "text/plain": [
       "      CRIM    ZN  INDUS  CHAS    NOX  ...    RAD    TAX  PTRATIO       B  LSTAT\n",
       "0  0.00632  18.0   2.31   0.0  0.538  ...    1.0  296.0     15.3  396.90   4.98\n",
       "1  0.02731   0.0   7.07   0.0  0.469  ...    2.0  242.0     17.8  396.90   9.14\n",
       "2  0.02729   0.0   7.07   0.0  0.469  ...    2.0  242.0     17.8  392.83   4.03\n",
       "3  0.03237   0.0   2.18   0.0  0.458  ...    3.0  222.0     18.7  394.63   2.94\n",
       "4  0.06905   0.0   2.18   0.0  0.458  ...    3.0  222.0     18.7  396.90   5.33\n",
       "\n",
       "[5 rows x 13 columns]"
      ]
     },
     "execution_count": 87,
     "metadata": {},
     "output_type": "execute_result"
    }
   ],
   "source": [
    "data2.columns = boston.feature_names\n",
    "data2.head()"
   ]
  },
  {
   "cell_type": "code",
   "execution_count": 88,
   "metadata": {
    "execution": {
     "iopub.execute_input": "2021-10-02T12:11:35.312379Z",
     "iopub.status.busy": "2021-10-02T12:11:35.312044Z",
     "iopub.status.idle": "2021-10-02T12:11:35.317302Z",
     "shell.execute_reply": "2021-10-02T12:11:35.316399Z",
     "shell.execute_reply.started": "2021-10-02T12:11:35.312290Z"
    }
   },
   "outputs": [],
   "source": [
    "data2['CRIM'] = boston.target"
   ]
  },
  {
   "cell_type": "code",
   "execution_count": 89,
   "metadata": {
    "execution": {
     "iopub.execute_input": "2021-10-02T12:11:35.318599Z",
     "iopub.status.busy": "2021-10-02T12:11:35.318348Z",
     "iopub.status.idle": "2021-10-02T12:11:35.326404Z",
     "shell.execute_reply": "2021-10-02T12:11:35.325679Z",
     "shell.execute_reply.started": "2021-10-02T12:11:35.318553Z"
    }
   },
   "outputs": [],
   "source": [
    "X2 = data2.drop(['CRIM'], axis = 1)\n",
    "y2 = data2['CRIM']"
   ]
  },
  {
   "cell_type": "code",
   "execution_count": 90,
   "metadata": {
    "execution": {
     "iopub.execute_input": "2021-10-02T12:11:35.327743Z",
     "iopub.status.busy": "2021-10-02T12:11:35.327528Z",
     "iopub.status.idle": "2021-10-02T12:11:35.399600Z",
     "shell.execute_reply": "2021-10-02T12:11:35.398635Z",
     "shell.execute_reply.started": "2021-10-02T12:11:35.327712Z"
    }
   },
   "outputs": [
    {
     "data": {
      "text/html": [
       "<div>\n",
       "<style scoped>\n",
       "    .dataframe tbody tr th:only-of-type {\n",
       "        vertical-align: middle;\n",
       "    }\n",
       "\n",
       "    .dataframe tbody tr th {\n",
       "        vertical-align: top;\n",
       "    }\n",
       "\n",
       "    .dataframe thead th {\n",
       "        text-align: right;\n",
       "    }\n",
       "</style>\n",
       "<table border=\"1\" class=\"dataframe\">\n",
       "  <thead>\n",
       "    <tr style=\"text-align: right;\">\n",
       "      <th></th>\n",
       "      <th>ZN</th>\n",
       "      <th>INDUS</th>\n",
       "      <th>CHAS</th>\n",
       "      <th>NOX</th>\n",
       "      <th>RM</th>\n",
       "      <th>AGE</th>\n",
       "      <th>DIS</th>\n",
       "      <th>RAD</th>\n",
       "      <th>TAX</th>\n",
       "      <th>PTRATIO</th>\n",
       "      <th>B</th>\n",
       "      <th>LSTAT</th>\n",
       "    </tr>\n",
       "  </thead>\n",
       "  <tbody>\n",
       "    <tr>\n",
       "      <th>0</th>\n",
       "      <td>18.0</td>\n",
       "      <td>2.31</td>\n",
       "      <td>0.0</td>\n",
       "      <td>0.538</td>\n",
       "      <td>6.575</td>\n",
       "      <td>65.2</td>\n",
       "      <td>4.0900</td>\n",
       "      <td>1.0</td>\n",
       "      <td>296.0</td>\n",
       "      <td>15.3</td>\n",
       "      <td>396.90</td>\n",
       "      <td>4.98</td>\n",
       "    </tr>\n",
       "    <tr>\n",
       "      <th>1</th>\n",
       "      <td>0.0</td>\n",
       "      <td>7.07</td>\n",
       "      <td>0.0</td>\n",
       "      <td>0.469</td>\n",
       "      <td>6.421</td>\n",
       "      <td>78.9</td>\n",
       "      <td>4.9671</td>\n",
       "      <td>2.0</td>\n",
       "      <td>242.0</td>\n",
       "      <td>17.8</td>\n",
       "      <td>396.90</td>\n",
       "      <td>9.14</td>\n",
       "    </tr>\n",
       "    <tr>\n",
       "      <th>2</th>\n",
       "      <td>0.0</td>\n",
       "      <td>7.07</td>\n",
       "      <td>0.0</td>\n",
       "      <td>0.469</td>\n",
       "      <td>7.185</td>\n",
       "      <td>61.1</td>\n",
       "      <td>4.9671</td>\n",
       "      <td>2.0</td>\n",
       "      <td>242.0</td>\n",
       "      <td>17.8</td>\n",
       "      <td>392.83</td>\n",
       "      <td>4.03</td>\n",
       "    </tr>\n",
       "    <tr>\n",
       "      <th>3</th>\n",
       "      <td>0.0</td>\n",
       "      <td>2.18</td>\n",
       "      <td>0.0</td>\n",
       "      <td>0.458</td>\n",
       "      <td>6.998</td>\n",
       "      <td>45.8</td>\n",
       "      <td>6.0622</td>\n",
       "      <td>3.0</td>\n",
       "      <td>222.0</td>\n",
       "      <td>18.7</td>\n",
       "      <td>394.63</td>\n",
       "      <td>2.94</td>\n",
       "    </tr>\n",
       "    <tr>\n",
       "      <th>4</th>\n",
       "      <td>0.0</td>\n",
       "      <td>2.18</td>\n",
       "      <td>0.0</td>\n",
       "      <td>0.458</td>\n",
       "      <td>7.147</td>\n",
       "      <td>54.2</td>\n",
       "      <td>6.0622</td>\n",
       "      <td>3.0</td>\n",
       "      <td>222.0</td>\n",
       "      <td>18.7</td>\n",
       "      <td>396.90</td>\n",
       "      <td>5.33</td>\n",
       "    </tr>\n",
       "    <tr>\n",
       "      <th>5</th>\n",
       "      <td>0.0</td>\n",
       "      <td>2.18</td>\n",
       "      <td>0.0</td>\n",
       "      <td>0.458</td>\n",
       "      <td>6.430</td>\n",
       "      <td>58.7</td>\n",
       "      <td>6.0622</td>\n",
       "      <td>3.0</td>\n",
       "      <td>222.0</td>\n",
       "      <td>18.7</td>\n",
       "      <td>394.12</td>\n",
       "      <td>5.21</td>\n",
       "    </tr>\n",
       "    <tr>\n",
       "      <th>6</th>\n",
       "      <td>12.5</td>\n",
       "      <td>7.87</td>\n",
       "      <td>0.0</td>\n",
       "      <td>0.524</td>\n",
       "      <td>6.012</td>\n",
       "      <td>66.6</td>\n",
       "      <td>5.5605</td>\n",
       "      <td>5.0</td>\n",
       "      <td>311.0</td>\n",
       "      <td>15.2</td>\n",
       "      <td>395.60</td>\n",
       "      <td>12.43</td>\n",
       "    </tr>\n",
       "    <tr>\n",
       "      <th>7</th>\n",
       "      <td>12.5</td>\n",
       "      <td>7.87</td>\n",
       "      <td>0.0</td>\n",
       "      <td>0.524</td>\n",
       "      <td>6.172</td>\n",
       "      <td>96.1</td>\n",
       "      <td>5.9505</td>\n",
       "      <td>5.0</td>\n",
       "      <td>311.0</td>\n",
       "      <td>15.2</td>\n",
       "      <td>396.90</td>\n",
       "      <td>19.15</td>\n",
       "    </tr>\n",
       "    <tr>\n",
       "      <th>8</th>\n",
       "      <td>12.5</td>\n",
       "      <td>7.87</td>\n",
       "      <td>0.0</td>\n",
       "      <td>0.524</td>\n",
       "      <td>5.631</td>\n",
       "      <td>100.0</td>\n",
       "      <td>6.0821</td>\n",
       "      <td>5.0</td>\n",
       "      <td>311.0</td>\n",
       "      <td>15.2</td>\n",
       "      <td>386.63</td>\n",
       "      <td>29.93</td>\n",
       "    </tr>\n",
       "    <tr>\n",
       "      <th>9</th>\n",
       "      <td>12.5</td>\n",
       "      <td>7.87</td>\n",
       "      <td>0.0</td>\n",
       "      <td>0.524</td>\n",
       "      <td>6.004</td>\n",
       "      <td>85.9</td>\n",
       "      <td>6.5921</td>\n",
       "      <td>5.0</td>\n",
       "      <td>311.0</td>\n",
       "      <td>15.2</td>\n",
       "      <td>386.71</td>\n",
       "      <td>17.10</td>\n",
       "    </tr>\n",
       "    <tr>\n",
       "      <th>10</th>\n",
       "      <td>12.5</td>\n",
       "      <td>7.87</td>\n",
       "      <td>0.0</td>\n",
       "      <td>0.524</td>\n",
       "      <td>6.377</td>\n",
       "      <td>94.3</td>\n",
       "      <td>6.3467</td>\n",
       "      <td>5.0</td>\n",
       "      <td>311.0</td>\n",
       "      <td>15.2</td>\n",
       "      <td>392.52</td>\n",
       "      <td>20.45</td>\n",
       "    </tr>\n",
       "    <tr>\n",
       "      <th>11</th>\n",
       "      <td>12.5</td>\n",
       "      <td>7.87</td>\n",
       "      <td>0.0</td>\n",
       "      <td>0.524</td>\n",
       "      <td>6.009</td>\n",
       "      <td>82.9</td>\n",
       "      <td>6.2267</td>\n",
       "      <td>5.0</td>\n",
       "      <td>311.0</td>\n",
       "      <td>15.2</td>\n",
       "      <td>396.90</td>\n",
       "      <td>13.27</td>\n",
       "    </tr>\n",
       "    <tr>\n",
       "      <th>12</th>\n",
       "      <td>12.5</td>\n",
       "      <td>7.87</td>\n",
       "      <td>0.0</td>\n",
       "      <td>0.524</td>\n",
       "      <td>5.889</td>\n",
       "      <td>39.0</td>\n",
       "      <td>5.4509</td>\n",
       "      <td>5.0</td>\n",
       "      <td>311.0</td>\n",
       "      <td>15.2</td>\n",
       "      <td>390.50</td>\n",
       "      <td>15.71</td>\n",
       "    </tr>\n",
       "    <tr>\n",
       "      <th>13</th>\n",
       "      <td>0.0</td>\n",
       "      <td>8.14</td>\n",
       "      <td>0.0</td>\n",
       "      <td>0.538</td>\n",
       "      <td>5.949</td>\n",
       "      <td>61.8</td>\n",
       "      <td>4.7075</td>\n",
       "      <td>4.0</td>\n",
       "      <td>307.0</td>\n",
       "      <td>21.0</td>\n",
       "      <td>396.90</td>\n",
       "      <td>8.26</td>\n",
       "    </tr>\n",
       "    <tr>\n",
       "      <th>14</th>\n",
       "      <td>0.0</td>\n",
       "      <td>8.14</td>\n",
       "      <td>0.0</td>\n",
       "      <td>0.538</td>\n",
       "      <td>6.096</td>\n",
       "      <td>84.5</td>\n",
       "      <td>4.4619</td>\n",
       "      <td>4.0</td>\n",
       "      <td>307.0</td>\n",
       "      <td>21.0</td>\n",
       "      <td>380.02</td>\n",
       "      <td>10.26</td>\n",
       "    </tr>\n",
       "    <tr>\n",
       "      <th>15</th>\n",
       "      <td>0.0</td>\n",
       "      <td>8.14</td>\n",
       "      <td>0.0</td>\n",
       "      <td>0.538</td>\n",
       "      <td>5.834</td>\n",
       "      <td>56.5</td>\n",
       "      <td>4.4986</td>\n",
       "      <td>4.0</td>\n",
       "      <td>307.0</td>\n",
       "      <td>21.0</td>\n",
       "      <td>395.62</td>\n",
       "      <td>8.47</td>\n",
       "    </tr>\n",
       "    <tr>\n",
       "      <th>16</th>\n",
       "      <td>0.0</td>\n",
       "      <td>8.14</td>\n",
       "      <td>0.0</td>\n",
       "      <td>0.538</td>\n",
       "      <td>5.935</td>\n",
       "      <td>29.3</td>\n",
       "      <td>4.4986</td>\n",
       "      <td>4.0</td>\n",
       "      <td>307.0</td>\n",
       "      <td>21.0</td>\n",
       "      <td>386.85</td>\n",
       "      <td>6.58</td>\n",
       "    </tr>\n",
       "    <tr>\n",
       "      <th>17</th>\n",
       "      <td>0.0</td>\n",
       "      <td>8.14</td>\n",
       "      <td>0.0</td>\n",
       "      <td>0.538</td>\n",
       "      <td>5.990</td>\n",
       "      <td>81.7</td>\n",
       "      <td>4.2579</td>\n",
       "      <td>4.0</td>\n",
       "      <td>307.0</td>\n",
       "      <td>21.0</td>\n",
       "      <td>386.75</td>\n",
       "      <td>14.67</td>\n",
       "    </tr>\n",
       "    <tr>\n",
       "      <th>18</th>\n",
       "      <td>0.0</td>\n",
       "      <td>8.14</td>\n",
       "      <td>0.0</td>\n",
       "      <td>0.538</td>\n",
       "      <td>5.456</td>\n",
       "      <td>36.6</td>\n",
       "      <td>3.7965</td>\n",
       "      <td>4.0</td>\n",
       "      <td>307.0</td>\n",
       "      <td>21.0</td>\n",
       "      <td>288.99</td>\n",
       "      <td>11.69</td>\n",
       "    </tr>\n",
       "    <tr>\n",
       "      <th>19</th>\n",
       "      <td>0.0</td>\n",
       "      <td>8.14</td>\n",
       "      <td>0.0</td>\n",
       "      <td>0.538</td>\n",
       "      <td>5.727</td>\n",
       "      <td>69.5</td>\n",
       "      <td>3.7965</td>\n",
       "      <td>4.0</td>\n",
       "      <td>307.0</td>\n",
       "      <td>21.0</td>\n",
       "      <td>390.95</td>\n",
       "      <td>11.28</td>\n",
       "    </tr>\n",
       "    <tr>\n",
       "      <th>20</th>\n",
       "      <td>0.0</td>\n",
       "      <td>8.14</td>\n",
       "      <td>0.0</td>\n",
       "      <td>0.538</td>\n",
       "      <td>5.570</td>\n",
       "      <td>98.1</td>\n",
       "      <td>3.7979</td>\n",
       "      <td>4.0</td>\n",
       "      <td>307.0</td>\n",
       "      <td>21.0</td>\n",
       "      <td>376.57</td>\n",
       "      <td>21.02</td>\n",
       "    </tr>\n",
       "    <tr>\n",
       "      <th>21</th>\n",
       "      <td>0.0</td>\n",
       "      <td>8.14</td>\n",
       "      <td>0.0</td>\n",
       "      <td>0.538</td>\n",
       "      <td>5.965</td>\n",
       "      <td>89.2</td>\n",
       "      <td>4.0123</td>\n",
       "      <td>4.0</td>\n",
       "      <td>307.0</td>\n",
       "      <td>21.0</td>\n",
       "      <td>392.53</td>\n",
       "      <td>13.83</td>\n",
       "    </tr>\n",
       "    <tr>\n",
       "      <th>22</th>\n",
       "      <td>0.0</td>\n",
       "      <td>8.14</td>\n",
       "      <td>0.0</td>\n",
       "      <td>0.538</td>\n",
       "      <td>6.142</td>\n",
       "      <td>91.7</td>\n",
       "      <td>3.9769</td>\n",
       "      <td>4.0</td>\n",
       "      <td>307.0</td>\n",
       "      <td>21.0</td>\n",
       "      <td>396.90</td>\n",
       "      <td>18.72</td>\n",
       "    </tr>\n",
       "    <tr>\n",
       "      <th>23</th>\n",
       "      <td>0.0</td>\n",
       "      <td>8.14</td>\n",
       "      <td>0.0</td>\n",
       "      <td>0.538</td>\n",
       "      <td>5.813</td>\n",
       "      <td>100.0</td>\n",
       "      <td>4.0952</td>\n",
       "      <td>4.0</td>\n",
       "      <td>307.0</td>\n",
       "      <td>21.0</td>\n",
       "      <td>394.54</td>\n",
       "      <td>19.88</td>\n",
       "    </tr>\n",
       "    <tr>\n",
       "      <th>24</th>\n",
       "      <td>0.0</td>\n",
       "      <td>8.14</td>\n",
       "      <td>0.0</td>\n",
       "      <td>0.538</td>\n",
       "      <td>5.924</td>\n",
       "      <td>94.1</td>\n",
       "      <td>4.3996</td>\n",
       "      <td>4.0</td>\n",
       "      <td>307.0</td>\n",
       "      <td>21.0</td>\n",
       "      <td>394.33</td>\n",
       "      <td>16.30</td>\n",
       "    </tr>\n",
       "    <tr>\n",
       "      <th>25</th>\n",
       "      <td>0.0</td>\n",
       "      <td>8.14</td>\n",
       "      <td>0.0</td>\n",
       "      <td>0.538</td>\n",
       "      <td>5.599</td>\n",
       "      <td>85.7</td>\n",
       "      <td>4.4546</td>\n",
       "      <td>4.0</td>\n",
       "      <td>307.0</td>\n",
       "      <td>21.0</td>\n",
       "      <td>303.42</td>\n",
       "      <td>16.51</td>\n",
       "    </tr>\n",
       "    <tr>\n",
       "      <th>26</th>\n",
       "      <td>0.0</td>\n",
       "      <td>8.14</td>\n",
       "      <td>0.0</td>\n",
       "      <td>0.538</td>\n",
       "      <td>5.813</td>\n",
       "      <td>90.3</td>\n",
       "      <td>4.6820</td>\n",
       "      <td>4.0</td>\n",
       "      <td>307.0</td>\n",
       "      <td>21.0</td>\n",
       "      <td>376.88</td>\n",
       "      <td>14.81</td>\n",
       "    </tr>\n",
       "    <tr>\n",
       "      <th>27</th>\n",
       "      <td>0.0</td>\n",
       "      <td>8.14</td>\n",
       "      <td>0.0</td>\n",
       "      <td>0.538</td>\n",
       "      <td>6.047</td>\n",
       "      <td>88.8</td>\n",
       "      <td>4.4534</td>\n",
       "      <td>4.0</td>\n",
       "      <td>307.0</td>\n",
       "      <td>21.0</td>\n",
       "      <td>306.38</td>\n",
       "      <td>17.28</td>\n",
       "    </tr>\n",
       "    <tr>\n",
       "      <th>28</th>\n",
       "      <td>0.0</td>\n",
       "      <td>8.14</td>\n",
       "      <td>0.0</td>\n",
       "      <td>0.538</td>\n",
       "      <td>6.495</td>\n",
       "      <td>94.4</td>\n",
       "      <td>4.4547</td>\n",
       "      <td>4.0</td>\n",
       "      <td>307.0</td>\n",
       "      <td>21.0</td>\n",
       "      <td>387.94</td>\n",
       "      <td>12.80</td>\n",
       "    </tr>\n",
       "    <tr>\n",
       "      <th>29</th>\n",
       "      <td>0.0</td>\n",
       "      <td>8.14</td>\n",
       "      <td>0.0</td>\n",
       "      <td>0.538</td>\n",
       "      <td>6.674</td>\n",
       "      <td>87.3</td>\n",
       "      <td>4.2390</td>\n",
       "      <td>4.0</td>\n",
       "      <td>307.0</td>\n",
       "      <td>21.0</td>\n",
       "      <td>380.23</td>\n",
       "      <td>11.98</td>\n",
       "    </tr>\n",
       "    <tr>\n",
       "      <th>...</th>\n",
       "      <td>...</td>\n",
       "      <td>...</td>\n",
       "      <td>...</td>\n",
       "      <td>...</td>\n",
       "      <td>...</td>\n",
       "      <td>...</td>\n",
       "      <td>...</td>\n",
       "      <td>...</td>\n",
       "      <td>...</td>\n",
       "      <td>...</td>\n",
       "      <td>...</td>\n",
       "      <td>...</td>\n",
       "    </tr>\n",
       "    <tr>\n",
       "      <th>476</th>\n",
       "      <td>0.0</td>\n",
       "      <td>18.10</td>\n",
       "      <td>0.0</td>\n",
       "      <td>0.614</td>\n",
       "      <td>6.484</td>\n",
       "      <td>93.6</td>\n",
       "      <td>2.3053</td>\n",
       "      <td>24.0</td>\n",
       "      <td>666.0</td>\n",
       "      <td>20.2</td>\n",
       "      <td>396.21</td>\n",
       "      <td>18.68</td>\n",
       "    </tr>\n",
       "    <tr>\n",
       "      <th>477</th>\n",
       "      <td>0.0</td>\n",
       "      <td>18.10</td>\n",
       "      <td>0.0</td>\n",
       "      <td>0.614</td>\n",
       "      <td>5.304</td>\n",
       "      <td>97.3</td>\n",
       "      <td>2.1007</td>\n",
       "      <td>24.0</td>\n",
       "      <td>666.0</td>\n",
       "      <td>20.2</td>\n",
       "      <td>349.48</td>\n",
       "      <td>24.91</td>\n",
       "    </tr>\n",
       "    <tr>\n",
       "      <th>478</th>\n",
       "      <td>0.0</td>\n",
       "      <td>18.10</td>\n",
       "      <td>0.0</td>\n",
       "      <td>0.614</td>\n",
       "      <td>6.185</td>\n",
       "      <td>96.7</td>\n",
       "      <td>2.1705</td>\n",
       "      <td>24.0</td>\n",
       "      <td>666.0</td>\n",
       "      <td>20.2</td>\n",
       "      <td>379.70</td>\n",
       "      <td>18.03</td>\n",
       "    </tr>\n",
       "    <tr>\n",
       "      <th>479</th>\n",
       "      <td>0.0</td>\n",
       "      <td>18.10</td>\n",
       "      <td>0.0</td>\n",
       "      <td>0.614</td>\n",
       "      <td>6.229</td>\n",
       "      <td>88.0</td>\n",
       "      <td>1.9512</td>\n",
       "      <td>24.0</td>\n",
       "      <td>666.0</td>\n",
       "      <td>20.2</td>\n",
       "      <td>383.32</td>\n",
       "      <td>13.11</td>\n",
       "    </tr>\n",
       "    <tr>\n",
       "      <th>480</th>\n",
       "      <td>0.0</td>\n",
       "      <td>18.10</td>\n",
       "      <td>0.0</td>\n",
       "      <td>0.532</td>\n",
       "      <td>6.242</td>\n",
       "      <td>64.7</td>\n",
       "      <td>3.4242</td>\n",
       "      <td>24.0</td>\n",
       "      <td>666.0</td>\n",
       "      <td>20.2</td>\n",
       "      <td>396.90</td>\n",
       "      <td>10.74</td>\n",
       "    </tr>\n",
       "    <tr>\n",
       "      <th>481</th>\n",
       "      <td>0.0</td>\n",
       "      <td>18.10</td>\n",
       "      <td>0.0</td>\n",
       "      <td>0.532</td>\n",
       "      <td>6.750</td>\n",
       "      <td>74.9</td>\n",
       "      <td>3.3317</td>\n",
       "      <td>24.0</td>\n",
       "      <td>666.0</td>\n",
       "      <td>20.2</td>\n",
       "      <td>393.07</td>\n",
       "      <td>7.74</td>\n",
       "    </tr>\n",
       "    <tr>\n",
       "      <th>482</th>\n",
       "      <td>0.0</td>\n",
       "      <td>18.10</td>\n",
       "      <td>0.0</td>\n",
       "      <td>0.532</td>\n",
       "      <td>7.061</td>\n",
       "      <td>77.0</td>\n",
       "      <td>3.4106</td>\n",
       "      <td>24.0</td>\n",
       "      <td>666.0</td>\n",
       "      <td>20.2</td>\n",
       "      <td>395.28</td>\n",
       "      <td>7.01</td>\n",
       "    </tr>\n",
       "    <tr>\n",
       "      <th>483</th>\n",
       "      <td>0.0</td>\n",
       "      <td>18.10</td>\n",
       "      <td>0.0</td>\n",
       "      <td>0.532</td>\n",
       "      <td>5.762</td>\n",
       "      <td>40.3</td>\n",
       "      <td>4.0983</td>\n",
       "      <td>24.0</td>\n",
       "      <td>666.0</td>\n",
       "      <td>20.2</td>\n",
       "      <td>392.92</td>\n",
       "      <td>10.42</td>\n",
       "    </tr>\n",
       "    <tr>\n",
       "      <th>484</th>\n",
       "      <td>0.0</td>\n",
       "      <td>18.10</td>\n",
       "      <td>0.0</td>\n",
       "      <td>0.583</td>\n",
       "      <td>5.871</td>\n",
       "      <td>41.9</td>\n",
       "      <td>3.7240</td>\n",
       "      <td>24.0</td>\n",
       "      <td>666.0</td>\n",
       "      <td>20.2</td>\n",
       "      <td>370.73</td>\n",
       "      <td>13.34</td>\n",
       "    </tr>\n",
       "    <tr>\n",
       "      <th>485</th>\n",
       "      <td>0.0</td>\n",
       "      <td>18.10</td>\n",
       "      <td>0.0</td>\n",
       "      <td>0.583</td>\n",
       "      <td>6.312</td>\n",
       "      <td>51.9</td>\n",
       "      <td>3.9917</td>\n",
       "      <td>24.0</td>\n",
       "      <td>666.0</td>\n",
       "      <td>20.2</td>\n",
       "      <td>388.62</td>\n",
       "      <td>10.58</td>\n",
       "    </tr>\n",
       "    <tr>\n",
       "      <th>486</th>\n",
       "      <td>0.0</td>\n",
       "      <td>18.10</td>\n",
       "      <td>0.0</td>\n",
       "      <td>0.583</td>\n",
       "      <td>6.114</td>\n",
       "      <td>79.8</td>\n",
       "      <td>3.5459</td>\n",
       "      <td>24.0</td>\n",
       "      <td>666.0</td>\n",
       "      <td>20.2</td>\n",
       "      <td>392.68</td>\n",
       "      <td>14.98</td>\n",
       "    </tr>\n",
       "    <tr>\n",
       "      <th>487</th>\n",
       "      <td>0.0</td>\n",
       "      <td>18.10</td>\n",
       "      <td>0.0</td>\n",
       "      <td>0.583</td>\n",
       "      <td>5.905</td>\n",
       "      <td>53.2</td>\n",
       "      <td>3.1523</td>\n",
       "      <td>24.0</td>\n",
       "      <td>666.0</td>\n",
       "      <td>20.2</td>\n",
       "      <td>388.22</td>\n",
       "      <td>11.45</td>\n",
       "    </tr>\n",
       "    <tr>\n",
       "      <th>488</th>\n",
       "      <td>0.0</td>\n",
       "      <td>27.74</td>\n",
       "      <td>0.0</td>\n",
       "      <td>0.609</td>\n",
       "      <td>5.454</td>\n",
       "      <td>92.7</td>\n",
       "      <td>1.8209</td>\n",
       "      <td>4.0</td>\n",
       "      <td>711.0</td>\n",
       "      <td>20.1</td>\n",
       "      <td>395.09</td>\n",
       "      <td>18.06</td>\n",
       "    </tr>\n",
       "    <tr>\n",
       "      <th>489</th>\n",
       "      <td>0.0</td>\n",
       "      <td>27.74</td>\n",
       "      <td>0.0</td>\n",
       "      <td>0.609</td>\n",
       "      <td>5.414</td>\n",
       "      <td>98.3</td>\n",
       "      <td>1.7554</td>\n",
       "      <td>4.0</td>\n",
       "      <td>711.0</td>\n",
       "      <td>20.1</td>\n",
       "      <td>344.05</td>\n",
       "      <td>23.97</td>\n",
       "    </tr>\n",
       "    <tr>\n",
       "      <th>490</th>\n",
       "      <td>0.0</td>\n",
       "      <td>27.74</td>\n",
       "      <td>0.0</td>\n",
       "      <td>0.609</td>\n",
       "      <td>5.093</td>\n",
       "      <td>98.0</td>\n",
       "      <td>1.8226</td>\n",
       "      <td>4.0</td>\n",
       "      <td>711.0</td>\n",
       "      <td>20.1</td>\n",
       "      <td>318.43</td>\n",
       "      <td>29.68</td>\n",
       "    </tr>\n",
       "    <tr>\n",
       "      <th>491</th>\n",
       "      <td>0.0</td>\n",
       "      <td>27.74</td>\n",
       "      <td>0.0</td>\n",
       "      <td>0.609</td>\n",
       "      <td>5.983</td>\n",
       "      <td>98.8</td>\n",
       "      <td>1.8681</td>\n",
       "      <td>4.0</td>\n",
       "      <td>711.0</td>\n",
       "      <td>20.1</td>\n",
       "      <td>390.11</td>\n",
       "      <td>18.07</td>\n",
       "    </tr>\n",
       "    <tr>\n",
       "      <th>492</th>\n",
       "      <td>0.0</td>\n",
       "      <td>27.74</td>\n",
       "      <td>0.0</td>\n",
       "      <td>0.609</td>\n",
       "      <td>5.983</td>\n",
       "      <td>83.5</td>\n",
       "      <td>2.1099</td>\n",
       "      <td>4.0</td>\n",
       "      <td>711.0</td>\n",
       "      <td>20.1</td>\n",
       "      <td>396.90</td>\n",
       "      <td>13.35</td>\n",
       "    </tr>\n",
       "    <tr>\n",
       "      <th>493</th>\n",
       "      <td>0.0</td>\n",
       "      <td>9.69</td>\n",
       "      <td>0.0</td>\n",
       "      <td>0.585</td>\n",
       "      <td>5.707</td>\n",
       "      <td>54.0</td>\n",
       "      <td>2.3817</td>\n",
       "      <td>6.0</td>\n",
       "      <td>391.0</td>\n",
       "      <td>19.2</td>\n",
       "      <td>396.90</td>\n",
       "      <td>12.01</td>\n",
       "    </tr>\n",
       "    <tr>\n",
       "      <th>494</th>\n",
       "      <td>0.0</td>\n",
       "      <td>9.69</td>\n",
       "      <td>0.0</td>\n",
       "      <td>0.585</td>\n",
       "      <td>5.926</td>\n",
       "      <td>42.6</td>\n",
       "      <td>2.3817</td>\n",
       "      <td>6.0</td>\n",
       "      <td>391.0</td>\n",
       "      <td>19.2</td>\n",
       "      <td>396.90</td>\n",
       "      <td>13.59</td>\n",
       "    </tr>\n",
       "    <tr>\n",
       "      <th>495</th>\n",
       "      <td>0.0</td>\n",
       "      <td>9.69</td>\n",
       "      <td>0.0</td>\n",
       "      <td>0.585</td>\n",
       "      <td>5.670</td>\n",
       "      <td>28.8</td>\n",
       "      <td>2.7986</td>\n",
       "      <td>6.0</td>\n",
       "      <td>391.0</td>\n",
       "      <td>19.2</td>\n",
       "      <td>393.29</td>\n",
       "      <td>17.60</td>\n",
       "    </tr>\n",
       "    <tr>\n",
       "      <th>496</th>\n",
       "      <td>0.0</td>\n",
       "      <td>9.69</td>\n",
       "      <td>0.0</td>\n",
       "      <td>0.585</td>\n",
       "      <td>5.390</td>\n",
       "      <td>72.9</td>\n",
       "      <td>2.7986</td>\n",
       "      <td>6.0</td>\n",
       "      <td>391.0</td>\n",
       "      <td>19.2</td>\n",
       "      <td>396.90</td>\n",
       "      <td>21.14</td>\n",
       "    </tr>\n",
       "    <tr>\n",
       "      <th>497</th>\n",
       "      <td>0.0</td>\n",
       "      <td>9.69</td>\n",
       "      <td>0.0</td>\n",
       "      <td>0.585</td>\n",
       "      <td>5.794</td>\n",
       "      <td>70.6</td>\n",
       "      <td>2.8927</td>\n",
       "      <td>6.0</td>\n",
       "      <td>391.0</td>\n",
       "      <td>19.2</td>\n",
       "      <td>396.90</td>\n",
       "      <td>14.10</td>\n",
       "    </tr>\n",
       "    <tr>\n",
       "      <th>498</th>\n",
       "      <td>0.0</td>\n",
       "      <td>9.69</td>\n",
       "      <td>0.0</td>\n",
       "      <td>0.585</td>\n",
       "      <td>6.019</td>\n",
       "      <td>65.3</td>\n",
       "      <td>2.4091</td>\n",
       "      <td>6.0</td>\n",
       "      <td>391.0</td>\n",
       "      <td>19.2</td>\n",
       "      <td>396.90</td>\n",
       "      <td>12.92</td>\n",
       "    </tr>\n",
       "    <tr>\n",
       "      <th>499</th>\n",
       "      <td>0.0</td>\n",
       "      <td>9.69</td>\n",
       "      <td>0.0</td>\n",
       "      <td>0.585</td>\n",
       "      <td>5.569</td>\n",
       "      <td>73.5</td>\n",
       "      <td>2.3999</td>\n",
       "      <td>6.0</td>\n",
       "      <td>391.0</td>\n",
       "      <td>19.2</td>\n",
       "      <td>395.77</td>\n",
       "      <td>15.10</td>\n",
       "    </tr>\n",
       "    <tr>\n",
       "      <th>500</th>\n",
       "      <td>0.0</td>\n",
       "      <td>9.69</td>\n",
       "      <td>0.0</td>\n",
       "      <td>0.585</td>\n",
       "      <td>6.027</td>\n",
       "      <td>79.7</td>\n",
       "      <td>2.4982</td>\n",
       "      <td>6.0</td>\n",
       "      <td>391.0</td>\n",
       "      <td>19.2</td>\n",
       "      <td>396.90</td>\n",
       "      <td>14.33</td>\n",
       "    </tr>\n",
       "    <tr>\n",
       "      <th>501</th>\n",
       "      <td>0.0</td>\n",
       "      <td>11.93</td>\n",
       "      <td>0.0</td>\n",
       "      <td>0.573</td>\n",
       "      <td>6.593</td>\n",
       "      <td>69.1</td>\n",
       "      <td>2.4786</td>\n",
       "      <td>1.0</td>\n",
       "      <td>273.0</td>\n",
       "      <td>21.0</td>\n",
       "      <td>391.99</td>\n",
       "      <td>9.67</td>\n",
       "    </tr>\n",
       "    <tr>\n",
       "      <th>502</th>\n",
       "      <td>0.0</td>\n",
       "      <td>11.93</td>\n",
       "      <td>0.0</td>\n",
       "      <td>0.573</td>\n",
       "      <td>6.120</td>\n",
       "      <td>76.7</td>\n",
       "      <td>2.2875</td>\n",
       "      <td>1.0</td>\n",
       "      <td>273.0</td>\n",
       "      <td>21.0</td>\n",
       "      <td>396.90</td>\n",
       "      <td>9.08</td>\n",
       "    </tr>\n",
       "    <tr>\n",
       "      <th>503</th>\n",
       "      <td>0.0</td>\n",
       "      <td>11.93</td>\n",
       "      <td>0.0</td>\n",
       "      <td>0.573</td>\n",
       "      <td>6.976</td>\n",
       "      <td>91.0</td>\n",
       "      <td>2.1675</td>\n",
       "      <td>1.0</td>\n",
       "      <td>273.0</td>\n",
       "      <td>21.0</td>\n",
       "      <td>396.90</td>\n",
       "      <td>5.64</td>\n",
       "    </tr>\n",
       "    <tr>\n",
       "      <th>504</th>\n",
       "      <td>0.0</td>\n",
       "      <td>11.93</td>\n",
       "      <td>0.0</td>\n",
       "      <td>0.573</td>\n",
       "      <td>6.794</td>\n",
       "      <td>89.3</td>\n",
       "      <td>2.3889</td>\n",
       "      <td>1.0</td>\n",
       "      <td>273.0</td>\n",
       "      <td>21.0</td>\n",
       "      <td>393.45</td>\n",
       "      <td>6.48</td>\n",
       "    </tr>\n",
       "    <tr>\n",
       "      <th>505</th>\n",
       "      <td>0.0</td>\n",
       "      <td>11.93</td>\n",
       "      <td>0.0</td>\n",
       "      <td>0.573</td>\n",
       "      <td>6.030</td>\n",
       "      <td>80.8</td>\n",
       "      <td>2.5050</td>\n",
       "      <td>1.0</td>\n",
       "      <td>273.0</td>\n",
       "      <td>21.0</td>\n",
       "      <td>396.90</td>\n",
       "      <td>7.88</td>\n",
       "    </tr>\n",
       "  </tbody>\n",
       "</table>\n",
       "<p>506 rows × 12 columns</p>\n",
       "</div>"
      ],
      "text/plain": [
       "       ZN  INDUS  CHAS    NOX     RM  ...     RAD    TAX  PTRATIO       B  LSTAT\n",
       "0    18.0   2.31   0.0  0.538  6.575  ...     1.0  296.0     15.3  396.90   4.98\n",
       "1     0.0   7.07   0.0  0.469  6.421  ...     2.0  242.0     17.8  396.90   9.14\n",
       "2     0.0   7.07   0.0  0.469  7.185  ...     2.0  242.0     17.8  392.83   4.03\n",
       "3     0.0   2.18   0.0  0.458  6.998  ...     3.0  222.0     18.7  394.63   2.94\n",
       "4     0.0   2.18   0.0  0.458  7.147  ...     3.0  222.0     18.7  396.90   5.33\n",
       "5     0.0   2.18   0.0  0.458  6.430  ...     3.0  222.0     18.7  394.12   5.21\n",
       "6    12.5   7.87   0.0  0.524  6.012  ...     5.0  311.0     15.2  395.60  12.43\n",
       "7    12.5   7.87   0.0  0.524  6.172  ...     5.0  311.0     15.2  396.90  19.15\n",
       "8    12.5   7.87   0.0  0.524  5.631  ...     5.0  311.0     15.2  386.63  29.93\n",
       "9    12.5   7.87   0.0  0.524  6.004  ...     5.0  311.0     15.2  386.71  17.10\n",
       "10   12.5   7.87   0.0  0.524  6.377  ...     5.0  311.0     15.2  392.52  20.45\n",
       "11   12.5   7.87   0.0  0.524  6.009  ...     5.0  311.0     15.2  396.90  13.27\n",
       "12   12.5   7.87   0.0  0.524  5.889  ...     5.0  311.0     15.2  390.50  15.71\n",
       "13    0.0   8.14   0.0  0.538  5.949  ...     4.0  307.0     21.0  396.90   8.26\n",
       "14    0.0   8.14   0.0  0.538  6.096  ...     4.0  307.0     21.0  380.02  10.26\n",
       "15    0.0   8.14   0.0  0.538  5.834  ...     4.0  307.0     21.0  395.62   8.47\n",
       "16    0.0   8.14   0.0  0.538  5.935  ...     4.0  307.0     21.0  386.85   6.58\n",
       "17    0.0   8.14   0.0  0.538  5.990  ...     4.0  307.0     21.0  386.75  14.67\n",
       "18    0.0   8.14   0.0  0.538  5.456  ...     4.0  307.0     21.0  288.99  11.69\n",
       "19    0.0   8.14   0.0  0.538  5.727  ...     4.0  307.0     21.0  390.95  11.28\n",
       "20    0.0   8.14   0.0  0.538  5.570  ...     4.0  307.0     21.0  376.57  21.02\n",
       "21    0.0   8.14   0.0  0.538  5.965  ...     4.0  307.0     21.0  392.53  13.83\n",
       "22    0.0   8.14   0.0  0.538  6.142  ...     4.0  307.0     21.0  396.90  18.72\n",
       "23    0.0   8.14   0.0  0.538  5.813  ...     4.0  307.0     21.0  394.54  19.88\n",
       "24    0.0   8.14   0.0  0.538  5.924  ...     4.0  307.0     21.0  394.33  16.30\n",
       "25    0.0   8.14   0.0  0.538  5.599  ...     4.0  307.0     21.0  303.42  16.51\n",
       "26    0.0   8.14   0.0  0.538  5.813  ...     4.0  307.0     21.0  376.88  14.81\n",
       "27    0.0   8.14   0.0  0.538  6.047  ...     4.0  307.0     21.0  306.38  17.28\n",
       "28    0.0   8.14   0.0  0.538  6.495  ...     4.0  307.0     21.0  387.94  12.80\n",
       "29    0.0   8.14   0.0  0.538  6.674  ...     4.0  307.0     21.0  380.23  11.98\n",
       "..    ...    ...   ...    ...    ...  ...     ...    ...      ...     ...    ...\n",
       "476   0.0  18.10   0.0  0.614  6.484  ...    24.0  666.0     20.2  396.21  18.68\n",
       "477   0.0  18.10   0.0  0.614  5.304  ...    24.0  666.0     20.2  349.48  24.91\n",
       "478   0.0  18.10   0.0  0.614  6.185  ...    24.0  666.0     20.2  379.70  18.03\n",
       "479   0.0  18.10   0.0  0.614  6.229  ...    24.0  666.0     20.2  383.32  13.11\n",
       "480   0.0  18.10   0.0  0.532  6.242  ...    24.0  666.0     20.2  396.90  10.74\n",
       "481   0.0  18.10   0.0  0.532  6.750  ...    24.0  666.0     20.2  393.07   7.74\n",
       "482   0.0  18.10   0.0  0.532  7.061  ...    24.0  666.0     20.2  395.28   7.01\n",
       "483   0.0  18.10   0.0  0.532  5.762  ...    24.0  666.0     20.2  392.92  10.42\n",
       "484   0.0  18.10   0.0  0.583  5.871  ...    24.0  666.0     20.2  370.73  13.34\n",
       "485   0.0  18.10   0.0  0.583  6.312  ...    24.0  666.0     20.2  388.62  10.58\n",
       "486   0.0  18.10   0.0  0.583  6.114  ...    24.0  666.0     20.2  392.68  14.98\n",
       "487   0.0  18.10   0.0  0.583  5.905  ...    24.0  666.0     20.2  388.22  11.45\n",
       "488   0.0  27.74   0.0  0.609  5.454  ...     4.0  711.0     20.1  395.09  18.06\n",
       "489   0.0  27.74   0.0  0.609  5.414  ...     4.0  711.0     20.1  344.05  23.97\n",
       "490   0.0  27.74   0.0  0.609  5.093  ...     4.0  711.0     20.1  318.43  29.68\n",
       "491   0.0  27.74   0.0  0.609  5.983  ...     4.0  711.0     20.1  390.11  18.07\n",
       "492   0.0  27.74   0.0  0.609  5.983  ...     4.0  711.0     20.1  396.90  13.35\n",
       "493   0.0   9.69   0.0  0.585  5.707  ...     6.0  391.0     19.2  396.90  12.01\n",
       "494   0.0   9.69   0.0  0.585  5.926  ...     6.0  391.0     19.2  396.90  13.59\n",
       "495   0.0   9.69   0.0  0.585  5.670  ...     6.0  391.0     19.2  393.29  17.60\n",
       "496   0.0   9.69   0.0  0.585  5.390  ...     6.0  391.0     19.2  396.90  21.14\n",
       "497   0.0   9.69   0.0  0.585  5.794  ...     6.0  391.0     19.2  396.90  14.10\n",
       "498   0.0   9.69   0.0  0.585  6.019  ...     6.0  391.0     19.2  396.90  12.92\n",
       "499   0.0   9.69   0.0  0.585  5.569  ...     6.0  391.0     19.2  395.77  15.10\n",
       "500   0.0   9.69   0.0  0.585  6.027  ...     6.0  391.0     19.2  396.90  14.33\n",
       "501   0.0  11.93   0.0  0.573  6.593  ...     1.0  273.0     21.0  391.99   9.67\n",
       "502   0.0  11.93   0.0  0.573  6.120  ...     1.0  273.0     21.0  396.90   9.08\n",
       "503   0.0  11.93   0.0  0.573  6.976  ...     1.0  273.0     21.0  396.90   5.64\n",
       "504   0.0  11.93   0.0  0.573  6.794  ...     1.0  273.0     21.0  393.45   6.48\n",
       "505   0.0  11.93   0.0  0.573  6.030  ...     1.0  273.0     21.0  396.90   7.88\n",
       "\n",
       "[506 rows x 12 columns]"
      ]
     },
     "execution_count": 90,
     "metadata": {},
     "output_type": "execute_result"
    }
   ],
   "source": [
    "X2"
   ]
  },
  {
   "cell_type": "code",
   "execution_count": 91,
   "metadata": {
    "execution": {
     "iopub.execute_input": "2021-10-02T12:11:35.401621Z",
     "iopub.status.busy": "2021-10-02T12:11:35.401099Z",
     "iopub.status.idle": "2021-10-02T12:11:35.410981Z",
     "shell.execute_reply": "2021-10-02T12:11:35.410294Z",
     "shell.execute_reply.started": "2021-10-02T12:11:35.401386Z"
    }
   },
   "outputs": [
    {
     "data": {
      "text/plain": [
       "0      24.0\n",
       "1      21.6\n",
       "2      34.7\n",
       "3      33.4\n",
       "4      36.2\n",
       "5      28.7\n",
       "6      22.9\n",
       "7      27.1\n",
       "8      16.5\n",
       "9      18.9\n",
       "10     15.0\n",
       "11     18.9\n",
       "12     21.7\n",
       "13     20.4\n",
       "14     18.2\n",
       "15     19.9\n",
       "16     23.1\n",
       "17     17.5\n",
       "18     20.2\n",
       "19     18.2\n",
       "20     13.6\n",
       "21     19.6\n",
       "22     15.2\n",
       "23     14.5\n",
       "24     15.6\n",
       "25     13.9\n",
       "26     16.6\n",
       "27     14.8\n",
       "28     18.4\n",
       "29     21.0\n",
       "       ... \n",
       "476    16.7\n",
       "477    12.0\n",
       "478    14.6\n",
       "479    21.4\n",
       "480    23.0\n",
       "481    23.7\n",
       "482    25.0\n",
       "483    21.8\n",
       "484    20.6\n",
       "485    21.2\n",
       "486    19.1\n",
       "487    20.6\n",
       "488    15.2\n",
       "489     7.0\n",
       "490     8.1\n",
       "491    13.6\n",
       "492    20.1\n",
       "493    21.8\n",
       "494    24.5\n",
       "495    23.1\n",
       "496    19.7\n",
       "497    18.3\n",
       "498    21.2\n",
       "499    17.5\n",
       "500    16.8\n",
       "501    22.4\n",
       "502    20.6\n",
       "503    23.9\n",
       "504    22.0\n",
       "505    11.9\n",
       "Name: CRIM, Length: 506, dtype: float64"
      ]
     },
     "execution_count": 91,
     "metadata": {},
     "output_type": "execute_result"
    }
   ],
   "source": [
    "y2"
   ]
  },
  {
   "cell_type": "code",
   "execution_count": 92,
   "metadata": {
    "execution": {
     "iopub.execute_input": "2021-10-02T12:11:35.412727Z",
     "iopub.status.busy": "2021-10-02T12:11:35.412369Z",
     "iopub.status.idle": "2021-10-02T12:11:35.756316Z",
     "shell.execute_reply": "2021-10-02T12:11:35.755152Z",
     "shell.execute_reply.started": "2021-10-02T12:11:35.412587Z"
    }
   },
   "outputs": [
    {
     "data": {
      "text/plain": [
       "Text(0.5,1,'Median value of owner-occupied homes Distribution')"
      ]
     },
     "execution_count": 92,
     "metadata": {},
     "output_type": "execute_result"
    },
    {
     "data": {
      "image/png": "[encoded data removed]",
      "text/plain": [
       "<Figure size 432x288 with 1 Axes>"
      ]
     },
     "metadata": {},
     "output_type": "display_data"
    }
   ],
   "source": [
    "plt.hist(data2['CRIM'], bins = 50, edgecolor = 'k');\n",
    "plt.xlabel('Median value')\n",
    "plt.ylabel('Number of Houses')\n",
    "plt.title('Median value of owner-occupied homes Distribution')"
   ]
  },
  {
   "cell_type": "code",
   "execution_count": 93,
   "metadata": {
    "execution": {
     "iopub.execute_input": "2021-10-02T12:11:35.758407Z",
     "iopub.status.busy": "2021-10-02T12:11:35.757839Z",
     "iopub.status.idle": "2021-10-02T12:11:35.766885Z",
     "shell.execute_reply": "2021-10-02T12:11:35.765572Z",
     "shell.execute_reply.started": "2021-10-02T12:11:35.758348Z"
    }
   },
   "outputs": [],
   "source": [
    "from sklearn.model_selection import train_test_split\n",
    "X_train2, X_test2, y_train2, y_test2 = train_test_split(X2,y2, test_size = 0.3, random_state = 4)"
   ]
  },
  {
   "cell_type": "code",
   "execution_count": 94,
   "metadata": {
    "execution": {
     "iopub.execute_input": "2021-10-02T12:11:35.769231Z",
     "iopub.status.busy": "2021-10-02T12:11:35.768576Z",
     "iopub.status.idle": "2021-10-02T12:11:35.788475Z",
     "shell.execute_reply": "2021-10-02T12:11:35.787141Z",
     "shell.execute_reply.started": "2021-10-02T12:11:35.769171Z"
    }
   },
   "outputs": [
    {
     "data": {
      "text/plain": [
       "LinearRegression(copy_X=True, fit_intercept=True, n_jobs=None,\n",
       "         normalize=False)"
      ]
     },
     "execution_count": 94,
     "metadata": {},
     "output_type": "execute_result"
    }
   ],
   "source": [
    "from sklearn.linear_model import LinearRegression\n",
    "lm2 = LinearRegression()\n",
    "lm2.fit(X_train2, y_train2) "
   ]
  },
  {
   "cell_type": "code",
   "execution_count": 95,
   "metadata": {
    "execution": {
     "iopub.execute_input": "2021-10-02T12:11:35.790360Z",
     "iopub.status.busy": "2021-10-02T12:11:35.789857Z",
     "iopub.status.idle": "2021-10-02T12:11:35.797339Z",
     "shell.execute_reply": "2021-10-02T12:11:35.796233Z",
     "shell.execute_reply.started": "2021-10-02T12:11:35.790297Z"
    }
   },
   "outputs": [
    {
     "data": {
      "text/plain": [
       "35.78052077903063"
      ]
     },
     "execution_count": 95,
     "metadata": {},
     "output_type": "execute_result"
    }
   ],
   "source": [
    "lm2.intercept_"
   ]
  },
  {
   "cell_type": "code",
   "execution_count": 96,
   "metadata": {},
   "outputs": [],
   "source": []
  },
  {
   "cell_type": "code",
   "execution_count": 96,
   "metadata": {},
   "outputs": [],
   "source": []
  },
  {
   "cell_type": "code",
   "execution_count": 96,
   "metadata": {},
   "outputs": [],
   "source": []
  },
  {
   "cell_type": "code",
   "execution_count": 96,
   "metadata": {},
   "outputs": [],
   "source": []
  },
  {
   "cell_type": "code",
   "execution_count": 96,
   "metadata": {},
   "outputs": [],
   "source": []
  },
  {
   "cell_type": "code",
   "execution_count": 96,
   "metadata": {},
   "outputs": [],
   "source": []
  },
  {
   "cell_type": "code",
   "execution_count": 96,
   "metadata": {},
   "outputs": [],
   "source": []
  }
 ],
 "metadata": {
  "kernelspec": {
   "display_name": "Python 3",
   "language": "python",
   "name": "python3"
  },
  "language_info": {
   "codemirror_mode": {
    "name": "ipython",
    "version": 3
   },
   "file_extension": ".py",
   "mimetype": "text/x-python",
   "name": "python",
   "nbconvert_exporter": "python",
   "pygments_lexer": "ipython3",
   "version": "3.6.4"
  }
 },
 "nbformat": 4,
 "nbformat_minor": 4
}
