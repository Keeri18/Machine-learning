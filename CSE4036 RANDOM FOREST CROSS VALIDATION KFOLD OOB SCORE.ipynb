{
 "cells": [
  {
   "cell_type": "code",
   "execution_count": 1,
   "metadata": {
    "_cell_guid": "2768ce80-1a7d-ca31-a35f-29cf0ef7fb15",
    "execution": {
     "iopub.execute_input": "2021-11-27T17:55:50.151945Z",
     "iopub.status.busy": "2021-11-27T17:55:50.151285Z",
     "iopub.status.idle": "2021-11-27T17:55:51.392682Z",
     "shell.execute_reply": "2021-11-27T17:55:51.391907Z",
     "shell.execute_reply.started": "2021-11-27T17:23:35.861766Z"
    },
    "papermill": {
     "duration": 1.281209,
     "end_time": "2021-11-27T17:55:51.392866",
     "exception": false,
     "start_time": "2021-11-27T17:55:50.111657",
     "status": "completed"
    },
    "tags": []
   },
   "outputs": [],
   "source": [
    "import numpy as np \n",
    "import pandas as pd \n",
    "%matplotlib inline \n",
    "import matplotlib.pyplot as plt \n",
    "import matplotlib.gridspec as gridspec\n",
    "import mpld3 as mpl\n",
    "from sklearn.model_selection import train_test_split\n",
    "from sklearn.linear_model import LogisticRegression\n",
    "from sklearn.model_selection import KFold   \n",
    "from sklearn.ensemble import RandomForestClassifier\n",
    "from sklearn.tree import DecisionTreeClassifier, export_graphviz\n",
    "from sklearn import metrics"
   ]
  },
  {
   "cell_type": "code",
   "execution_count": 2,
   "metadata": {
    "_cell_guid": "9180cb22-53d2-6bf2-3a29-99448ab808fb",
    "execution": {
     "iopub.execute_input": "2021-11-27T17:55:51.449987Z",
     "iopub.status.busy": "2021-11-27T17:55:51.449375Z",
     "iopub.status.idle": "2021-11-27T17:55:51.501610Z",
     "shell.execute_reply": "2021-11-27T17:55:51.502074Z",
     "shell.execute_reply.started": "2021-11-27T17:23:35.876073Z"
    },
    "papermill": {
     "duration": 0.082107,
     "end_time": "2021-11-27T17:55:51.502284",
     "exception": false,
     "start_time": "2021-11-27T17:55:51.420177",
     "status": "completed"
    },
    "tags": []
   },
   "outputs": [
    {
     "data": {
      "text/html": [
       "<div>\n",
       "<style scoped>\n",
       "    .dataframe tbody tr th:only-of-type {\n",
       "        vertical-align: middle;\n",
       "    }\n",
       "\n",
       "    .dataframe tbody tr th {\n",
       "        vertical-align: top;\n",
       "    }\n",
       "\n",
       "    .dataframe thead th {\n",
       "        text-align: right;\n",
       "    }\n",
       "</style>\n",
       "<table border=\"1\" class=\"dataframe\">\n",
       "  <thead>\n",
       "    <tr style=\"text-align: right;\">\n",
       "      <th></th>\n",
       "      <th>id</th>\n",
       "      <th>diagnosis</th>\n",
       "      <th>radius_mean</th>\n",
       "      <th>texture_mean</th>\n",
       "      <th>perimeter_mean</th>\n",
       "      <th>area_mean</th>\n",
       "      <th>smoothness_mean</th>\n",
       "      <th>compactness_mean</th>\n",
       "      <th>concavity_mean</th>\n",
       "      <th>concave points_mean</th>\n",
       "      <th>...</th>\n",
       "      <th>texture_worst</th>\n",
       "      <th>perimeter_worst</th>\n",
       "      <th>area_worst</th>\n",
       "      <th>smoothness_worst</th>\n",
       "      <th>compactness_worst</th>\n",
       "      <th>concavity_worst</th>\n",
       "      <th>concave points_worst</th>\n",
       "      <th>symmetry_worst</th>\n",
       "      <th>fractal_dimension_worst</th>\n",
       "      <th>Unnamed: 32</th>\n",
       "    </tr>\n",
       "  </thead>\n",
       "  <tbody>\n",
       "    <tr>\n",
       "      <th>0</th>\n",
       "      <td>842302</td>\n",
       "      <td>M</td>\n",
       "      <td>17.99</td>\n",
       "      <td>10.38</td>\n",
       "      <td>122.80</td>\n",
       "      <td>1001.0</td>\n",
       "      <td>0.11840</td>\n",
       "      <td>0.27760</td>\n",
       "      <td>0.3001</td>\n",
       "      <td>0.14710</td>\n",
       "      <td>...</td>\n",
       "      <td>17.33</td>\n",
       "      <td>184.60</td>\n",
       "      <td>2019.0</td>\n",
       "      <td>0.1622</td>\n",
       "      <td>0.6656</td>\n",
       "      <td>0.7119</td>\n",
       "      <td>0.2654</td>\n",
       "      <td>0.4601</td>\n",
       "      <td>0.11890</td>\n",
       "      <td>NaN</td>\n",
       "    </tr>\n",
       "    <tr>\n",
       "      <th>1</th>\n",
       "      <td>842517</td>\n",
       "      <td>M</td>\n",
       "      <td>20.57</td>\n",
       "      <td>17.77</td>\n",
       "      <td>132.90</td>\n",
       "      <td>1326.0</td>\n",
       "      <td>0.08474</td>\n",
       "      <td>0.07864</td>\n",
       "      <td>0.0869</td>\n",
       "      <td>0.07017</td>\n",
       "      <td>...</td>\n",
       "      <td>23.41</td>\n",
       "      <td>158.80</td>\n",
       "      <td>1956.0</td>\n",
       "      <td>0.1238</td>\n",
       "      <td>0.1866</td>\n",
       "      <td>0.2416</td>\n",
       "      <td>0.1860</td>\n",
       "      <td>0.2750</td>\n",
       "      <td>0.08902</td>\n",
       "      <td>NaN</td>\n",
       "    </tr>\n",
       "    <tr>\n",
       "      <th>2</th>\n",
       "      <td>84300903</td>\n",
       "      <td>M</td>\n",
       "      <td>19.69</td>\n",
       "      <td>21.25</td>\n",
       "      <td>130.00</td>\n",
       "      <td>1203.0</td>\n",
       "      <td>0.10960</td>\n",
       "      <td>0.15990</td>\n",
       "      <td>0.1974</td>\n",
       "      <td>0.12790</td>\n",
       "      <td>...</td>\n",
       "      <td>25.53</td>\n",
       "      <td>152.50</td>\n",
       "      <td>1709.0</td>\n",
       "      <td>0.1444</td>\n",
       "      <td>0.4245</td>\n",
       "      <td>0.4504</td>\n",
       "      <td>0.2430</td>\n",
       "      <td>0.3613</td>\n",
       "      <td>0.08758</td>\n",
       "      <td>NaN</td>\n",
       "    </tr>\n",
       "    <tr>\n",
       "      <th>3</th>\n",
       "      <td>84348301</td>\n",
       "      <td>M</td>\n",
       "      <td>11.42</td>\n",
       "      <td>20.38</td>\n",
       "      <td>77.58</td>\n",
       "      <td>386.1</td>\n",
       "      <td>0.14250</td>\n",
       "      <td>0.28390</td>\n",
       "      <td>0.2414</td>\n",
       "      <td>0.10520</td>\n",
       "      <td>...</td>\n",
       "      <td>26.50</td>\n",
       "      <td>98.87</td>\n",
       "      <td>567.7</td>\n",
       "      <td>0.2098</td>\n",
       "      <td>0.8663</td>\n",
       "      <td>0.6869</td>\n",
       "      <td>0.2575</td>\n",
       "      <td>0.6638</td>\n",
       "      <td>0.17300</td>\n",
       "      <td>NaN</td>\n",
       "    </tr>\n",
       "    <tr>\n",
       "      <th>4</th>\n",
       "      <td>84358402</td>\n",
       "      <td>M</td>\n",
       "      <td>20.29</td>\n",
       "      <td>14.34</td>\n",
       "      <td>135.10</td>\n",
       "      <td>1297.0</td>\n",
       "      <td>0.10030</td>\n",
       "      <td>0.13280</td>\n",
       "      <td>0.1980</td>\n",
       "      <td>0.10430</td>\n",
       "      <td>...</td>\n",
       "      <td>16.67</td>\n",
       "      <td>152.20</td>\n",
       "      <td>1575.0</td>\n",
       "      <td>0.1374</td>\n",
       "      <td>0.2050</td>\n",
       "      <td>0.4000</td>\n",
       "      <td>0.1625</td>\n",
       "      <td>0.2364</td>\n",
       "      <td>0.07678</td>\n",
       "      <td>NaN</td>\n",
       "    </tr>\n",
       "  </tbody>\n",
       "</table>\n",
       "<p>5 rows × 33 columns</p>\n",
       "</div>"
      ],
      "text/plain": [
       "         id diagnosis  radius_mean  texture_mean  perimeter_mean  area_mean  \\\n",
       "0    842302         M        17.99         10.38          122.80     1001.0   \n",
       "1    842517         M        20.57         17.77          132.90     1326.0   \n",
       "2  84300903         M        19.69         21.25          130.00     1203.0   \n",
       "3  84348301         M        11.42         20.38           77.58      386.1   \n",
       "4  84358402         M        20.29         14.34          135.10     1297.0   \n",
       "\n",
       "   smoothness_mean  compactness_mean  concavity_mean  concave points_mean  \\\n",
       "0          0.11840           0.27760          0.3001              0.14710   \n",
       "1          0.08474           0.07864          0.0869              0.07017   \n",
       "2          0.10960           0.15990          0.1974              0.12790   \n",
       "3          0.14250           0.28390          0.2414              0.10520   \n",
       "4          0.10030           0.13280          0.1980              0.10430   \n",
       "\n",
       "   ...  texture_worst  perimeter_worst  area_worst  smoothness_worst  \\\n",
       "0  ...          17.33           184.60      2019.0            0.1622   \n",
       "1  ...          23.41           158.80      1956.0            0.1238   \n",
       "2  ...          25.53           152.50      1709.0            0.1444   \n",
       "3  ...          26.50            98.87       567.7            0.2098   \n",
       "4  ...          16.67           152.20      1575.0            0.1374   \n",
       "\n",
       "   compactness_worst  concavity_worst  concave points_worst  symmetry_worst  \\\n",
       "0             0.6656           0.7119                0.2654          0.4601   \n",
       "1             0.1866           0.2416                0.1860          0.2750   \n",
       "2             0.4245           0.4504                0.2430          0.3613   \n",
       "3             0.8663           0.6869                0.2575          0.6638   \n",
       "4             0.2050           0.4000                0.1625          0.2364   \n",
       "\n",
       "   fractal_dimension_worst  Unnamed: 32  \n",
       "0                  0.11890          NaN  \n",
       "1                  0.08902          NaN  \n",
       "2                  0.08758          NaN  \n",
       "3                  0.17300          NaN  \n",
       "4                  0.07678          NaN  \n",
       "\n",
       "[5 rows x 33 columns]"
      ]
     },
     "execution_count": 2,
     "metadata": {},
     "output_type": "execute_result"
    }
   ],
   "source": [
    "df = pd.read_csv(\"../input/data.csv\",header = 0)\n",
    "df.head()"
   ]
  },
  {
   "cell_type": "code",
   "execution_count": 3,
   "metadata": {
    "_cell_guid": "f9fd3701-af9d-8d8c-5d0e-e2673d7977fe",
    "execution": {
     "iopub.execute_input": "2021-11-27T17:55:51.566357Z",
     "iopub.status.busy": "2021-11-27T17:55:51.565527Z",
     "iopub.status.idle": "2021-11-27T17:55:51.569118Z",
     "shell.execute_reply": "2021-11-27T17:55:51.568594Z",
     "shell.execute_reply.started": "2021-11-27T17:23:35.932733Z"
    },
    "papermill": {
     "duration": 0.041132,
     "end_time": "2021-11-27T17:55:51.569267",
     "exception": false,
     "start_time": "2021-11-27T17:55:51.528135",
     "status": "completed"
    },
    "tags": []
   },
   "outputs": [
    {
     "data": {
      "text/plain": [
       "569"
      ]
     },
     "execution_count": 3,
     "metadata": {},
     "output_type": "execute_result"
    }
   ],
   "source": [
    "df.drop('id',axis=1,inplace=True)\n",
    "df.drop('Unnamed: 32',axis=1,inplace=True)\n",
    "len(df)"
   ]
  },
  {
   "cell_type": "code",
   "execution_count": 4,
   "metadata": {
    "_cell_guid": "083fe464-8dac-713e-d0a1-46435c0d93fa",
    "execution": {
     "iopub.execute_input": "2021-11-27T17:55:51.626203Z",
     "iopub.status.busy": "2021-11-27T17:55:51.625246Z",
     "iopub.status.idle": "2021-11-27T17:55:51.632982Z",
     "shell.execute_reply": "2021-11-27T17:55:51.633477Z",
     "shell.execute_reply.started": "2021-11-27T17:23:35.949217Z"
    },
    "papermill": {
     "duration": 0.038072,
     "end_time": "2021-11-27T17:55:51.633662",
     "exception": false,
     "start_time": "2021-11-27T17:55:51.595590",
     "status": "completed"
    },
    "tags": []
   },
   "outputs": [
    {
     "data": {
      "text/plain": [
       "array(['M', 'B'], dtype=object)"
      ]
     },
     "execution_count": 4,
     "metadata": {},
     "output_type": "execute_result"
    }
   ],
   "source": [
    "df.diagnosis.unique()"
   ]
  },
  {
   "cell_type": "code",
   "execution_count": 5,
   "metadata": {
    "_cell_guid": "0882e4c2-3d4d-d4d9-5f49-f36c1b248b93",
    "execution": {
     "iopub.execute_input": "2021-11-27T17:55:51.711054Z",
     "iopub.status.busy": "2021-11-27T17:55:51.700843Z",
     "iopub.status.idle": "2021-11-27T17:55:51.714194Z",
     "shell.execute_reply": "2021-11-27T17:55:51.714772Z",
     "shell.execute_reply.started": "2021-11-27T17:23:35.963444Z"
    },
    "papermill": {
     "duration": 0.05523,
     "end_time": "2021-11-27T17:55:51.714936",
     "exception": false,
     "start_time": "2021-11-27T17:55:51.659706",
     "status": "completed"
    },
    "tags": []
   },
   "outputs": [
    {
     "data": {
      "text/html": [
       "<div>\n",
       "<style scoped>\n",
       "    .dataframe tbody tr th:only-of-type {\n",
       "        vertical-align: middle;\n",
       "    }\n",
       "\n",
       "    .dataframe tbody tr th {\n",
       "        vertical-align: top;\n",
       "    }\n",
       "\n",
       "    .dataframe thead th {\n",
       "        text-align: right;\n",
       "    }\n",
       "</style>\n",
       "<table border=\"1\" class=\"dataframe\">\n",
       "  <thead>\n",
       "    <tr style=\"text-align: right;\">\n",
       "      <th></th>\n",
       "      <th>diagnosis</th>\n",
       "      <th>radius_mean</th>\n",
       "      <th>texture_mean</th>\n",
       "      <th>perimeter_mean</th>\n",
       "      <th>area_mean</th>\n",
       "      <th>smoothness_mean</th>\n",
       "      <th>compactness_mean</th>\n",
       "      <th>concavity_mean</th>\n",
       "      <th>concave points_mean</th>\n",
       "      <th>symmetry_mean</th>\n",
       "      <th>...</th>\n",
       "      <th>radius_worst</th>\n",
       "      <th>texture_worst</th>\n",
       "      <th>perimeter_worst</th>\n",
       "      <th>area_worst</th>\n",
       "      <th>smoothness_worst</th>\n",
       "      <th>compactness_worst</th>\n",
       "      <th>concavity_worst</th>\n",
       "      <th>concave points_worst</th>\n",
       "      <th>symmetry_worst</th>\n",
       "      <th>fractal_dimension_worst</th>\n",
       "    </tr>\n",
       "  </thead>\n",
       "  <tbody>\n",
       "    <tr>\n",
       "      <th>0</th>\n",
       "      <td>1</td>\n",
       "      <td>17.99</td>\n",
       "      <td>10.38</td>\n",
       "      <td>122.80</td>\n",
       "      <td>1001.0</td>\n",
       "      <td>0.11840</td>\n",
       "      <td>0.27760</td>\n",
       "      <td>0.3001</td>\n",
       "      <td>0.14710</td>\n",
       "      <td>0.2419</td>\n",
       "      <td>...</td>\n",
       "      <td>25.38</td>\n",
       "      <td>17.33</td>\n",
       "      <td>184.60</td>\n",
       "      <td>2019.0</td>\n",
       "      <td>0.1622</td>\n",
       "      <td>0.6656</td>\n",
       "      <td>0.7119</td>\n",
       "      <td>0.2654</td>\n",
       "      <td>0.4601</td>\n",
       "      <td>0.11890</td>\n",
       "    </tr>\n",
       "    <tr>\n",
       "      <th>1</th>\n",
       "      <td>1</td>\n",
       "      <td>20.57</td>\n",
       "      <td>17.77</td>\n",
       "      <td>132.90</td>\n",
       "      <td>1326.0</td>\n",
       "      <td>0.08474</td>\n",
       "      <td>0.07864</td>\n",
       "      <td>0.0869</td>\n",
       "      <td>0.07017</td>\n",
       "      <td>0.1812</td>\n",
       "      <td>...</td>\n",
       "      <td>24.99</td>\n",
       "      <td>23.41</td>\n",
       "      <td>158.80</td>\n",
       "      <td>1956.0</td>\n",
       "      <td>0.1238</td>\n",
       "      <td>0.1866</td>\n",
       "      <td>0.2416</td>\n",
       "      <td>0.1860</td>\n",
       "      <td>0.2750</td>\n",
       "      <td>0.08902</td>\n",
       "    </tr>\n",
       "    <tr>\n",
       "      <th>2</th>\n",
       "      <td>1</td>\n",
       "      <td>19.69</td>\n",
       "      <td>21.25</td>\n",
       "      <td>130.00</td>\n",
       "      <td>1203.0</td>\n",
       "      <td>0.10960</td>\n",
       "      <td>0.15990</td>\n",
       "      <td>0.1974</td>\n",
       "      <td>0.12790</td>\n",
       "      <td>0.2069</td>\n",
       "      <td>...</td>\n",
       "      <td>23.57</td>\n",
       "      <td>25.53</td>\n",
       "      <td>152.50</td>\n",
       "      <td>1709.0</td>\n",
       "      <td>0.1444</td>\n",
       "      <td>0.4245</td>\n",
       "      <td>0.4504</td>\n",
       "      <td>0.2430</td>\n",
       "      <td>0.3613</td>\n",
       "      <td>0.08758</td>\n",
       "    </tr>\n",
       "    <tr>\n",
       "      <th>3</th>\n",
       "      <td>1</td>\n",
       "      <td>11.42</td>\n",
       "      <td>20.38</td>\n",
       "      <td>77.58</td>\n",
       "      <td>386.1</td>\n",
       "      <td>0.14250</td>\n",
       "      <td>0.28390</td>\n",
       "      <td>0.2414</td>\n",
       "      <td>0.10520</td>\n",
       "      <td>0.2597</td>\n",
       "      <td>...</td>\n",
       "      <td>14.91</td>\n",
       "      <td>26.50</td>\n",
       "      <td>98.87</td>\n",
       "      <td>567.7</td>\n",
       "      <td>0.2098</td>\n",
       "      <td>0.8663</td>\n",
       "      <td>0.6869</td>\n",
       "      <td>0.2575</td>\n",
       "      <td>0.6638</td>\n",
       "      <td>0.17300</td>\n",
       "    </tr>\n",
       "    <tr>\n",
       "      <th>4</th>\n",
       "      <td>1</td>\n",
       "      <td>20.29</td>\n",
       "      <td>14.34</td>\n",
       "      <td>135.10</td>\n",
       "      <td>1297.0</td>\n",
       "      <td>0.10030</td>\n",
       "      <td>0.13280</td>\n",
       "      <td>0.1980</td>\n",
       "      <td>0.10430</td>\n",
       "      <td>0.1809</td>\n",
       "      <td>...</td>\n",
       "      <td>22.54</td>\n",
       "      <td>16.67</td>\n",
       "      <td>152.20</td>\n",
       "      <td>1575.0</td>\n",
       "      <td>0.1374</td>\n",
       "      <td>0.2050</td>\n",
       "      <td>0.4000</td>\n",
       "      <td>0.1625</td>\n",
       "      <td>0.2364</td>\n",
       "      <td>0.07678</td>\n",
       "    </tr>\n",
       "  </tbody>\n",
       "</table>\n",
       "<p>5 rows × 31 columns</p>\n",
       "</div>"
      ],
      "text/plain": [
       "   diagnosis  radius_mean  texture_mean  perimeter_mean  area_mean  \\\n",
       "0          1        17.99         10.38          122.80     1001.0   \n",
       "1          1        20.57         17.77          132.90     1326.0   \n",
       "2          1        19.69         21.25          130.00     1203.0   \n",
       "3          1        11.42         20.38           77.58      386.1   \n",
       "4          1        20.29         14.34          135.10     1297.0   \n",
       "\n",
       "   smoothness_mean  compactness_mean  concavity_mean  concave points_mean  \\\n",
       "0          0.11840           0.27760          0.3001              0.14710   \n",
       "1          0.08474           0.07864          0.0869              0.07017   \n",
       "2          0.10960           0.15990          0.1974              0.12790   \n",
       "3          0.14250           0.28390          0.2414              0.10520   \n",
       "4          0.10030           0.13280          0.1980              0.10430   \n",
       "\n",
       "   symmetry_mean  ...  radius_worst  texture_worst  perimeter_worst  \\\n",
       "0         0.2419  ...         25.38          17.33           184.60   \n",
       "1         0.1812  ...         24.99          23.41           158.80   \n",
       "2         0.2069  ...         23.57          25.53           152.50   \n",
       "3         0.2597  ...         14.91          26.50            98.87   \n",
       "4         0.1809  ...         22.54          16.67           152.20   \n",
       "\n",
       "   area_worst  smoothness_worst  compactness_worst  concavity_worst  \\\n",
       "0      2019.0            0.1622             0.6656           0.7119   \n",
       "1      1956.0            0.1238             0.1866           0.2416   \n",
       "2      1709.0            0.1444             0.4245           0.4504   \n",
       "3       567.7            0.2098             0.8663           0.6869   \n",
       "4      1575.0            0.1374             0.2050           0.4000   \n",
       "\n",
       "   concave points_worst  symmetry_worst  fractal_dimension_worst  \n",
       "0                0.2654          0.4601                  0.11890  \n",
       "1                0.1860          0.2750                  0.08902  \n",
       "2                0.2430          0.3613                  0.08758  \n",
       "3                0.2575          0.6638                  0.17300  \n",
       "4                0.1625          0.2364                  0.07678  \n",
       "\n",
       "[5 rows x 31 columns]"
      ]
     },
     "execution_count": 5,
     "metadata": {},
     "output_type": "execute_result"
    }
   ],
   "source": [
    "df['diagnosis'] = df['diagnosis'].map({'M':1,'B':0})\n",
    "df.head()"
   ]
  },
  {
   "cell_type": "code",
   "execution_count": 6,
   "metadata": {
    "_cell_guid": "cfd882cd-1719-4093-934a-539faf665353",
    "execution": {
     "iopub.execute_input": "2021-11-27T17:55:51.771343Z",
     "iopub.status.busy": "2021-11-27T17:55:51.770698Z",
     "iopub.status.idle": "2021-11-27T17:55:51.848065Z",
     "shell.execute_reply": "2021-11-27T17:55:51.848509Z",
     "shell.execute_reply.started": "2021-11-27T17:23:36.000902Z"
    },
    "papermill": {
     "duration": 0.107435,
     "end_time": "2021-11-27T17:55:51.848682",
     "exception": false,
     "start_time": "2021-11-27T17:55:51.741247",
     "status": "completed"
    },
    "tags": []
   },
   "outputs": [
    {
     "data": {
      "text/html": [
       "<div>\n",
       "<style scoped>\n",
       "    .dataframe tbody tr th:only-of-type {\n",
       "        vertical-align: middle;\n",
       "    }\n",
       "\n",
       "    .dataframe tbody tr th {\n",
       "        vertical-align: top;\n",
       "    }\n",
       "\n",
       "    .dataframe thead th {\n",
       "        text-align: right;\n",
       "    }\n",
       "</style>\n",
       "<table border=\"1\" class=\"dataframe\">\n",
       "  <thead>\n",
       "    <tr style=\"text-align: right;\">\n",
       "      <th></th>\n",
       "      <th>diagnosis</th>\n",
       "      <th>radius_mean</th>\n",
       "      <th>texture_mean</th>\n",
       "      <th>perimeter_mean</th>\n",
       "      <th>area_mean</th>\n",
       "      <th>smoothness_mean</th>\n",
       "      <th>compactness_mean</th>\n",
       "      <th>concavity_mean</th>\n",
       "      <th>concave points_mean</th>\n",
       "      <th>symmetry_mean</th>\n",
       "      <th>...</th>\n",
       "      <th>radius_worst</th>\n",
       "      <th>texture_worst</th>\n",
       "      <th>perimeter_worst</th>\n",
       "      <th>area_worst</th>\n",
       "      <th>smoothness_worst</th>\n",
       "      <th>compactness_worst</th>\n",
       "      <th>concavity_worst</th>\n",
       "      <th>concave points_worst</th>\n",
       "      <th>symmetry_worst</th>\n",
       "      <th>fractal_dimension_worst</th>\n",
       "    </tr>\n",
       "  </thead>\n",
       "  <tbody>\n",
       "    <tr>\n",
       "      <th>count</th>\n",
       "      <td>569.000000</td>\n",
       "      <td>569.000000</td>\n",
       "      <td>569.000000</td>\n",
       "      <td>569.000000</td>\n",
       "      <td>569.000000</td>\n",
       "      <td>569.000000</td>\n",
       "      <td>569.000000</td>\n",
       "      <td>569.000000</td>\n",
       "      <td>569.000000</td>\n",
       "      <td>569.000000</td>\n",
       "      <td>...</td>\n",
       "      <td>569.000000</td>\n",
       "      <td>569.000000</td>\n",
       "      <td>569.000000</td>\n",
       "      <td>569.000000</td>\n",
       "      <td>569.000000</td>\n",
       "      <td>569.000000</td>\n",
       "      <td>569.000000</td>\n",
       "      <td>569.000000</td>\n",
       "      <td>569.000000</td>\n",
       "      <td>569.000000</td>\n",
       "    </tr>\n",
       "    <tr>\n",
       "      <th>mean</th>\n",
       "      <td>0.372583</td>\n",
       "      <td>14.127292</td>\n",
       "      <td>19.289649</td>\n",
       "      <td>91.969033</td>\n",
       "      <td>654.889104</td>\n",
       "      <td>0.096360</td>\n",
       "      <td>0.104341</td>\n",
       "      <td>0.088799</td>\n",
       "      <td>0.048919</td>\n",
       "      <td>0.181162</td>\n",
       "      <td>...</td>\n",
       "      <td>16.269190</td>\n",
       "      <td>25.677223</td>\n",
       "      <td>107.261213</td>\n",
       "      <td>880.583128</td>\n",
       "      <td>0.132369</td>\n",
       "      <td>0.254265</td>\n",
       "      <td>0.272188</td>\n",
       "      <td>0.114606</td>\n",
       "      <td>0.290076</td>\n",
       "      <td>0.083946</td>\n",
       "    </tr>\n",
       "    <tr>\n",
       "      <th>std</th>\n",
       "      <td>0.483918</td>\n",
       "      <td>3.524049</td>\n",
       "      <td>4.301036</td>\n",
       "      <td>24.298981</td>\n",
       "      <td>351.914129</td>\n",
       "      <td>0.014064</td>\n",
       "      <td>0.052813</td>\n",
       "      <td>0.079720</td>\n",
       "      <td>0.038803</td>\n",
       "      <td>0.027414</td>\n",
       "      <td>...</td>\n",
       "      <td>4.833242</td>\n",
       "      <td>6.146258</td>\n",
       "      <td>33.602542</td>\n",
       "      <td>569.356993</td>\n",
       "      <td>0.022832</td>\n",
       "      <td>0.157336</td>\n",
       "      <td>0.208624</td>\n",
       "      <td>0.065732</td>\n",
       "      <td>0.061867</td>\n",
       "      <td>0.018061</td>\n",
       "    </tr>\n",
       "    <tr>\n",
       "      <th>min</th>\n",
       "      <td>0.000000</td>\n",
       "      <td>6.981000</td>\n",
       "      <td>9.710000</td>\n",
       "      <td>43.790000</td>\n",
       "      <td>143.500000</td>\n",
       "      <td>0.052630</td>\n",
       "      <td>0.019380</td>\n",
       "      <td>0.000000</td>\n",
       "      <td>0.000000</td>\n",
       "      <td>0.106000</td>\n",
       "      <td>...</td>\n",
       "      <td>7.930000</td>\n",
       "      <td>12.020000</td>\n",
       "      <td>50.410000</td>\n",
       "      <td>185.200000</td>\n",
       "      <td>0.071170</td>\n",
       "      <td>0.027290</td>\n",
       "      <td>0.000000</td>\n",
       "      <td>0.000000</td>\n",
       "      <td>0.156500</td>\n",
       "      <td>0.055040</td>\n",
       "    </tr>\n",
       "    <tr>\n",
       "      <th>25%</th>\n",
       "      <td>0.000000</td>\n",
       "      <td>11.700000</td>\n",
       "      <td>16.170000</td>\n",
       "      <td>75.170000</td>\n",
       "      <td>420.300000</td>\n",
       "      <td>0.086370</td>\n",
       "      <td>0.064920</td>\n",
       "      <td>0.029560</td>\n",
       "      <td>0.020310</td>\n",
       "      <td>0.161900</td>\n",
       "      <td>...</td>\n",
       "      <td>13.010000</td>\n",
       "      <td>21.080000</td>\n",
       "      <td>84.110000</td>\n",
       "      <td>515.300000</td>\n",
       "      <td>0.116600</td>\n",
       "      <td>0.147200</td>\n",
       "      <td>0.114500</td>\n",
       "      <td>0.064930</td>\n",
       "      <td>0.250400</td>\n",
       "      <td>0.071460</td>\n",
       "    </tr>\n",
       "    <tr>\n",
       "      <th>50%</th>\n",
       "      <td>0.000000</td>\n",
       "      <td>13.370000</td>\n",
       "      <td>18.840000</td>\n",
       "      <td>86.240000</td>\n",
       "      <td>551.100000</td>\n",
       "      <td>0.095870</td>\n",
       "      <td>0.092630</td>\n",
       "      <td>0.061540</td>\n",
       "      <td>0.033500</td>\n",
       "      <td>0.179200</td>\n",
       "      <td>...</td>\n",
       "      <td>14.970000</td>\n",
       "      <td>25.410000</td>\n",
       "      <td>97.660000</td>\n",
       "      <td>686.500000</td>\n",
       "      <td>0.131300</td>\n",
       "      <td>0.211900</td>\n",
       "      <td>0.226700</td>\n",
       "      <td>0.099930</td>\n",
       "      <td>0.282200</td>\n",
       "      <td>0.080040</td>\n",
       "    </tr>\n",
       "    <tr>\n",
       "      <th>75%</th>\n",
       "      <td>1.000000</td>\n",
       "      <td>15.780000</td>\n",
       "      <td>21.800000</td>\n",
       "      <td>104.100000</td>\n",
       "      <td>782.700000</td>\n",
       "      <td>0.105300</td>\n",
       "      <td>0.130400</td>\n",
       "      <td>0.130700</td>\n",
       "      <td>0.074000</td>\n",
       "      <td>0.195700</td>\n",
       "      <td>...</td>\n",
       "      <td>18.790000</td>\n",
       "      <td>29.720000</td>\n",
       "      <td>125.400000</td>\n",
       "      <td>1084.000000</td>\n",
       "      <td>0.146000</td>\n",
       "      <td>0.339100</td>\n",
       "      <td>0.382900</td>\n",
       "      <td>0.161400</td>\n",
       "      <td>0.317900</td>\n",
       "      <td>0.092080</td>\n",
       "    </tr>\n",
       "    <tr>\n",
       "      <th>max</th>\n",
       "      <td>1.000000</td>\n",
       "      <td>28.110000</td>\n",
       "      <td>39.280000</td>\n",
       "      <td>188.500000</td>\n",
       "      <td>2501.000000</td>\n",
       "      <td>0.163400</td>\n",
       "      <td>0.345400</td>\n",
       "      <td>0.426800</td>\n",
       "      <td>0.201200</td>\n",
       "      <td>0.304000</td>\n",
       "      <td>...</td>\n",
       "      <td>36.040000</td>\n",
       "      <td>49.540000</td>\n",
       "      <td>251.200000</td>\n",
       "      <td>4254.000000</td>\n",
       "      <td>0.222600</td>\n",
       "      <td>1.058000</td>\n",
       "      <td>1.252000</td>\n",
       "      <td>0.291000</td>\n",
       "      <td>0.663800</td>\n",
       "      <td>0.207500</td>\n",
       "    </tr>\n",
       "  </tbody>\n",
       "</table>\n",
       "<p>8 rows × 31 columns</p>\n",
       "</div>"
      ],
      "text/plain": [
       "        diagnosis  radius_mean  texture_mean  perimeter_mean    area_mean  \\\n",
       "count  569.000000   569.000000    569.000000      569.000000   569.000000   \n",
       "mean     0.372583    14.127292     19.289649       91.969033   654.889104   \n",
       "std      0.483918     3.524049      4.301036       24.298981   351.914129   \n",
       "min      0.000000     6.981000      9.710000       43.790000   143.500000   \n",
       "25%      0.000000    11.700000     16.170000       75.170000   420.300000   \n",
       "50%      0.000000    13.370000     18.840000       86.240000   551.100000   \n",
       "75%      1.000000    15.780000     21.800000      104.100000   782.700000   \n",
       "max      1.000000    28.110000     39.280000      188.500000  2501.000000   \n",
       "\n",
       "       smoothness_mean  compactness_mean  concavity_mean  concave points_mean  \\\n",
       "count       569.000000        569.000000      569.000000           569.000000   \n",
       "mean          0.096360          0.104341        0.088799             0.048919   \n",
       "std           0.014064          0.052813        0.079720             0.038803   \n",
       "min           0.052630          0.019380        0.000000             0.000000   \n",
       "25%           0.086370          0.064920        0.029560             0.020310   \n",
       "50%           0.095870          0.092630        0.061540             0.033500   \n",
       "75%           0.105300          0.130400        0.130700             0.074000   \n",
       "max           0.163400          0.345400        0.426800             0.201200   \n",
       "\n",
       "       symmetry_mean  ...  radius_worst  texture_worst  perimeter_worst  \\\n",
       "count     569.000000  ...    569.000000     569.000000       569.000000   \n",
       "mean        0.181162  ...     16.269190      25.677223       107.261213   \n",
       "std         0.027414  ...      4.833242       6.146258        33.602542   \n",
       "min         0.106000  ...      7.930000      12.020000        50.410000   \n",
       "25%         0.161900  ...     13.010000      21.080000        84.110000   \n",
       "50%         0.179200  ...     14.970000      25.410000        97.660000   \n",
       "75%         0.195700  ...     18.790000      29.720000       125.400000   \n",
       "max         0.304000  ...     36.040000      49.540000       251.200000   \n",
       "\n",
       "        area_worst  smoothness_worst  compactness_worst  concavity_worst  \\\n",
       "count   569.000000        569.000000         569.000000       569.000000   \n",
       "mean    880.583128          0.132369           0.254265         0.272188   \n",
       "std     569.356993          0.022832           0.157336         0.208624   \n",
       "min     185.200000          0.071170           0.027290         0.000000   \n",
       "25%     515.300000          0.116600           0.147200         0.114500   \n",
       "50%     686.500000          0.131300           0.211900         0.226700   \n",
       "75%    1084.000000          0.146000           0.339100         0.382900   \n",
       "max    4254.000000          0.222600           1.058000         1.252000   \n",
       "\n",
       "       concave points_worst  symmetry_worst  fractal_dimension_worst  \n",
       "count            569.000000      569.000000               569.000000  \n",
       "mean               0.114606        0.290076                 0.083946  \n",
       "std                0.065732        0.061867                 0.018061  \n",
       "min                0.000000        0.156500                 0.055040  \n",
       "25%                0.064930        0.250400                 0.071460  \n",
       "50%                0.099930        0.282200                 0.080040  \n",
       "75%                0.161400        0.317900                 0.092080  \n",
       "max                0.291000        0.663800                 0.207500  \n",
       "\n",
       "[8 rows x 31 columns]"
      ]
     },
     "execution_count": 6,
     "metadata": {},
     "output_type": "execute_result"
    }
   ],
   "source": [
    "df.describe()"
   ]
  },
  {
   "cell_type": "code",
   "execution_count": 7,
   "metadata": {
    "_cell_guid": "aa80be8a-4022-038b-d7b7-0789df4ef973",
    "execution": {
     "iopub.execute_input": "2021-11-27T17:55:51.905513Z",
     "iopub.status.busy": "2021-11-27T17:55:51.904873Z",
     "iopub.status.idle": "2021-11-27T17:55:52.185050Z",
     "shell.execute_reply": "2021-11-27T17:55:52.184345Z",
     "shell.execute_reply.started": "2021-11-27T17:23:36.094571Z"
    },
    "papermill": {
     "duration": 0.309794,
     "end_time": "2021-11-27T17:55:52.185233",
     "exception": false,
     "start_time": "2021-11-27T17:55:51.875439",
     "status": "completed"
    },
    "tags": []
   },
   "outputs": [
    {
     "data": {
      "image/png": "[encoded data removed]",
      "text/plain": [
       "<Figure size 432x288 with 1 Axes>"
      ]
     },
     "metadata": {
      "needs_background": "light"
     },
     "output_type": "display_data"
    }
   ],
   "source": [
    "df.describe()\n",
    "plt.hist(df['diagnosis'])\n",
    "plt.title('Diagnosis (M=1 , B=0)')\n",
    "plt.show()"
   ]
  },
  {
   "cell_type": "code",
   "execution_count": 8,
   "metadata": {
    "_cell_guid": "bc36c937-c5d8-8635-480b-777a94571310",
    "execution": {
     "iopub.execute_input": "2021-11-27T17:55:52.248926Z",
     "iopub.status.busy": "2021-11-27T17:55:52.248256Z",
     "iopub.status.idle": "2021-11-27T17:55:52.250236Z",
     "shell.execute_reply": "2021-11-27T17:55:52.250707Z",
     "shell.execute_reply.started": "2021-11-27T17:23:36.379812Z"
    },
    "papermill": {
     "duration": 0.037005,
     "end_time": "2021-11-27T17:55:52.250885",
     "exception": false,
     "start_time": "2021-11-27T17:55:52.213880",
     "status": "completed"
    },
    "tags": []
   },
   "outputs": [],
   "source": [
    "features_mean=list(df.columns[1:11])\n",
    "dfM=df[df['diagnosis'] ==1]\n",
    "dfB=df[df['diagnosis'] ==0]"
   ]
  },
  {
   "cell_type": "code",
   "execution_count": 9,
   "metadata": {
    "_cell_guid": "3f3b5e1b-605d-51b4-28c7-c551b5d13a48",
    "execution": {
     "iopub.execute_input": "2021-11-27T17:55:52.311008Z",
     "iopub.status.busy": "2021-11-27T17:55:52.310406Z",
     "iopub.status.idle": "2021-11-27T17:55:55.591239Z",
     "shell.execute_reply": "2021-11-27T17:55:55.591769Z",
     "shell.execute_reply.started": "2021-11-27T17:23:36.388754Z"
    },
    "papermill": {
     "duration": 3.312445,
     "end_time": "2021-11-27T17:55:55.591937",
     "exception": false,
     "start_time": "2021-11-27T17:55:52.279492",
     "status": "completed"
    },
    "tags": []
   },
   "outputs": [
    {
     "data": {
      "image/png": "[encoded data removed]",
      "text/plain": [
       "<Figure size 576x720 with 10 Axes>"
      ]
     },
     "metadata": {
      "needs_background": "light"
     },
     "output_type": "display_data"
    }
   ],
   "source": [
    "plt.rcParams.update({'font.size': 8})\n",
    "fig, axes = plt.subplots(nrows=5, ncols=2, figsize=(8,10))\n",
    "axes = axes.ravel()\n",
    "for idx,ax in enumerate(axes):\n",
    "    ax.figure\n",
    "    binwidth= (max(df[features_mean[idx]]) - min(df[features_mean[idx]]))/50\n",
    "    ax.hist([dfM[features_mean[idx]],dfB[features_mean[idx]]], bins=np.arange(min(df[features_mean[idx]]), max(df[features_mean[idx]]) + binwidth, binwidth) , alpha=0.5,stacked=True, label=['M','B'],color=['r','g'])\n",
    "    ax.legend(loc='upper right')\n",
    "    ax.set_title(features_mean[idx])\n",
    "plt.tight_layout()\n",
    "plt.show()"
   ]
  },
  {
   "cell_type": "code",
   "execution_count": 10,
   "metadata": {
    "_cell_guid": "1390898b-a338-7395-635f-6e1c216861e6",
    "execution": {
     "iopub.execute_input": "2021-11-27T17:55:55.653515Z",
     "iopub.status.busy": "2021-11-27T17:55:55.652735Z",
     "iopub.status.idle": "2021-11-27T17:55:55.658135Z",
     "shell.execute_reply": "2021-11-27T17:55:55.658631Z",
     "shell.execute_reply.started": "2021-11-27T17:23:40.414112Z"
    },
    "papermill": {
     "duration": 0.037574,
     "end_time": "2021-11-27T17:55:55.658819",
     "exception": false,
     "start_time": "2021-11-27T17:55:55.621245",
     "status": "completed"
    },
    "tags": []
   },
   "outputs": [],
   "source": [
    "traindf, testdf = train_test_split(df, test_size = 0.3)"
   ]
  },
  {
   "cell_type": "code",
   "execution_count": 11,
   "metadata": {
    "_cell_guid": "780b88d4-523e-b3f8-87dc-17c093663f19",
    "execution": {
     "iopub.execute_input": "2021-11-27T17:55:55.725879Z",
     "iopub.status.busy": "2021-11-27T17:55:55.725242Z",
     "iopub.status.idle": "2021-11-27T17:55:55.732397Z",
     "shell.execute_reply": "2021-11-27T17:55:55.731845Z",
     "shell.execute_reply.started": "2021-11-27T17:23:40.424087Z"
    },
    "papermill": {
     "duration": 0.043578,
     "end_time": "2021-11-27T17:55:55.732534",
     "exception": false,
     "start_time": "2021-11-27T17:55:55.688956",
     "status": "completed"
    },
    "tags": []
   },
   "outputs": [],
   "source": [
    "def classification_model(model, data, predictors, outcome):\n",
    "    model.fit(data[predictors],data[outcome])\n",
    "    predictions = model.predict(data[predictors])\n",
    "    accuracy = metrics.accuracy_score(predictions,data[outcome])\n",
    "    print(\"Accuracy : %s\" % \"{0:.3%}\".format(accuracy))\n",
    "    kFold = KFold(n_splits=5)\n",
    "    error = []\n",
    "    for train, test in kFold.split(data):\n",
    "        train_predictors = (data[predictors].iloc[train,:])\n",
    "        train_target = data[outcome].iloc[train]\n",
    "        model.fit(train_predictors, train_target)\n",
    "        error.append(model.score(data[predictors].iloc[test,:], data[outcome].iloc[test]))\n",
    "        print(\"Cross-Validation Score : %s\" % \"{0:.3%}\".format(np.mean(error)))\n",
    "        model.fit(data[predictors],data[outcome]) "
   ]
  },
  {
   "cell_type": "code",
   "execution_count": 12,
   "metadata": {
    "_cell_guid": "23d25895-a0ca-c355-899d-4a838e0d799d",
    "execution": {
     "iopub.execute_input": "2021-11-27T17:55:55.796082Z",
     "iopub.status.busy": "2021-11-27T17:55:55.795494Z",
     "iopub.status.idle": "2021-11-27T17:55:56.099131Z",
     "shell.execute_reply": "2021-11-27T17:55:56.098405Z",
     "shell.execute_reply.started": "2021-11-27T17:23:40.440484Z"
    },
    "papermill": {
     "duration": 0.337351,
     "end_time": "2021-11-27T17:55:56.099315",
     "exception": false,
     "start_time": "2021-11-27T17:55:55.761964",
     "status": "completed"
    },
    "tags": []
   },
   "outputs": [
    {
     "name": "stdout",
     "output_type": "stream",
     "text": [
      "Accuracy : 90.704%\n",
      "Cross-Validation Score : 92.500%\n",
      "Cross-Validation Score : 90.000%\n",
      "Cross-Validation Score : 92.083%\n",
      "Cross-Validation Score : 91.847%\n",
      "Cross-Validation Score : 90.693%\n"
     ]
    }
   ],
   "source": [
    "predictor_var = ['radius_mean','perimeter_mean','area_mean','compactness_mean','concave points_mean']\n",
    "outcome_var='diagnosis'\n",
    "model=LogisticRegression()\n",
    "classification_model(model,traindf,predictor_var,outcome_var)"
   ]
  },
  {
   "cell_type": "code",
   "execution_count": 13,
   "metadata": {
    "_cell_guid": "44cdb278-4b12-5710-f616-db7ccde39775",
    "execution": {
     "iopub.execute_input": "2021-11-27T17:55:56.177179Z",
     "iopub.status.busy": "2021-11-27T17:55:56.168322Z",
     "iopub.status.idle": "2021-11-27T17:55:56.269695Z",
     "shell.execute_reply": "2021-11-27T17:55:56.270173Z",
     "shell.execute_reply.started": "2021-11-27T17:23:40.726137Z"
    },
    "papermill": {
     "duration": 0.140656,
     "end_time": "2021-11-27T17:55:56.270416",
     "exception": false,
     "start_time": "2021-11-27T17:55:56.129760",
     "status": "completed"
    },
    "tags": []
   },
   "outputs": [
    {
     "name": "stdout",
     "output_type": "stream",
     "text": [
      "Accuracy : 88.191%\n",
      "Cross-Validation Score : 88.750%\n",
      "Cross-Validation Score : 88.125%\n",
      "Cross-Validation Score : 88.750%\n",
      "Cross-Validation Score : 89.031%\n",
      "Cross-Validation Score : 88.187%\n"
     ]
    }
   ],
   "source": [
    "predictor_var = ['radius_mean']\n",
    "model=LogisticRegression()\n",
    "classification_model(model,traindf,predictor_var,outcome_var)"
   ]
  },
  {
   "cell_type": "code",
   "execution_count": 14,
   "metadata": {
    "_cell_guid": "36acf35e-296e-68fa-ab18-49967554af07",
    "execution": {
     "iopub.execute_input": "2021-11-27T17:55:56.343960Z",
     "iopub.status.busy": "2021-11-27T17:55:56.343299Z",
     "iopub.status.idle": "2021-11-27T17:55:56.399334Z",
     "shell.execute_reply": "2021-11-27T17:55:56.398625Z",
     "shell.execute_reply.started": "2021-11-27T17:23:40.850873Z"
    },
    "papermill": {
     "duration": 0.096514,
     "end_time": "2021-11-27T17:55:56.399524",
     "exception": false,
     "start_time": "2021-11-27T17:55:56.303010",
     "status": "completed"
    },
    "tags": []
   },
   "outputs": [
    {
     "name": "stdout",
     "output_type": "stream",
     "text": [
      "Accuracy : 100.000%\n",
      "Cross-Validation Score : 87.500%\n",
      "Cross-Validation Score : 84.375%\n",
      "Cross-Validation Score : 86.667%\n",
      "Cross-Validation Score : 88.101%\n",
      "Cross-Validation Score : 87.949%\n"
     ]
    }
   ],
   "source": [
    "predictor_var = ['radius_mean','perimeter_mean','area_mean','compactness_mean','concave points_mean']\n",
    "model = DecisionTreeClassifier()\n",
    "classification_model(model,traindf,predictor_var,outcome_var)"
   ]
  },
  {
   "cell_type": "code",
   "execution_count": 15,
   "metadata": {
    "_cell_guid": "20ef1197-b886-1517-1282-fe6dbeef15a4",
    "execution": {
     "iopub.execute_input": "2021-11-27T17:55:56.468294Z",
     "iopub.status.busy": "2021-11-27T17:55:56.465987Z",
     "iopub.status.idle": "2021-11-27T17:55:56.517249Z",
     "shell.execute_reply": "2021-11-27T17:55:56.518111Z",
     "shell.execute_reply.started": "2021-11-27T17:23:40.913533Z"
    },
    "papermill": {
     "duration": 0.087871,
     "end_time": "2021-11-27T17:55:56.518325",
     "exception": false,
     "start_time": "2021-11-27T17:55:56.430454",
     "status": "completed"
    },
    "tags": []
   },
   "outputs": [
    {
     "name": "stdout",
     "output_type": "stream",
     "text": [
      "Accuracy : 96.231%\n",
      "Cross-Validation Score : 78.750%\n",
      "Cross-Validation Score : 78.750%\n",
      "Cross-Validation Score : 80.833%\n",
      "Cross-Validation Score : 82.460%\n",
      "Cross-Validation Score : 81.918%\n"
     ]
    }
   ],
   "source": [
    "predictor_var = ['radius_mean']\n",
    "model = DecisionTreeClassifier()\n",
    "classification_model(model,traindf,predictor_var,outcome_var)"
   ]
  },
  {
   "cell_type": "code",
   "execution_count": 16,
   "metadata": {
    "_cell_guid": "e6edf958-508b-f46c-74a5-f1d8f421900f",
    "execution": {
     "iopub.execute_input": "2021-11-27T17:55:56.628958Z",
     "iopub.status.busy": "2021-11-27T17:55:56.617571Z",
     "iopub.status.idle": "2021-11-27T17:55:58.315959Z",
     "shell.execute_reply": "2021-11-27T17:55:58.315479Z",
     "shell.execute_reply.started": "2021-11-27T17:23:40.972621Z"
    },
    "papermill": {
     "duration": 1.767562,
     "end_time": "2021-11-27T17:55:58.316097",
     "exception": false,
     "start_time": "2021-11-27T17:55:56.548535",
     "status": "completed"
    },
    "tags": []
   },
   "outputs": [
    {
     "name": "stdout",
     "output_type": "stream",
     "text": [
      "Accuracy : 96.231%\n",
      "Cross-Validation Score : 90.000%\n",
      "Cross-Validation Score : 90.625%\n",
      "Cross-Validation Score : 93.333%\n",
      "Cross-Validation Score : 93.418%\n",
      "Cross-Validation Score : 92.456%\n"
     ]
    }
   ],
   "source": [
    "predictor_var = features_mean\n",
    "model = RandomForestClassifier(n_estimators=100,min_samples_split=25, max_depth=7, max_features=2)\n",
    "classification_model(model, traindf,predictor_var,outcome_var)"
   ]
  },
  {
   "cell_type": "code",
   "execution_count": 17,
   "metadata": {
    "_cell_guid": "cc9f7243-0ad7-5d47-9791-a0be8757ff1c",
    "execution": {
     "iopub.execute_input": "2021-11-27T17:55:58.397109Z",
     "iopub.status.busy": "2021-11-27T17:55:58.396383Z",
     "iopub.status.idle": "2021-11-27T17:55:58.400550Z",
     "shell.execute_reply": "2021-11-27T17:55:58.399657Z",
     "shell.execute_reply.started": "2021-11-27T17:23:43.300610Z"
    },
    "papermill": {
     "duration": 0.051862,
     "end_time": "2021-11-27T17:55:58.400754",
     "exception": false,
     "start_time": "2021-11-27T17:55:58.348892",
     "status": "completed"
    },
    "tags": []
   },
   "outputs": [
    {
     "name": "stdout",
     "output_type": "stream",
     "text": [
      "concave points_mean       0.224099\n",
      "perimeter_mean            0.191347\n",
      "concavity_mean            0.172631\n",
      "area_mean                 0.143012\n",
      "radius_mean               0.104913\n",
      "texture_mean              0.061466\n",
      "compactness_mean          0.051463\n",
      "smoothness_mean           0.021029\n",
      "symmetry_mean             0.016879\n",
      "fractal_dimension_mean    0.013161\n",
      "dtype: float64\n"
     ]
    }
   ],
   "source": [
    "featimp = pd.Series(model.feature_importances_, index=predictor_var).sort_values(ascending=False)\n",
    "print(featimp)"
   ]
  },
  {
   "cell_type": "code",
   "execution_count": 18,
   "metadata": {
    "_cell_guid": "cb067a66-eea5-e2e3-ebc3-b18e832680e1",
    "execution": {
     "iopub.execute_input": "2021-11-27T17:55:58.517049Z",
     "iopub.status.busy": "2021-11-27T17:55:58.511621Z",
     "iopub.status.idle": "2021-11-27T17:56:00.205025Z",
     "shell.execute_reply": "2021-11-27T17:56:00.204295Z",
     "shell.execute_reply.started": "2021-11-27T17:23:43.319204Z"
    },
    "papermill": {
     "duration": 1.770746,
     "end_time": "2021-11-27T17:56:00.205184",
     "exception": false,
     "start_time": "2021-11-27T17:55:58.434438",
     "status": "completed"
    },
    "tags": []
   },
   "outputs": [
    {
     "name": "stdout",
     "output_type": "stream",
     "text": [
      "Accuracy : 95.226%\n",
      "Cross-Validation Score : 91.250%\n",
      "Cross-Validation Score : 91.250%\n",
      "Cross-Validation Score : 92.083%\n",
      "Cross-Validation Score : 92.797%\n",
      "Cross-Validation Score : 91.959%\n"
     ]
    }
   ],
   "source": [
    "predictor_var = ['concave points_mean','area_mean','radius_mean','perimeter_mean','concavity_mean',]\n",
    "model = RandomForestClassifier(n_estimators=100, min_samples_split=25, max_depth=7, max_features=2)\n",
    "classification_model(model,traindf,predictor_var,outcome_var)"
   ]
  },
  {
   "cell_type": "code",
   "execution_count": 19,
   "metadata": {
    "_cell_guid": "3a80b53f-3033-0d57-2d49-9089338b41d6",
    "execution": {
     "iopub.execute_input": "2021-11-27T17:56:00.305601Z",
     "iopub.status.busy": "2021-11-27T17:56:00.300220Z",
     "iopub.status.idle": "2021-11-27T17:56:02.014677Z",
     "shell.execute_reply": "2021-11-27T17:56:02.015554Z",
     "shell.execute_reply.started": "2021-11-27T17:23:45.622867Z"
    },
    "papermill": {
     "duration": 1.77277,
     "end_time": "2021-11-27T17:56:02.015777",
     "exception": false,
     "start_time": "2021-11-27T17:56:00.243007",
     "status": "completed"
    },
    "tags": []
   },
   "outputs": [
    {
     "name": "stdout",
     "output_type": "stream",
     "text": [
      "Accuracy : 96.231%\n",
      "Cross-Validation Score : 78.750%\n",
      "Cross-Validation Score : 78.750%\n",
      "Cross-Validation Score : 80.833%\n",
      "Cross-Validation Score : 82.460%\n",
      "Cross-Validation Score : 81.918%\n"
     ]
    }
   ],
   "source": [
    "predictor_var =  ['radius_mean']\n",
    "model = RandomForestClassifier(n_estimators=100)\n",
    "classification_model(model, traindf,predictor_var,outcome_var)"
   ]
  },
  {
   "cell_type": "code",
   "execution_count": 20,
   "metadata": {
    "_cell_guid": "0666b20a-7359-2cf6-2792-08103d78afca",
    "execution": {
     "iopub.execute_input": "2021-11-27T17:56:02.104181Z",
     "iopub.status.busy": "2021-11-27T17:56:02.103174Z",
     "iopub.status.idle": "2021-11-27T17:56:03.708645Z",
     "shell.execute_reply": "2021-11-27T17:56:03.709122Z",
     "shell.execute_reply.started": "2021-11-27T17:23:47.890119Z"
    },
    "papermill": {
     "duration": 1.646231,
     "end_time": "2021-11-27T17:56:03.709318",
     "exception": false,
     "start_time": "2021-11-27T17:56:02.063087",
     "status": "completed"
    },
    "tags": []
   },
   "outputs": [
    {
     "name": "stdout",
     "output_type": "stream",
     "text": [
      "Accuracy : 95.322%\n",
      "Cross-Validation Score : 97.143%\n",
      "Cross-Validation Score : 95.630%\n",
      "Cross-Validation Score : 94.146%\n",
      "Cross-Validation Score : 93.403%\n",
      "Cross-Validation Score : 92.958%\n"
     ]
    }
   ],
   "source": [
    "predictor_var = features_mean\n",
    "model = RandomForestClassifier(n_estimators=100,min_samples_split=25, max_depth=7, max_features=2)\n",
    "classification_model(model, testdf,predictor_var,outcome_var)"
   ]
  },
  {
   "cell_type": "code",
   "execution_count": 21,
   "metadata": {
    "execution": {
     "iopub.execute_input": "2021-11-27T17:56:03.786273Z",
     "iopub.status.busy": "2021-11-27T17:56:03.785484Z",
     "iopub.status.idle": "2021-11-27T17:56:03.794520Z",
     "shell.execute_reply": "2021-11-27T17:56:03.794966Z",
     "shell.execute_reply.started": "2021-11-27T17:23:50.037015Z"
    },
    "papermill": {
     "duration": 0.048456,
     "end_time": "2021-11-27T17:56:03.795161",
     "exception": false,
     "start_time": "2021-11-27T17:56:03.746705",
     "status": "completed"
    },
    "tags": []
   },
   "outputs": [],
   "source": [
    "target_name = 'diagnosis'\n",
    "X = df.drop('diagnosis', axis=1)\n",
    "y=df[target_name]\n",
    "X_train, X_test, y_train, y_test = train_test_split(X,y,test_size=0.3, random_state=1073, stratify=y)"
   ]
  },
  {
   "cell_type": "code",
   "execution_count": 22,
   "metadata": {
    "execution": {
     "iopub.execute_input": "2021-11-27T17:56:03.878964Z",
     "iopub.status.busy": "2021-11-27T17:56:03.877811Z",
     "iopub.status.idle": "2021-11-27T17:56:04.572042Z",
     "shell.execute_reply": "2021-11-27T17:56:04.572949Z",
     "shell.execute_reply.started": "2021-11-27T17:26:06.100020Z"
    },
    "papermill": {
     "duration": 0.73745,
     "end_time": "2021-11-27T17:56:04.573276",
     "exception": false,
     "start_time": "2021-11-27T17:56:03.835826",
     "status": "completed"
    },
    "tags": []
   },
   "outputs": [
    {
     "name": "stderr",
     "output_type": "stream",
     "text": [
      "/opt/conda/lib/python3.7/site-packages/sklearn/model_selection/_validation.py:552: FitFailedWarning: Estimator fit failed. The score on this train-test partition for these parameters will be set to nan. Details: \n",
      "Traceback (most recent call last):\n",
      "  File \"/opt/conda/lib/python3.7/site-packages/sklearn/model_selection/_validation.py\", line 531, in _fit_and_score\n",
      "    estimator.fit(X_train, y_train, **fit_params)\n",
      "  File \"/opt/conda/lib/python3.7/site-packages/sklearn/linear_model/_logistic.py\", line 1417, in fit\n",
      "    for class_, warm_start_coef_ in zip(classes_, warm_start_coef))\n",
      "  File \"/opt/conda/lib/python3.7/site-packages/joblib/parallel.py\", line 1041, in __call__\n",
      "    if self.dispatch_one_batch(iterator):\n",
      "  File \"/opt/conda/lib/python3.7/site-packages/joblib/parallel.py\", line 859, in dispatch_one_batch\n",
      "    self._dispatch(tasks)\n",
      "  File \"/opt/conda/lib/python3.7/site-packages/joblib/parallel.py\", line 777, in _dispatch\n",
      "    job = self._backend.apply_async(batch, callback=cb)\n",
      "  File \"/opt/conda/lib/python3.7/site-packages/joblib/_parallel_backends.py\", line 208, in apply_async\n",
      "    result = ImmediateResult(func)\n",
      "  File \"/opt/conda/lib/python3.7/site-packages/joblib/_parallel_backends.py\", line 572, in __init__\n",
      "    self.results = batch()\n",
      "  File \"/opt/conda/lib/python3.7/site-packages/joblib/parallel.py\", line 263, in __call__\n",
      "    for func, args, kwargs in self.items]\n",
      "  File \"/opt/conda/lib/python3.7/site-packages/joblib/parallel.py\", line 263, in <listcomp>\n",
      "    for func, args, kwargs in self.items]\n",
      "  File \"/opt/conda/lib/python3.7/site-packages/sklearn/linear_model/_logistic.py\", line 764, in _logistic_regression_path\n",
      "    extra_warning_msg=_LOGISTIC_SOLVER_CONVERGENCE_MSG)\n",
      "  File \"/opt/conda/lib/python3.7/site-packages/sklearn/utils/optimize.py\", line 243, in _check_optimize_result\n",
      "    ).format(solver, result.status, result.message.decode(\"latin1\"))\n",
      "AttributeError: 'str' object has no attribute 'decode'\n",
      "\n",
      "  FitFailedWarning)\n",
      "/opt/conda/lib/python3.7/site-packages/sklearn/model_selection/_validation.py:552: FitFailedWarning: Estimator fit failed. The score on this train-test partition for these parameters will be set to nan. Details: \n",
      "Traceback (most recent call last):\n",
      "  File \"/opt/conda/lib/python3.7/site-packages/sklearn/model_selection/_validation.py\", line 531, in _fit_and_score\n",
      "    estimator.fit(X_train, y_train, **fit_params)\n",
      "  File \"/opt/conda/lib/python3.7/site-packages/sklearn/linear_model/_logistic.py\", line 1417, in fit\n",
      "    for class_, warm_start_coef_ in zip(classes_, warm_start_coef))\n",
      "  File \"/opt/conda/lib/python3.7/site-packages/joblib/parallel.py\", line 1041, in __call__\n",
      "    if self.dispatch_one_batch(iterator):\n",
      "  File \"/opt/conda/lib/python3.7/site-packages/joblib/parallel.py\", line 859, in dispatch_one_batch\n",
      "    self._dispatch(tasks)\n",
      "  File \"/opt/conda/lib/python3.7/site-packages/joblib/parallel.py\", line 777, in _dispatch\n",
      "    job = self._backend.apply_async(batch, callback=cb)\n",
      "  File \"/opt/conda/lib/python3.7/site-packages/joblib/_parallel_backends.py\", line 208, in apply_async\n",
      "    result = ImmediateResult(func)\n",
      "  File \"/opt/conda/lib/python3.7/site-packages/joblib/_parallel_backends.py\", line 572, in __init__\n",
      "    self.results = batch()\n",
      "  File \"/opt/conda/lib/python3.7/site-packages/joblib/parallel.py\", line 263, in __call__\n",
      "    for func, args, kwargs in self.items]\n",
      "  File \"/opt/conda/lib/python3.7/site-packages/joblib/parallel.py\", line 263, in <listcomp>\n",
      "    for func, args, kwargs in self.items]\n",
      "  File \"/opt/conda/lib/python3.7/site-packages/sklearn/linear_model/_logistic.py\", line 764, in _logistic_regression_path\n",
      "    extra_warning_msg=_LOGISTIC_SOLVER_CONVERGENCE_MSG)\n",
      "  File \"/opt/conda/lib/python3.7/site-packages/sklearn/utils/optimize.py\", line 243, in _check_optimize_result\n",
      "    ).format(solver, result.status, result.message.decode(\"latin1\"))\n",
      "AttributeError: 'str' object has no attribute 'decode'\n",
      "\n",
      "  FitFailedWarning)\n",
      "/opt/conda/lib/python3.7/site-packages/sklearn/model_selection/_validation.py:552: FitFailedWarning: Estimator fit failed. The score on this train-test partition for these parameters will be set to nan. Details: \n",
      "Traceback (most recent call last):\n",
      "  File \"/opt/conda/lib/python3.7/site-packages/sklearn/model_selection/_validation.py\", line 531, in _fit_and_score\n",
      "    estimator.fit(X_train, y_train, **fit_params)\n",
      "  File \"/opt/conda/lib/python3.7/site-packages/sklearn/linear_model/_logistic.py\", line 1417, in fit\n",
      "    for class_, warm_start_coef_ in zip(classes_, warm_start_coef))\n",
      "  File \"/opt/conda/lib/python3.7/site-packages/joblib/parallel.py\", line 1041, in __call__\n",
      "    if self.dispatch_one_batch(iterator):\n",
      "  File \"/opt/conda/lib/python3.7/site-packages/joblib/parallel.py\", line 859, in dispatch_one_batch\n",
      "    self._dispatch(tasks)\n",
      "  File \"/opt/conda/lib/python3.7/site-packages/joblib/parallel.py\", line 777, in _dispatch\n",
      "    job = self._backend.apply_async(batch, callback=cb)\n",
      "  File \"/opt/conda/lib/python3.7/site-packages/joblib/_parallel_backends.py\", line 208, in apply_async\n",
      "    result = ImmediateResult(func)\n",
      "  File \"/opt/conda/lib/python3.7/site-packages/joblib/_parallel_backends.py\", line 572, in __init__\n",
      "    self.results = batch()\n",
      "  File \"/opt/conda/lib/python3.7/site-packages/joblib/parallel.py\", line 263, in __call__\n",
      "    for func, args, kwargs in self.items]\n",
      "  File \"/opt/conda/lib/python3.7/site-packages/joblib/parallel.py\", line 263, in <listcomp>\n",
      "    for func, args, kwargs in self.items]\n",
      "  File \"/opt/conda/lib/python3.7/site-packages/sklearn/linear_model/_logistic.py\", line 764, in _logistic_regression_path\n",
      "    extra_warning_msg=_LOGISTIC_SOLVER_CONVERGENCE_MSG)\n",
      "  File \"/opt/conda/lib/python3.7/site-packages/sklearn/utils/optimize.py\", line 243, in _check_optimize_result\n",
      "    ).format(solver, result.status, result.message.decode(\"latin1\"))\n",
      "AttributeError: 'str' object has no attribute 'decode'\n",
      "\n",
      "  FitFailedWarning)\n",
      "/opt/conda/lib/python3.7/site-packages/sklearn/model_selection/_validation.py:552: FitFailedWarning: Estimator fit failed. The score on this train-test partition for these parameters will be set to nan. Details: \n",
      "Traceback (most recent call last):\n",
      "  File \"/opt/conda/lib/python3.7/site-packages/sklearn/model_selection/_validation.py\", line 531, in _fit_and_score\n",
      "    estimator.fit(X_train, y_train, **fit_params)\n",
      "  File \"/opt/conda/lib/python3.7/site-packages/sklearn/linear_model/_logistic.py\", line 1417, in fit\n",
      "    for class_, warm_start_coef_ in zip(classes_, warm_start_coef))\n",
      "  File \"/opt/conda/lib/python3.7/site-packages/joblib/parallel.py\", line 1041, in __call__\n",
      "    if self.dispatch_one_batch(iterator):\n",
      "  File \"/opt/conda/lib/python3.7/site-packages/joblib/parallel.py\", line 859, in dispatch_one_batch\n",
      "    self._dispatch(tasks)\n",
      "  File \"/opt/conda/lib/python3.7/site-packages/joblib/parallel.py\", line 777, in _dispatch\n",
      "    job = self._backend.apply_async(batch, callback=cb)\n",
      "  File \"/opt/conda/lib/python3.7/site-packages/joblib/_parallel_backends.py\", line 208, in apply_async\n",
      "    result = ImmediateResult(func)\n",
      "  File \"/opt/conda/lib/python3.7/site-packages/joblib/_parallel_backends.py\", line 572, in __init__\n",
      "    self.results = batch()\n",
      "  File \"/opt/conda/lib/python3.7/site-packages/joblib/parallel.py\", line 263, in __call__\n",
      "    for func, args, kwargs in self.items]\n",
      "  File \"/opt/conda/lib/python3.7/site-packages/joblib/parallel.py\", line 263, in <listcomp>\n",
      "    for func, args, kwargs in self.items]\n",
      "  File \"/opt/conda/lib/python3.7/site-packages/sklearn/linear_model/_logistic.py\", line 764, in _logistic_regression_path\n",
      "    extra_warning_msg=_LOGISTIC_SOLVER_CONVERGENCE_MSG)\n",
      "  File \"/opt/conda/lib/python3.7/site-packages/sklearn/utils/optimize.py\", line 243, in _check_optimize_result\n",
      "    ).format(solver, result.status, result.message.decode(\"latin1\"))\n",
      "AttributeError: 'str' object has no attribute 'decode'\n",
      "\n",
      "  FitFailedWarning)\n",
      "/opt/conda/lib/python3.7/site-packages/sklearn/model_selection/_validation.py:552: FitFailedWarning: Estimator fit failed. The score on this train-test partition for these parameters will be set to nan. Details: \n",
      "Traceback (most recent call last):\n",
      "  File \"/opt/conda/lib/python3.7/site-packages/sklearn/model_selection/_validation.py\", line 531, in _fit_and_score\n",
      "    estimator.fit(X_train, y_train, **fit_params)\n",
      "  File \"/opt/conda/lib/python3.7/site-packages/sklearn/linear_model/_logistic.py\", line 1417, in fit\n",
      "    for class_, warm_start_coef_ in zip(classes_, warm_start_coef))\n",
      "  File \"/opt/conda/lib/python3.7/site-packages/joblib/parallel.py\", line 1041, in __call__\n",
      "    if self.dispatch_one_batch(iterator):\n",
      "  File \"/opt/conda/lib/python3.7/site-packages/joblib/parallel.py\", line 859, in dispatch_one_batch\n",
      "    self._dispatch(tasks)\n",
      "  File \"/opt/conda/lib/python3.7/site-packages/joblib/parallel.py\", line 777, in _dispatch\n",
      "    job = self._backend.apply_async(batch, callback=cb)\n",
      "  File \"/opt/conda/lib/python3.7/site-packages/joblib/_parallel_backends.py\", line 208, in apply_async\n",
      "    result = ImmediateResult(func)\n",
      "  File \"/opt/conda/lib/python3.7/site-packages/joblib/_parallel_backends.py\", line 572, in __init__\n",
      "    self.results = batch()\n",
      "  File \"/opt/conda/lib/python3.7/site-packages/joblib/parallel.py\", line 263, in __call__\n",
      "    for func, args, kwargs in self.items]\n",
      "  File \"/opt/conda/lib/python3.7/site-packages/joblib/parallel.py\", line 263, in <listcomp>\n",
      "    for func, args, kwargs in self.items]\n",
      "  File \"/opt/conda/lib/python3.7/site-packages/sklearn/linear_model/_logistic.py\", line 764, in _logistic_regression_path\n",
      "    extra_warning_msg=_LOGISTIC_SOLVER_CONVERGENCE_MSG)\n",
      "  File \"/opt/conda/lib/python3.7/site-packages/sklearn/utils/optimize.py\", line 243, in _check_optimize_result\n",
      "    ).format(solver, result.status, result.message.decode(\"latin1\"))\n",
      "AttributeError: 'str' object has no attribute 'decode'\n",
      "\n",
      "  FitFailedWarning)\n",
      "/opt/conda/lib/python3.7/site-packages/sklearn/model_selection/_validation.py:552: FitFailedWarning: Estimator fit failed. The score on this train-test partition for these parameters will be set to nan. Details: \n",
      "Traceback (most recent call last):\n",
      "  File \"/opt/conda/lib/python3.7/site-packages/sklearn/model_selection/_validation.py\", line 531, in _fit_and_score\n",
      "    estimator.fit(X_train, y_train, **fit_params)\n",
      "  File \"/opt/conda/lib/python3.7/site-packages/sklearn/linear_model/_logistic.py\", line 1417, in fit\n",
      "    for class_, warm_start_coef_ in zip(classes_, warm_start_coef))\n",
      "  File \"/opt/conda/lib/python3.7/site-packages/joblib/parallel.py\", line 1041, in __call__\n",
      "    if self.dispatch_one_batch(iterator):\n",
      "  File \"/opt/conda/lib/python3.7/site-packages/joblib/parallel.py\", line 859, in dispatch_one_batch\n",
      "    self._dispatch(tasks)\n",
      "  File \"/opt/conda/lib/python3.7/site-packages/joblib/parallel.py\", line 777, in _dispatch\n",
      "    job = self._backend.apply_async(batch, callback=cb)\n",
      "  File \"/opt/conda/lib/python3.7/site-packages/joblib/_parallel_backends.py\", line 208, in apply_async\n",
      "    result = ImmediateResult(func)\n",
      "  File \"/opt/conda/lib/python3.7/site-packages/joblib/_parallel_backends.py\", line 572, in __init__\n",
      "    self.results = batch()\n",
      "  File \"/opt/conda/lib/python3.7/site-packages/joblib/parallel.py\", line 263, in __call__\n",
      "    for func, args, kwargs in self.items]\n",
      "  File \"/opt/conda/lib/python3.7/site-packages/joblib/parallel.py\", line 263, in <listcomp>\n",
      "    for func, args, kwargs in self.items]\n",
      "  File \"/opt/conda/lib/python3.7/site-packages/sklearn/linear_model/_logistic.py\", line 764, in _logistic_regression_path\n",
      "    extra_warning_msg=_LOGISTIC_SOLVER_CONVERGENCE_MSG)\n",
      "  File \"/opt/conda/lib/python3.7/site-packages/sklearn/utils/optimize.py\", line 243, in _check_optimize_result\n",
      "    ).format(solver, result.status, result.message.decode(\"latin1\"))\n",
      "AttributeError: 'str' object has no attribute 'decode'\n",
      "\n",
      "  FitFailedWarning)\n",
      "/opt/conda/lib/python3.7/site-packages/sklearn/model_selection/_validation.py:552: FitFailedWarning: Estimator fit failed. The score on this train-test partition for these parameters will be set to nan. Details: \n",
      "Traceback (most recent call last):\n",
      "  File \"/opt/conda/lib/python3.7/site-packages/sklearn/model_selection/_validation.py\", line 531, in _fit_and_score\n",
      "    estimator.fit(X_train, y_train, **fit_params)\n",
      "  File \"/opt/conda/lib/python3.7/site-packages/sklearn/linear_model/_logistic.py\", line 1417, in fit\n",
      "    for class_, warm_start_coef_ in zip(classes_, warm_start_coef))\n",
      "  File \"/opt/conda/lib/python3.7/site-packages/joblib/parallel.py\", line 1041, in __call__\n",
      "    if self.dispatch_one_batch(iterator):\n",
      "  File \"/opt/conda/lib/python3.7/site-packages/joblib/parallel.py\", line 859, in dispatch_one_batch\n",
      "    self._dispatch(tasks)\n",
      "  File \"/opt/conda/lib/python3.7/site-packages/joblib/parallel.py\", line 777, in _dispatch\n",
      "    job = self._backend.apply_async(batch, callback=cb)\n",
      "  File \"/opt/conda/lib/python3.7/site-packages/joblib/_parallel_backends.py\", line 208, in apply_async\n",
      "    result = ImmediateResult(func)\n",
      "  File \"/opt/conda/lib/python3.7/site-packages/joblib/_parallel_backends.py\", line 572, in __init__\n",
      "    self.results = batch()\n",
      "  File \"/opt/conda/lib/python3.7/site-packages/joblib/parallel.py\", line 263, in __call__\n",
      "    for func, args, kwargs in self.items]\n",
      "  File \"/opt/conda/lib/python3.7/site-packages/joblib/parallel.py\", line 263, in <listcomp>\n",
      "    for func, args, kwargs in self.items]\n",
      "  File \"/opt/conda/lib/python3.7/site-packages/sklearn/linear_model/_logistic.py\", line 764, in _logistic_regression_path\n",
      "    extra_warning_msg=_LOGISTIC_SOLVER_CONVERGENCE_MSG)\n",
      "  File \"/opt/conda/lib/python3.7/site-packages/sklearn/utils/optimize.py\", line 243, in _check_optimize_result\n",
      "    ).format(solver, result.status, result.message.decode(\"latin1\"))\n",
      "AttributeError: 'str' object has no attribute 'decode'\n",
      "\n",
      "  FitFailedWarning)\n",
      "/opt/conda/lib/python3.7/site-packages/sklearn/model_selection/_validation.py:552: FitFailedWarning: Estimator fit failed. The score on this train-test partition for these parameters will be set to nan. Details: \n",
      "Traceback (most recent call last):\n",
      "  File \"/opt/conda/lib/python3.7/site-packages/sklearn/model_selection/_validation.py\", line 531, in _fit_and_score\n",
      "    estimator.fit(X_train, y_train, **fit_params)\n",
      "  File \"/opt/conda/lib/python3.7/site-packages/sklearn/linear_model/_logistic.py\", line 1417, in fit\n",
      "    for class_, warm_start_coef_ in zip(classes_, warm_start_coef))\n",
      "  File \"/opt/conda/lib/python3.7/site-packages/joblib/parallel.py\", line 1041, in __call__\n",
      "    if self.dispatch_one_batch(iterator):\n",
      "  File \"/opt/conda/lib/python3.7/site-packages/joblib/parallel.py\", line 859, in dispatch_one_batch\n",
      "    self._dispatch(tasks)\n",
      "  File \"/opt/conda/lib/python3.7/site-packages/joblib/parallel.py\", line 777, in _dispatch\n",
      "    job = self._backend.apply_async(batch, callback=cb)\n",
      "  File \"/opt/conda/lib/python3.7/site-packages/joblib/_parallel_backends.py\", line 208, in apply_async\n",
      "    result = ImmediateResult(func)\n",
      "  File \"/opt/conda/lib/python3.7/site-packages/joblib/_parallel_backends.py\", line 572, in __init__\n",
      "    self.results = batch()\n",
      "  File \"/opt/conda/lib/python3.7/site-packages/joblib/parallel.py\", line 263, in __call__\n",
      "    for func, args, kwargs in self.items]\n",
      "  File \"/opt/conda/lib/python3.7/site-packages/joblib/parallel.py\", line 263, in <listcomp>\n",
      "    for func, args, kwargs in self.items]\n",
      "  File \"/opt/conda/lib/python3.7/site-packages/sklearn/linear_model/_logistic.py\", line 764, in _logistic_regression_path\n",
      "    extra_warning_msg=_LOGISTIC_SOLVER_CONVERGENCE_MSG)\n",
      "  File \"/opt/conda/lib/python3.7/site-packages/sklearn/utils/optimize.py\", line 243, in _check_optimize_result\n",
      "    ).format(solver, result.status, result.message.decode(\"latin1\"))\n",
      "AttributeError: 'str' object has no attribute 'decode'\n",
      "\n",
      "  FitFailedWarning)\n"
     ]
    },
    {
     "name": "stdout",
     "output_type": "stream",
     "text": [
      "AUC: nan (nan)\n"
     ]
    },
    {
     "name": "stderr",
     "output_type": "stream",
     "text": [
      "/opt/conda/lib/python3.7/site-packages/sklearn/model_selection/_validation.py:552: FitFailedWarning: Estimator fit failed. The score on this train-test partition for these parameters will be set to nan. Details: \n",
      "Traceback (most recent call last):\n",
      "  File \"/opt/conda/lib/python3.7/site-packages/sklearn/model_selection/_validation.py\", line 531, in _fit_and_score\n",
      "    estimator.fit(X_train, y_train, **fit_params)\n",
      "  File \"/opt/conda/lib/python3.7/site-packages/sklearn/linear_model/_logistic.py\", line 1417, in fit\n",
      "    for class_, warm_start_coef_ in zip(classes_, warm_start_coef))\n",
      "  File \"/opt/conda/lib/python3.7/site-packages/joblib/parallel.py\", line 1041, in __call__\n",
      "    if self.dispatch_one_batch(iterator):\n",
      "  File \"/opt/conda/lib/python3.7/site-packages/joblib/parallel.py\", line 859, in dispatch_one_batch\n",
      "    self._dispatch(tasks)\n",
      "  File \"/opt/conda/lib/python3.7/site-packages/joblib/parallel.py\", line 777, in _dispatch\n",
      "    job = self._backend.apply_async(batch, callback=cb)\n",
      "  File \"/opt/conda/lib/python3.7/site-packages/joblib/_parallel_backends.py\", line 208, in apply_async\n",
      "    result = ImmediateResult(func)\n",
      "  File \"/opt/conda/lib/python3.7/site-packages/joblib/_parallel_backends.py\", line 572, in __init__\n",
      "    self.results = batch()\n",
      "  File \"/opt/conda/lib/python3.7/site-packages/joblib/parallel.py\", line 263, in __call__\n",
      "    for func, args, kwargs in self.items]\n",
      "  File \"/opt/conda/lib/python3.7/site-packages/joblib/parallel.py\", line 263, in <listcomp>\n",
      "    for func, args, kwargs in self.items]\n",
      "  File \"/opt/conda/lib/python3.7/site-packages/sklearn/linear_model/_logistic.py\", line 764, in _logistic_regression_path\n",
      "    extra_warning_msg=_LOGISTIC_SOLVER_CONVERGENCE_MSG)\n",
      "  File \"/opt/conda/lib/python3.7/site-packages/sklearn/utils/optimize.py\", line 243, in _check_optimize_result\n",
      "    ).format(solver, result.status, result.message.decode(\"latin1\"))\n",
      "AttributeError: 'str' object has no attribute 'decode'\n",
      "\n",
      "  FitFailedWarning)\n",
      "/opt/conda/lib/python3.7/site-packages/sklearn/model_selection/_validation.py:552: FitFailedWarning: Estimator fit failed. The score on this train-test partition for these parameters will be set to nan. Details: \n",
      "Traceback (most recent call last):\n",
      "  File \"/opt/conda/lib/python3.7/site-packages/sklearn/model_selection/_validation.py\", line 531, in _fit_and_score\n",
      "    estimator.fit(X_train, y_train, **fit_params)\n",
      "  File \"/opt/conda/lib/python3.7/site-packages/sklearn/linear_model/_logistic.py\", line 1417, in fit\n",
      "    for class_, warm_start_coef_ in zip(classes_, warm_start_coef))\n",
      "  File \"/opt/conda/lib/python3.7/site-packages/joblib/parallel.py\", line 1041, in __call__\n",
      "    if self.dispatch_one_batch(iterator):\n",
      "  File \"/opt/conda/lib/python3.7/site-packages/joblib/parallel.py\", line 859, in dispatch_one_batch\n",
      "    self._dispatch(tasks)\n",
      "  File \"/opt/conda/lib/python3.7/site-packages/joblib/parallel.py\", line 777, in _dispatch\n",
      "    job = self._backend.apply_async(batch, callback=cb)\n",
      "  File \"/opt/conda/lib/python3.7/site-packages/joblib/_parallel_backends.py\", line 208, in apply_async\n",
      "    result = ImmediateResult(func)\n",
      "  File \"/opt/conda/lib/python3.7/site-packages/joblib/_parallel_backends.py\", line 572, in __init__\n",
      "    self.results = batch()\n",
      "  File \"/opt/conda/lib/python3.7/site-packages/joblib/parallel.py\", line 263, in __call__\n",
      "    for func, args, kwargs in self.items]\n",
      "  File \"/opt/conda/lib/python3.7/site-packages/joblib/parallel.py\", line 263, in <listcomp>\n",
      "    for func, args, kwargs in self.items]\n",
      "  File \"/opt/conda/lib/python3.7/site-packages/sklearn/linear_model/_logistic.py\", line 764, in _logistic_regression_path\n",
      "    extra_warning_msg=_LOGISTIC_SOLVER_CONVERGENCE_MSG)\n",
      "  File \"/opt/conda/lib/python3.7/site-packages/sklearn/utils/optimize.py\", line 243, in _check_optimize_result\n",
      "    ).format(solver, result.status, result.message.decode(\"latin1\"))\n",
      "AttributeError: 'str' object has no attribute 'decode'\n",
      "\n",
      "  FitFailedWarning)\n"
     ]
    }
   ],
   "source": [
    "from sklearn import model_selection\n",
    "from sklearn.linear_model import LogisticRegression\n",
    "kfold = model_selection.KFold(n_splits=10, random_state=7, shuffle=True)\n",
    "modelCV = LogisticRegression(class_weight = \"balanced\",max_iter=100)\n",
    "scoring = 'roc_auc'\n",
    "results = model_selection.cross_val_score(modelCV, X_train, y_train, cv=kfold, scoring=scoring)\n",
    "print(\"AUC: %.3f (%.3f)\" % (results.mean(), results.std()))"
   ]
  },
  {
   "cell_type": "code",
   "execution_count": 23,
   "metadata": {
    "execution": {
     "iopub.execute_input": "2021-11-27T17:56:04.710580Z",
     "iopub.status.busy": "2021-11-27T17:56:04.709890Z",
     "iopub.status.idle": "2021-11-27T17:56:06.755768Z",
     "shell.execute_reply": "2021-11-27T17:56:06.756343Z",
     "shell.execute_reply.started": "2021-11-27T17:23:50.705051Z"
    },
    "papermill": {
     "duration": 2.10787,
     "end_time": "2021-11-27T17:56:06.756507",
     "exception": false,
     "start_time": "2021-11-27T17:56:04.648637",
     "status": "completed"
    },
    "tags": []
   },
   "outputs": [
    {
     "name": "stdout",
     "output_type": "stream",
     "text": [
      "\n",
      "\n",
      " ---Random Forest Model---\n",
      "Random Forest AUC = 0.96\n",
      "              precision    recall  f1-score   support\n",
      "\n",
      "           0       0.97      0.97      0.97       107\n",
      "           1       0.95      0.95      0.95        64\n",
      "\n",
      "    accuracy                           0.96       171\n",
      "   macro avg       0.96      0.96      0.96       171\n",
      "weighted avg       0.96      0.96      0.96       171\n",
      "\n"
     ]
    }
   ],
   "source": [
    "from sklearn.metrics import roc_auc_score\n",
    "from sklearn.metrics import classification_report\n",
    "from sklearn.ensemble import RandomForestClassifier\n",
    "\n",
    "from sklearn import tree\n",
    "from sklearn.tree import DecisionTreeClassifier\n",
    "from sklearn.linear_model import LogisticRegression\n",
    "from sklearn.ensemble import ExtraTreesClassifier\n",
    "from sklearn.ensemble import BaggingClassifier\n",
    "from sklearn.ensemble import AdaBoostClassifier\n",
    "from sklearn.ensemble import GradientBoostingClassifier\n",
    "from sklearn.ensemble import VotingClassifier\n",
    "rf = RandomForestClassifier(\n",
    "    n_estimators=1000, \n",
    "    max_depth=None, \n",
    "    min_samples_split=10, \n",
    "    class_weight=\"balanced\" \n",
    "    )\n",
    "rf.fit(X_train, y_train)\n",
    "print (\"\\n\\n ---Random Forest Model---\")\n",
    "rf_roc_auc = roc_auc_score(y_test, rf.predict(X_test))\n",
    "print (\"Random Forest AUC = %2.2f\" % rf_roc_auc)\n",
    "print(classification_report(y_test, rf.predict(X_test)))\n"
   ]
  },
  {
   "cell_type": "code",
   "execution_count": 24,
   "metadata": {
    "execution": {
     "iopub.execute_input": "2021-11-27T17:56:06.890502Z",
     "iopub.status.busy": "2021-11-27T17:56:06.889553Z",
     "iopub.status.idle": "2021-11-27T17:56:06.892991Z",
     "shell.execute_reply": "2021-11-27T17:56:06.893537Z",
     "shell.execute_reply.started": "2021-11-27T17:23:53.318819Z"
    },
    "papermill": {
     "duration": 0.100934,
     "end_time": "2021-11-27T17:56:06.893705",
     "exception": false,
     "start_time": "2021-11-27T17:56:06.792771",
     "status": "completed"
    },
    "tags": []
   },
   "outputs": [],
   "source": [
    "def base_rate_model(X) :\n",
    "    y = np.zeros(X.shape[0])\n",
    "    return y"
   ]
  },
  {
   "cell_type": "code",
   "execution_count": 25,
   "metadata": {
    "execution": {
     "iopub.execute_input": "2021-11-27T17:56:06.972539Z",
     "iopub.status.busy": "2021-11-27T17:56:06.971921Z",
     "iopub.status.idle": "2021-11-27T17:56:06.976957Z",
     "shell.execute_reply": "2021-11-27T17:56:06.977454Z",
     "shell.execute_reply.started": "2021-11-27T17:23:53.325983Z"
    },
    "papermill": {
     "duration": 0.045709,
     "end_time": "2021-11-27T17:56:06.977617",
     "exception": false,
     "start_time": "2021-11-27T17:56:06.931908",
     "status": "completed"
    },
    "tags": []
   },
   "outputs": [
    {
     "name": "stdout",
     "output_type": "stream",
     "text": [
      "Base rate accuracy is 0.63\n"
     ]
    }
   ],
   "source": [
    "y_base_rate = base_rate_model(X_test)\n",
    "from sklearn.metrics import accuracy_score\n",
    "print (\"Base rate accuracy is %2.2f\" % accuracy_score(y_test, y_base_rate))"
   ]
  },
  {
   "cell_type": "code",
   "execution_count": 26,
   "metadata": {
    "execution": {
     "iopub.execute_input": "2021-11-27T17:56:07.062589Z",
     "iopub.status.busy": "2021-11-27T17:56:07.061921Z",
     "iopub.status.idle": "2021-11-27T17:56:10.335680Z",
     "shell.execute_reply": "2021-11-27T17:56:10.334680Z",
     "shell.execute_reply.started": "2021-11-27T17:23:53.344229Z"
    },
    "papermill": {
     "duration": 3.320884,
     "end_time": "2021-11-27T17:56:10.335910",
     "exception": false,
     "start_time": "2021-11-27T17:56:07.015026",
     "status": "completed"
    },
    "tags": []
   },
   "outputs": [
    {
     "name": "stdout",
     "output_type": "stream",
     "text": [
      "---Base Model---\n",
      "Base Rate AUC = 0.50\n",
      "              precision    recall  f1-score   support\n",
      "\n",
      "           0       0.63      1.00      0.77       107\n",
      "           1       0.00      0.00      0.00        64\n",
      "\n",
      "    accuracy                           0.63       171\n",
      "   macro avg       0.31      0.50      0.38       171\n",
      "weighted avg       0.39      0.63      0.48       171\n",
      "\n",
      "\n",
      "\n",
      " ---Decision Tree Model---\n",
      "Decision Tree AUC = 0.96\n",
      "              precision    recall  f1-score   support\n",
      "\n",
      "           0       0.97      0.96      0.97       107\n",
      "           1       0.94      0.95      0.95        64\n",
      "\n",
      "    accuracy                           0.96       171\n",
      "   macro avg       0.96      0.96      0.96       171\n",
      "weighted avg       0.96      0.96      0.96       171\n",
      "\n"
     ]
    },
    {
     "name": "stderr",
     "output_type": "stream",
     "text": [
      "/opt/conda/lib/python3.7/site-packages/sklearn/metrics/_classification.py:1221: UndefinedMetricWarning: Precision and F-score are ill-defined and being set to 0.0 in labels with no predicted samples. Use `zero_division` parameter to control this behavior.\n",
      "  _warn_prf(average, modifier, msg_start, len(result))\n"
     ]
    },
    {
     "name": "stdout",
     "output_type": "stream",
     "text": [
      "\n",
      "\n",
      " ---Random Forest Model---\n",
      "Random Forest AUC = 0.96\n",
      "              precision    recall  f1-score   support\n",
      "\n",
      "           0       0.97      0.97      0.97       107\n",
      "           1       0.95      0.95      0.95        64\n",
      "\n",
      "    accuracy                           0.96       171\n",
      "   macro avg       0.96      0.96      0.96       171\n",
      "weighted avg       0.96      0.96      0.96       171\n",
      "\n",
      "\n",
      "\n",
      " ---AdaBoost Model---\n",
      "AdaBoost AUC = 0.95\n",
      "              precision    recall  f1-score   support\n",
      "\n",
      "           0       0.96      0.97      0.97       107\n",
      "           1       0.95      0.94      0.94        64\n",
      "\n",
      "    accuracy                           0.96       171\n",
      "   macro avg       0.96      0.95      0.96       171\n",
      "weighted avg       0.96      0.96      0.96       171\n",
      "\n"
     ]
    }
   ],
   "source": [
    "print (\"---Base Model---\")\n",
    "base_roc_auc = roc_auc_score(y_test, base_rate_model(X_test))\n",
    "print (\"Base Rate AUC = %2.2f\" % base_roc_auc)\n",
    "print(classification_report(y_test, base_rate_model(X_test)))\n",
    "\n",
    "#Decision Tree Model\n",
    "dtree = tree.DecisionTreeClassifier(\n",
    "    #max_depth=3,\n",
    "    class_weight=\"balanced\",\n",
    "    min_weight_fraction_leaf=0.01\n",
    "    )\n",
    "dtree = dtree.fit(X_train,y_train)\n",
    "print (\"\\n\\n ---Decision Tree Model---\")\n",
    "dt_roc_auc = roc_auc_score(y_test, dtree.predict(X_test))\n",
    "print (\"Decision Tree AUC = %2.2f\" % dt_roc_auc)\n",
    "print(classification_report(y_test, dtree.predict(X_test)))\n",
    "\n",
    "#Random Forest Model\n",
    "rf = RandomForestClassifier(\n",
    "    n_estimators=1000, \n",
    "    max_depth=None, \n",
    "    min_samples_split=10, \n",
    "    class_weight=\"balanced\"\n",
    "    #min_weight_fraction_leaf=0.02 \n",
    "    )\n",
    "rf.fit(X_train, y_train)\n",
    "print (\"\\n\\n ---Random Forest Model---\")\n",
    "rf_roc_auc = roc_auc_score(y_test, rf.predict(X_test))\n",
    "print (\"Random Forest AUC = %2.2f\" % rf_roc_auc)\n",
    "print(classification_report(y_test, rf.predict(X_test)))\n",
    "\n",
    "\n",
    "# Ada Boost\n",
    "ada = AdaBoostClassifier(n_estimators=400, learning_rate=0.1)\n",
    "ada.fit(X_train,y_train)\n",
    "print (\"\\n\\n ---AdaBoost Model---\")\n",
    "ada_roc_auc = roc_auc_score(y_test, ada.predict(X_test))\n",
    "print (\"AdaBoost AUC = %2.2f\" % ada_roc_auc)\n",
    "print(classification_report(y_test, ada.predict(X_test)))"
   ]
  },
  {
   "cell_type": "code",
   "execution_count": 27,
   "metadata": {
    "execution": {
     "iopub.execute_input": "2021-11-27T17:56:10.427104Z",
     "iopub.status.busy": "2021-11-27T17:56:10.426448Z",
     "iopub.status.idle": "2021-11-27T17:56:10.790202Z",
     "shell.execute_reply": "2021-11-27T17:56:10.789491Z",
     "shell.execute_reply.started": "2021-11-27T17:23:57.294681Z"
    },
    "papermill": {
     "duration": 0.413528,
     "end_time": "2021-11-27T17:56:10.790353",
     "exception": false,
     "start_time": "2021-11-27T17:56:10.376825",
     "status": "completed"
    },
    "tags": []
   },
   "outputs": [
    {
     "data": {
      "image/png": "[encoded data removed]",
      "text/plain": [
       "<Figure size 432x288 with 1 Axes>"
      ]
     },
     "metadata": {
      "needs_background": "light"
     },
     "output_type": "display_data"
    }
   ],
   "source": [
    "from sklearn.metrics import roc_curve\n",
    "rf_fpr, rf_tpr, rf_thresholds = roc_curve(y_test, rf.predict_proba(X_test)[:,1])\n",
    "dt_fpr, dt_tpr, dt_thresholds = roc_curve(y_test, dtree.predict_proba(X_test)[:,1])\n",
    "ada_fpr, ada_tpr, ada_thresholds = roc_curve(y_test, ada.predict_proba(X_test)[:,1])\n",
    "\n",
    "plt.figure()\n",
    "\n",
    "# Plot Random Forest ROC\n",
    "plt.plot(rf_fpr, rf_tpr, label='Random Forest (area = %0.2f)' % rf_roc_auc)\n",
    "\n",
    "# Plot Decision Tree ROC\n",
    "plt.plot(dt_fpr, dt_tpr, label='Decision Tree (area = %0.2f)' % dt_roc_auc)\n",
    "\n",
    "# Plot AdaBoost ROC\n",
    "plt.plot(ada_fpr, ada_tpr, label='AdaBoost (area = %0.2f)' % ada_roc_auc)\n",
    "\n",
    "# Plot Base Rate ROC\n",
    "plt.plot([0,1], [0,1],label='Base Rate' 'k--')\n",
    "\n",
    "plt.xlim([0.0, 1.0])\n",
    "plt.ylim([0.0, 1.05])\n",
    "plt.xlabel('False Positive Rate')\n",
    "plt.ylabel('True Positive Rate')\n",
    "plt.title('ROC Graph')\n",
    "plt.legend(loc=\"lower right\")\n",
    "plt.show()"
   ]
  },
  {
   "cell_type": "code",
   "execution_count": 28,
   "metadata": {
    "execution": {
     "iopub.execute_input": "2021-11-27T17:56:10.874063Z",
     "iopub.status.busy": "2021-11-27T17:56:10.873461Z",
     "iopub.status.idle": "2021-11-27T17:56:10.889113Z",
     "shell.execute_reply": "2021-11-27T17:56:10.889602Z",
     "shell.execute_reply.started": "2021-11-27T17:23:57.683934Z"
    },
    "papermill": {
     "duration": 0.058883,
     "end_time": "2021-11-27T17:56:10.889770",
     "exception": false,
     "start_time": "2021-11-27T17:56:10.830887",
     "status": "completed"
    },
    "tags": []
   },
   "outputs": [
    {
     "data": {
      "text/html": [
       "<div>\n",
       "<style scoped>\n",
       "    .dataframe tbody tr th:only-of-type {\n",
       "        vertical-align: middle;\n",
       "    }\n",
       "\n",
       "    .dataframe tbody tr th {\n",
       "        vertical-align: top;\n",
       "    }\n",
       "\n",
       "    .dataframe thead th {\n",
       "        text-align: right;\n",
       "    }\n",
       "</style>\n",
       "<table border=\"1\" class=\"dataframe\">\n",
       "  <thead>\n",
       "    <tr style=\"text-align: right;\">\n",
       "      <th></th>\n",
       "      <th>0</th>\n",
       "      <th>1</th>\n",
       "      <th>2</th>\n",
       "      <th>3</th>\n",
       "      <th>4</th>\n",
       "    </tr>\n",
       "  </thead>\n",
       "  <tbody>\n",
       "    <tr>\n",
       "      <th>diagnosis</th>\n",
       "      <td>1.000000</td>\n",
       "      <td>1.000000</td>\n",
       "      <td>1.000000</td>\n",
       "      <td>1.000000</td>\n",
       "      <td>1.000000</td>\n",
       "    </tr>\n",
       "    <tr>\n",
       "      <th>radius_mean</th>\n",
       "      <td>17.990000</td>\n",
       "      <td>20.570000</td>\n",
       "      <td>19.690000</td>\n",
       "      <td>11.420000</td>\n",
       "      <td>20.290000</td>\n",
       "    </tr>\n",
       "    <tr>\n",
       "      <th>texture_mean</th>\n",
       "      <td>10.380000</td>\n",
       "      <td>17.770000</td>\n",
       "      <td>21.250000</td>\n",
       "      <td>20.380000</td>\n",
       "      <td>14.340000</td>\n",
       "    </tr>\n",
       "    <tr>\n",
       "      <th>perimeter_mean</th>\n",
       "      <td>122.800000</td>\n",
       "      <td>132.900000</td>\n",
       "      <td>130.000000</td>\n",
       "      <td>77.580000</td>\n",
       "      <td>135.100000</td>\n",
       "    </tr>\n",
       "    <tr>\n",
       "      <th>area_mean</th>\n",
       "      <td>1001.000000</td>\n",
       "      <td>1326.000000</td>\n",
       "      <td>1203.000000</td>\n",
       "      <td>386.100000</td>\n",
       "      <td>1297.000000</td>\n",
       "    </tr>\n",
       "    <tr>\n",
       "      <th>smoothness_mean</th>\n",
       "      <td>0.118400</td>\n",
       "      <td>0.084740</td>\n",
       "      <td>0.109600</td>\n",
       "      <td>0.142500</td>\n",
       "      <td>0.100300</td>\n",
       "    </tr>\n",
       "    <tr>\n",
       "      <th>compactness_mean</th>\n",
       "      <td>0.277600</td>\n",
       "      <td>0.078640</td>\n",
       "      <td>0.159900</td>\n",
       "      <td>0.283900</td>\n",
       "      <td>0.132800</td>\n",
       "    </tr>\n",
       "    <tr>\n",
       "      <th>concavity_mean</th>\n",
       "      <td>0.300100</td>\n",
       "      <td>0.086900</td>\n",
       "      <td>0.197400</td>\n",
       "      <td>0.241400</td>\n",
       "      <td>0.198000</td>\n",
       "    </tr>\n",
       "    <tr>\n",
       "      <th>concave points_mean</th>\n",
       "      <td>0.147100</td>\n",
       "      <td>0.070170</td>\n",
       "      <td>0.127900</td>\n",
       "      <td>0.105200</td>\n",
       "      <td>0.104300</td>\n",
       "    </tr>\n",
       "    <tr>\n",
       "      <th>symmetry_mean</th>\n",
       "      <td>0.241900</td>\n",
       "      <td>0.181200</td>\n",
       "      <td>0.206900</td>\n",
       "      <td>0.259700</td>\n",
       "      <td>0.180900</td>\n",
       "    </tr>\n",
       "    <tr>\n",
       "      <th>fractal_dimension_mean</th>\n",
       "      <td>0.078710</td>\n",
       "      <td>0.056670</td>\n",
       "      <td>0.059990</td>\n",
       "      <td>0.097440</td>\n",
       "      <td>0.058830</td>\n",
       "    </tr>\n",
       "    <tr>\n",
       "      <th>radius_se</th>\n",
       "      <td>1.095000</td>\n",
       "      <td>0.543500</td>\n",
       "      <td>0.745600</td>\n",
       "      <td>0.495600</td>\n",
       "      <td>0.757200</td>\n",
       "    </tr>\n",
       "    <tr>\n",
       "      <th>texture_se</th>\n",
       "      <td>0.905300</td>\n",
       "      <td>0.733900</td>\n",
       "      <td>0.786900</td>\n",
       "      <td>1.156000</td>\n",
       "      <td>0.781300</td>\n",
       "    </tr>\n",
       "    <tr>\n",
       "      <th>perimeter_se</th>\n",
       "      <td>8.589000</td>\n",
       "      <td>3.398000</td>\n",
       "      <td>4.585000</td>\n",
       "      <td>3.445000</td>\n",
       "      <td>5.438000</td>\n",
       "    </tr>\n",
       "    <tr>\n",
       "      <th>area_se</th>\n",
       "      <td>153.400000</td>\n",
       "      <td>74.080000</td>\n",
       "      <td>94.030000</td>\n",
       "      <td>27.230000</td>\n",
       "      <td>94.440000</td>\n",
       "    </tr>\n",
       "    <tr>\n",
       "      <th>smoothness_se</th>\n",
       "      <td>0.006399</td>\n",
       "      <td>0.005225</td>\n",
       "      <td>0.006150</td>\n",
       "      <td>0.009110</td>\n",
       "      <td>0.011490</td>\n",
       "    </tr>\n",
       "    <tr>\n",
       "      <th>compactness_se</th>\n",
       "      <td>0.049040</td>\n",
       "      <td>0.013080</td>\n",
       "      <td>0.040060</td>\n",
       "      <td>0.074580</td>\n",
       "      <td>0.024610</td>\n",
       "    </tr>\n",
       "    <tr>\n",
       "      <th>concavity_se</th>\n",
       "      <td>0.053730</td>\n",
       "      <td>0.018600</td>\n",
       "      <td>0.038320</td>\n",
       "      <td>0.056610</td>\n",
       "      <td>0.056880</td>\n",
       "    </tr>\n",
       "    <tr>\n",
       "      <th>concave points_se</th>\n",
       "      <td>0.015870</td>\n",
       "      <td>0.013400</td>\n",
       "      <td>0.020580</td>\n",
       "      <td>0.018670</td>\n",
       "      <td>0.018850</td>\n",
       "    </tr>\n",
       "    <tr>\n",
       "      <th>symmetry_se</th>\n",
       "      <td>0.030030</td>\n",
       "      <td>0.013890</td>\n",
       "      <td>0.022500</td>\n",
       "      <td>0.059630</td>\n",
       "      <td>0.017560</td>\n",
       "    </tr>\n",
       "    <tr>\n",
       "      <th>fractal_dimension_se</th>\n",
       "      <td>0.006193</td>\n",
       "      <td>0.003532</td>\n",
       "      <td>0.004571</td>\n",
       "      <td>0.009208</td>\n",
       "      <td>0.005115</td>\n",
       "    </tr>\n",
       "    <tr>\n",
       "      <th>radius_worst</th>\n",
       "      <td>25.380000</td>\n",
       "      <td>24.990000</td>\n",
       "      <td>23.570000</td>\n",
       "      <td>14.910000</td>\n",
       "      <td>22.540000</td>\n",
       "    </tr>\n",
       "    <tr>\n",
       "      <th>texture_worst</th>\n",
       "      <td>17.330000</td>\n",
       "      <td>23.410000</td>\n",
       "      <td>25.530000</td>\n",
       "      <td>26.500000</td>\n",
       "      <td>16.670000</td>\n",
       "    </tr>\n",
       "    <tr>\n",
       "      <th>perimeter_worst</th>\n",
       "      <td>184.600000</td>\n",
       "      <td>158.800000</td>\n",
       "      <td>152.500000</td>\n",
       "      <td>98.870000</td>\n",
       "      <td>152.200000</td>\n",
       "    </tr>\n",
       "    <tr>\n",
       "      <th>area_worst</th>\n",
       "      <td>2019.000000</td>\n",
       "      <td>1956.000000</td>\n",
       "      <td>1709.000000</td>\n",
       "      <td>567.700000</td>\n",
       "      <td>1575.000000</td>\n",
       "    </tr>\n",
       "    <tr>\n",
       "      <th>smoothness_worst</th>\n",
       "      <td>0.162200</td>\n",
       "      <td>0.123800</td>\n",
       "      <td>0.144400</td>\n",
       "      <td>0.209800</td>\n",
       "      <td>0.137400</td>\n",
       "    </tr>\n",
       "    <tr>\n",
       "      <th>compactness_worst</th>\n",
       "      <td>0.665600</td>\n",
       "      <td>0.186600</td>\n",
       "      <td>0.424500</td>\n",
       "      <td>0.866300</td>\n",
       "      <td>0.205000</td>\n",
       "    </tr>\n",
       "    <tr>\n",
       "      <th>concavity_worst</th>\n",
       "      <td>0.711900</td>\n",
       "      <td>0.241600</td>\n",
       "      <td>0.450400</td>\n",
       "      <td>0.686900</td>\n",
       "      <td>0.400000</td>\n",
       "    </tr>\n",
       "    <tr>\n",
       "      <th>concave points_worst</th>\n",
       "      <td>0.265400</td>\n",
       "      <td>0.186000</td>\n",
       "      <td>0.243000</td>\n",
       "      <td>0.257500</td>\n",
       "      <td>0.162500</td>\n",
       "    </tr>\n",
       "    <tr>\n",
       "      <th>symmetry_worst</th>\n",
       "      <td>0.460100</td>\n",
       "      <td>0.275000</td>\n",
       "      <td>0.361300</td>\n",
       "      <td>0.663800</td>\n",
       "      <td>0.236400</td>\n",
       "    </tr>\n",
       "    <tr>\n",
       "      <th>fractal_dimension_worst</th>\n",
       "      <td>0.118900</td>\n",
       "      <td>0.089020</td>\n",
       "      <td>0.087580</td>\n",
       "      <td>0.173000</td>\n",
       "      <td>0.076780</td>\n",
       "    </tr>\n",
       "  </tbody>\n",
       "</table>\n",
       "</div>"
      ],
      "text/plain": [
       "                                   0            1            2           3  \\\n",
       "diagnosis                   1.000000     1.000000     1.000000    1.000000   \n",
       "radius_mean                17.990000    20.570000    19.690000   11.420000   \n",
       "texture_mean               10.380000    17.770000    21.250000   20.380000   \n",
       "perimeter_mean            122.800000   132.900000   130.000000   77.580000   \n",
       "area_mean                1001.000000  1326.000000  1203.000000  386.100000   \n",
       "smoothness_mean             0.118400     0.084740     0.109600    0.142500   \n",
       "compactness_mean            0.277600     0.078640     0.159900    0.283900   \n",
       "concavity_mean              0.300100     0.086900     0.197400    0.241400   \n",
       "concave points_mean         0.147100     0.070170     0.127900    0.105200   \n",
       "symmetry_mean               0.241900     0.181200     0.206900    0.259700   \n",
       "fractal_dimension_mean      0.078710     0.056670     0.059990    0.097440   \n",
       "radius_se                   1.095000     0.543500     0.745600    0.495600   \n",
       "texture_se                  0.905300     0.733900     0.786900    1.156000   \n",
       "perimeter_se                8.589000     3.398000     4.585000    3.445000   \n",
       "area_se                   153.400000    74.080000    94.030000   27.230000   \n",
       "smoothness_se               0.006399     0.005225     0.006150    0.009110   \n",
       "compactness_se              0.049040     0.013080     0.040060    0.074580   \n",
       "concavity_se                0.053730     0.018600     0.038320    0.056610   \n",
       "concave points_se           0.015870     0.013400     0.020580    0.018670   \n",
       "symmetry_se                 0.030030     0.013890     0.022500    0.059630   \n",
       "fractal_dimension_se        0.006193     0.003532     0.004571    0.009208   \n",
       "radius_worst               25.380000    24.990000    23.570000   14.910000   \n",
       "texture_worst              17.330000    23.410000    25.530000   26.500000   \n",
       "perimeter_worst           184.600000   158.800000   152.500000   98.870000   \n",
       "area_worst               2019.000000  1956.000000  1709.000000  567.700000   \n",
       "smoothness_worst            0.162200     0.123800     0.144400    0.209800   \n",
       "compactness_worst           0.665600     0.186600     0.424500    0.866300   \n",
       "concavity_worst             0.711900     0.241600     0.450400    0.686900   \n",
       "concave points_worst        0.265400     0.186000     0.243000    0.257500   \n",
       "symmetry_worst              0.460100     0.275000     0.361300    0.663800   \n",
       "fractal_dimension_worst     0.118900     0.089020     0.087580    0.173000   \n",
       "\n",
       "                                   4  \n",
       "diagnosis                   1.000000  \n",
       "radius_mean                20.290000  \n",
       "texture_mean               14.340000  \n",
       "perimeter_mean            135.100000  \n",
       "area_mean                1297.000000  \n",
       "smoothness_mean             0.100300  \n",
       "compactness_mean            0.132800  \n",
       "concavity_mean              0.198000  \n",
       "concave points_mean         0.104300  \n",
       "symmetry_mean               0.180900  \n",
       "fractal_dimension_mean      0.058830  \n",
       "radius_se                   0.757200  \n",
       "texture_se                  0.781300  \n",
       "perimeter_se                5.438000  \n",
       "area_se                    94.440000  \n",
       "smoothness_se               0.011490  \n",
       "compactness_se              0.024610  \n",
       "concavity_se                0.056880  \n",
       "concave points_se           0.018850  \n",
       "symmetry_se                 0.017560  \n",
       "fractal_dimension_se        0.005115  \n",
       "radius_worst               22.540000  \n",
       "texture_worst              16.670000  \n",
       "perimeter_worst           152.200000  \n",
       "area_worst               1575.000000  \n",
       "smoothness_worst            0.137400  \n",
       "compactness_worst           0.205000  \n",
       "concavity_worst             0.400000  \n",
       "concave points_worst        0.162500  \n",
       "symmetry_worst              0.236400  \n",
       "fractal_dimension_worst     0.076780  "
      ]
     },
     "execution_count": 28,
     "metadata": {},
     "output_type": "execute_result"
    }
   ],
   "source": [
    "df.head().T"
   ]
  },
  {
   "cell_type": "code",
   "execution_count": 29,
   "metadata": {
    "execution": {
     "iopub.execute_input": "2021-11-27T17:56:10.976594Z",
     "iopub.status.busy": "2021-11-27T17:56:10.975797Z",
     "iopub.status.idle": "2021-11-27T17:56:10.982259Z",
     "shell.execute_reply": "2021-11-27T17:56:10.981619Z",
     "shell.execute_reply.started": "2021-11-27T17:23:57.704391Z"
    },
    "papermill": {
     "duration": 0.051297,
     "end_time": "2021-11-27T17:56:10.982399",
     "exception": false,
     "start_time": "2021-11-27T17:56:10.931102",
     "status": "completed"
    },
    "tags": []
   },
   "outputs": [],
   "source": [
    "from sklearn.linear_model import LinearRegression\n",
    "from sklearn.model_selection import KFold\n",
    "\n",
    "predictors = [\"radius_mean\",\"texture_mean\",\"perimeter_mean\",\"area_mean\",\"smoothness_mean\",\"compactness_mean\",\"concavity_mean\",\"concave points_mean\",\"symmetry_mean\",\"fractal_dimension_mean\",\"radius_se\",\"texture_se\",\"perimeter_se\",\"area_se\",\"smoothness_se\",\"compactness_se\",\"concavity_se\",\"concave points_se\",\"symmetry_se\",\"fractal_dimension_se\",\"radius_worst\",\"texture_worst\",\"perimeter_worst\",\"area_worst\",\"smoothness_worst\",\"compactness_worst\",\"concavity_worst\",\"concave points_worst\",\"symmetry_worst\",\"fractal_dimension_worst\"]\n",
    "target=\"diagnosis\"\n",
    "alg = LinearRegression()\n",
    "kf = KFold(n_splits=3, random_state=1073, shuffle=True)\n",
    "kf.split(df)\n",
    "predictions = []"
   ]
  },
  {
   "cell_type": "code",
   "execution_count": 30,
   "metadata": {
    "execution": {
     "iopub.execute_input": "2021-11-27T17:56:11.073748Z",
     "iopub.status.busy": "2021-11-27T17:56:11.073049Z",
     "iopub.status.idle": "2021-11-27T17:56:11.114333Z",
     "shell.execute_reply": "2021-11-27T17:56:11.115216Z",
     "shell.execute_reply.started": "2021-11-27T17:23:57.718455Z"
    },
    "papermill": {
     "duration": 0.092451,
     "end_time": "2021-11-27T17:56:11.115518",
     "exception": false,
     "start_time": "2021-11-27T17:56:11.023067",
     "status": "completed"
    },
    "tags": []
   },
   "outputs": [],
   "source": [
    "for train, test in kf.split(df):\n",
    "    train_predictors = (df[predictors].iloc[train,:])\n",
    "    train_target = df[target].iloc[train]\n",
    "    alg.fit(train_predictors, train_target)\n",
    "    test_predictions = alg.predict(df[predictors].iloc[test,:])\n",
    "    predictions=np.append(predictions,test_predictions)"
   ]
  },
  {
   "cell_type": "code",
   "execution_count": 31,
   "metadata": {
    "execution": {
     "iopub.execute_input": "2021-11-27T17:56:11.258233Z",
     "iopub.status.busy": "2021-11-27T17:56:11.255747Z",
     "iopub.status.idle": "2021-11-27T17:56:11.262509Z",
     "shell.execute_reply": "2021-11-27T17:56:11.263102Z",
     "shell.execute_reply.started": "2021-11-27T17:23:57.768511Z"
    },
    "papermill": {
     "duration": 0.064884,
     "end_time": "2021-11-27T17:56:11.263297",
     "exception": false,
     "start_time": "2021-11-27T17:56:11.198413",
     "status": "completed"
    },
    "tags": []
   },
   "outputs": [
    {
     "data": {
      "text/plain": [
       "0.5817223198594025"
      ]
     },
     "execution_count": 31,
     "metadata": {},
     "output_type": "execute_result"
    }
   ],
   "source": [
    "# Map predictions to outcomes (only possible outcomes are 1:Malignant and 0:Benign)\n",
    "predictions[predictions > .5] = 1\n",
    "predictions[predictions <=.5] = 0\n",
    "\n",
    "accuracy=sum(df[\"diagnosis\"]==predictions)/len(df[\"diagnosis\"])\n",
    "accuracy"
   ]
  },
  {
   "cell_type": "code",
   "execution_count": 32,
   "metadata": {
    "execution": {
     "iopub.execute_input": "2021-11-27T17:56:11.348648Z",
     "iopub.status.busy": "2021-11-27T17:56:11.348000Z",
     "iopub.status.idle": "2021-11-27T17:56:11.351430Z",
     "shell.execute_reply": "2021-11-27T17:56:11.351911Z",
     "shell.execute_reply.started": "2021-11-27T17:23:57.785820Z"
    },
    "papermill": {
     "duration": 0.04711,
     "end_time": "2021-11-27T17:56:11.352075",
     "exception": false,
     "start_time": "2021-11-27T17:56:11.304965",
     "status": "completed"
    },
    "tags": []
   },
   "outputs": [],
   "source": [
    "from sklearn.model_selection import cross_val_score\n",
    "from sklearn.model_selection import train_test_split"
   ]
  },
  {
   "cell_type": "code",
   "execution_count": 33,
   "metadata": {
    "execution": {
     "iopub.execute_input": "2021-11-27T17:56:11.436354Z",
     "iopub.status.busy": "2021-11-27T17:56:11.435650Z",
     "iopub.status.idle": "2021-11-27T17:56:11.441281Z",
     "shell.execute_reply": "2021-11-27T17:56:11.441763Z",
     "shell.execute_reply.started": "2021-11-27T17:23:57.801521Z"
    },
    "papermill": {
     "duration": 0.049267,
     "end_time": "2021-11-27T17:56:11.441925",
     "exception": false,
     "start_time": "2021-11-27T17:56:11.392658",
     "status": "completed"
    },
    "tags": []
   },
   "outputs": [],
   "source": [
    "SEED=42\n",
    "single_best_model = RandomForestClassifier(criterion='gini', \n",
    "                                           n_estimators=1100,\n",
    "                                           max_depth=5,\n",
    "                                           min_samples_split=4,\n",
    "                                           min_samples_leaf=5,\n",
    "                                           max_features='auto',\n",
    "                                           oob_score=True,\n",
    "                                           random_state=SEED,\n",
    "                                           n_jobs=-1,\n",
    "                                           verbose=1)\n",
    "\n",
    "leaderboard_model = RandomForestClassifier(criterion='gini',\n",
    "                                           n_estimators=1750,\n",
    "                                           max_depth=7,\n",
    "                                           min_samples_split=6,\n",
    "                                           min_samples_leaf=6,\n",
    "                                           max_features='auto',\n",
    "                                           oob_score=True,\n",
    "                                           random_state=SEED,\n",
    "                                           n_jobs=-1,\n",
    "                                           verbose=1) "
   ]
  },
  {
   "cell_type": "code",
   "execution_count": 34,
   "metadata": {
    "execution": {
     "iopub.execute_input": "2021-11-27T17:56:11.524517Z",
     "iopub.status.busy": "2021-11-27T17:56:11.523923Z",
     "iopub.status.idle": "2021-11-27T17:56:11.526698Z",
     "shell.execute_reply": "2021-11-27T17:56:11.527236Z",
     "shell.execute_reply.started": "2021-11-27T17:23:57.823802Z"
    },
    "papermill": {
     "duration": 0.045584,
     "end_time": "2021-11-27T17:56:11.527406",
     "exception": false,
     "start_time": "2021-11-27T17:56:11.481822",
     "status": "completed"
    },
    "tags": []
   },
   "outputs": [],
   "source": [
    "train_data=traindf\n",
    "test_data=testdf"
   ]
  },
  {
   "cell_type": "code",
   "execution_count": 35,
   "metadata": {
    "execution": {
     "iopub.execute_input": "2021-11-27T17:56:11.611630Z",
     "iopub.status.busy": "2021-11-27T17:56:11.610990Z",
     "iopub.status.idle": "2021-11-27T17:56:11.626341Z",
     "shell.execute_reply": "2021-11-27T17:56:11.625468Z",
     "shell.execute_reply.started": "2021-11-27T17:23:57.836663Z"
    },
    "papermill": {
     "duration": 0.05844,
     "end_time": "2021-11-27T17:56:11.626559",
     "exception": false,
     "start_time": "2021-11-27T17:56:11.568119",
     "status": "completed"
    },
    "tags": []
   },
   "outputs": [
    {
     "name": "stdout",
     "output_type": "stream",
     "text": [
      "X_train shape: (398, 31)\n",
      "y_train shape: (398,)\n",
      "X_test shape: (171, 31)\n"
     ]
    }
   ],
   "source": [
    "from sklearn.preprocessing import StandardScaler\n",
    "X_train = StandardScaler().fit_transform(traindf)\n",
    "y_train = traindf['diagnosis'].values\n",
    "X_test = StandardScaler().fit_transform(testdf)\n",
    "\n",
    "print('X_train shape: {}'.format(X_train.shape))\n",
    "print('y_train shape: {}'.format(y_train.shape))\n",
    "print('X_test shape: {}'.format(X_test.shape))"
   ]
  },
  {
   "cell_type": "code",
   "execution_count": 36,
   "metadata": {
    "execution": {
     "iopub.execute_input": "2021-11-27T17:56:11.712467Z",
     "iopub.status.busy": "2021-11-27T17:56:11.711493Z",
     "iopub.status.idle": "2021-11-27T17:56:11.715820Z",
     "shell.execute_reply": "2021-11-27T17:56:11.716390Z",
     "shell.execute_reply.started": "2021-11-27T17:23:57.865081Z"
    },
    "papermill": {
     "duration": 0.048586,
     "end_time": "2021-11-27T17:56:11.716559",
     "exception": false,
     "start_time": "2021-11-27T17:56:11.667973",
     "status": "completed"
    },
    "tags": []
   },
   "outputs": [],
   "source": [
    "def concat_df(train_data, test_data):\n",
    "    return pd.concat([train_data, test_data], sort=True).reset_index(drop=True)"
   ]
  },
  {
   "cell_type": "code",
   "execution_count": 37,
   "metadata": {
    "execution": {
     "iopub.execute_input": "2021-11-27T17:56:11.800656Z",
     "iopub.status.busy": "2021-11-27T17:56:11.800063Z",
     "iopub.status.idle": "2021-11-27T17:56:11.803678Z",
     "shell.execute_reply": "2021-11-27T17:56:11.804257Z",
     "shell.execute_reply.started": "2021-11-27T17:23:57.874444Z"
    },
    "papermill": {
     "duration": 0.047454,
     "end_time": "2021-11-27T17:56:11.804426",
     "exception": false,
     "start_time": "2021-11-27T17:56:11.756972",
     "status": "completed"
    },
    "tags": []
   },
   "outputs": [],
   "source": [
    "from sklearn.metrics import roc_auc_score\n",
    "from sklearn.metrics import roc_curve, auc"
   ]
  },
  {
   "cell_type": "code",
   "execution_count": 38,
   "metadata": {
    "execution": {
     "iopub.execute_input": "2021-11-27T17:56:11.888305Z",
     "iopub.status.busy": "2021-11-27T17:56:11.887703Z",
     "iopub.status.idle": "2021-11-27T17:56:11.893296Z",
     "shell.execute_reply": "2021-11-27T17:56:11.893778Z",
     "shell.execute_reply.started": "2021-11-27T17:55:13.386246Z"
    },
    "papermill": {
     "duration": 0.049213,
     "end_time": "2021-11-27T17:56:11.893944",
     "exception": false,
     "start_time": "2021-11-27T17:56:11.844731",
     "status": "completed"
    },
    "tags": []
   },
   "outputs": [],
   "source": [
    "df_all = concat_df(traindf, testdf)\n",
    "from sklearn.model_selection import StratifiedKFold"
   ]
  },
  {
   "cell_type": "code",
   "execution_count": 39,
   "metadata": {
    "execution": {
     "iopub.execute_input": "2021-11-27T17:56:11.980394Z",
     "iopub.status.busy": "2021-11-27T17:56:11.979763Z",
     "iopub.status.idle": "2021-11-27T17:56:43.766335Z",
     "shell.execute_reply": "2021-11-27T17:56:43.765716Z"
    },
    "papermill": {
     "duration": 31.829644,
     "end_time": "2021-11-27T17:56:43.766495",
     "exception": false,
     "start_time": "2021-11-27T17:56:11.936851",
     "status": "completed"
    },
    "tags": []
   },
   "outputs": [
    {
     "name": "stdout",
     "output_type": "stream",
     "text": [
      "Fold 1\n",
      "\n"
     ]
    },
    {
     "name": "stderr",
     "output_type": "stream",
     "text": [
      "[Parallel(n_jobs=-1)]: Using backend ThreadingBackend with 4 concurrent workers.\n",
      "[Parallel(n_jobs=-1)]: Done  42 tasks      | elapsed:    0.1s\n",
      "[Parallel(n_jobs=-1)]: Done 192 tasks      | elapsed:    0.4s\n",
      "[Parallel(n_jobs=-1)]: Done 442 tasks      | elapsed:    0.8s\n",
      "[Parallel(n_jobs=-1)]: Done 792 tasks      | elapsed:    1.4s\n",
      "[Parallel(n_jobs=-1)]: Done 1242 tasks      | elapsed:    2.2s\n",
      "[Parallel(n_jobs=-1)]: Done 1750 out of 1750 | elapsed:    3.1s finished\n",
      "[Parallel(n_jobs=4)]: Using backend ThreadingBackend with 4 concurrent workers.\n",
      "[Parallel(n_jobs=4)]: Done  42 tasks      | elapsed:    0.0s\n",
      "[Parallel(n_jobs=4)]: Done 192 tasks      | elapsed:    0.0s\n",
      "[Parallel(n_jobs=4)]: Done 442 tasks      | elapsed:    0.1s\n",
      "[Parallel(n_jobs=4)]: Done 792 tasks      | elapsed:    0.2s\n",
      "[Parallel(n_jobs=4)]: Done 1242 tasks      | elapsed:    0.3s\n",
      "[Parallel(n_jobs=4)]: Done 1750 out of 1750 | elapsed:    0.5s finished\n",
      "[Parallel(n_jobs=4)]: Using backend ThreadingBackend with 4 concurrent workers.\n",
      "[Parallel(n_jobs=4)]: Done  42 tasks      | elapsed:    0.0s\n",
      "[Parallel(n_jobs=4)]: Done 192 tasks      | elapsed:    0.0s\n",
      "[Parallel(n_jobs=4)]: Done 442 tasks      | elapsed:    0.1s\n",
      "[Parallel(n_jobs=4)]: Done 792 tasks      | elapsed:    0.2s\n",
      "[Parallel(n_jobs=4)]: Done 1242 tasks      | elapsed:    0.3s\n",
      "[Parallel(n_jobs=4)]: Done 1750 out of 1750 | elapsed:    0.4s finished\n",
      "[Parallel(n_jobs=4)]: Using backend ThreadingBackend with 4 concurrent workers.\n",
      "[Parallel(n_jobs=4)]: Done  42 tasks      | elapsed:    0.0s\n",
      "[Parallel(n_jobs=4)]: Done 192 tasks      | elapsed:    0.0s\n",
      "[Parallel(n_jobs=4)]: Done 442 tasks      | elapsed:    0.1s\n",
      "[Parallel(n_jobs=4)]: Done 792 tasks      | elapsed:    0.2s\n",
      "[Parallel(n_jobs=4)]: Done 1242 tasks      | elapsed:    0.3s\n",
      "[Parallel(n_jobs=4)]: Done 1750 out of 1750 | elapsed:    0.4s finished\n",
      "[Parallel(n_jobs=4)]: Using backend ThreadingBackend with 4 concurrent workers.\n",
      "[Parallel(n_jobs=4)]: Done  42 tasks      | elapsed:    0.0s\n",
      "[Parallel(n_jobs=4)]: Done 192 tasks      | elapsed:    0.0s\n",
      "[Parallel(n_jobs=4)]: Done 442 tasks      | elapsed:    0.1s\n",
      "[Parallel(n_jobs=4)]: Done 792 tasks      | elapsed:    0.2s\n",
      "[Parallel(n_jobs=4)]: Done 1242 tasks      | elapsed:    0.3s\n",
      "[Parallel(n_jobs=4)]: Done 1750 out of 1750 | elapsed:    0.4s finished\n"
     ]
    },
    {
     "name": "stdout",
     "output_type": "stream",
     "text": [
      "Fold 1 OOB Score: 0.9748427672955975\n",
      "\n",
      "Fold 2\n",
      "\n"
     ]
    },
    {
     "name": "stderr",
     "output_type": "stream",
     "text": [
      "[Parallel(n_jobs=-1)]: Using backend ThreadingBackend with 4 concurrent workers.\n",
      "[Parallel(n_jobs=-1)]: Done  42 tasks      | elapsed:    0.1s\n",
      "[Parallel(n_jobs=-1)]: Done 192 tasks      | elapsed:    0.4s\n",
      "[Parallel(n_jobs=-1)]: Done 442 tasks      | elapsed:    0.9s\n",
      "[Parallel(n_jobs=-1)]: Done 792 tasks      | elapsed:    1.5s\n",
      "[Parallel(n_jobs=-1)]: Done 1242 tasks      | elapsed:    2.3s\n",
      "[Parallel(n_jobs=-1)]: Done 1750 out of 1750 | elapsed:    3.1s finished\n",
      "[Parallel(n_jobs=4)]: Using backend ThreadingBackend with 4 concurrent workers.\n",
      "[Parallel(n_jobs=4)]: Done  42 tasks      | elapsed:    0.0s\n",
      "[Parallel(n_jobs=4)]: Done 192 tasks      | elapsed:    0.0s\n",
      "[Parallel(n_jobs=4)]: Done 442 tasks      | elapsed:    0.1s\n",
      "[Parallel(n_jobs=4)]: Done 792 tasks      | elapsed:    0.2s\n",
      "[Parallel(n_jobs=4)]: Done 1242 tasks      | elapsed:    0.3s\n",
      "[Parallel(n_jobs=4)]: Done 1750 out of 1750 | elapsed:    0.4s finished\n",
      "[Parallel(n_jobs=4)]: Using backend ThreadingBackend with 4 concurrent workers.\n",
      "[Parallel(n_jobs=4)]: Done  42 tasks      | elapsed:    0.0s\n",
      "[Parallel(n_jobs=4)]: Done 192 tasks      | elapsed:    0.0s\n",
      "[Parallel(n_jobs=4)]: Done 442 tasks      | elapsed:    0.1s\n",
      "[Parallel(n_jobs=4)]: Done 792 tasks      | elapsed:    0.1s\n",
      "[Parallel(n_jobs=4)]: Done 1242 tasks      | elapsed:    0.2s\n",
      "[Parallel(n_jobs=4)]: Done 1750 out of 1750 | elapsed:    0.3s finished\n",
      "[Parallel(n_jobs=4)]: Using backend ThreadingBackend with 4 concurrent workers.\n",
      "[Parallel(n_jobs=4)]: Done  42 tasks      | elapsed:    0.0s\n",
      "[Parallel(n_jobs=4)]: Done 192 tasks      | elapsed:    0.1s\n",
      "[Parallel(n_jobs=4)]: Done 442 tasks      | elapsed:    0.1s\n",
      "[Parallel(n_jobs=4)]: Done 792 tasks      | elapsed:    0.2s\n",
      "[Parallel(n_jobs=4)]: Done 1242 tasks      | elapsed:    0.3s\n",
      "[Parallel(n_jobs=4)]: Done 1750 out of 1750 | elapsed:    0.4s finished\n",
      "[Parallel(n_jobs=4)]: Using backend ThreadingBackend with 4 concurrent workers.\n",
      "[Parallel(n_jobs=4)]: Done  42 tasks      | elapsed:    0.0s\n",
      "[Parallel(n_jobs=4)]: Done 192 tasks      | elapsed:    0.0s\n",
      "[Parallel(n_jobs=4)]: Done 442 tasks      | elapsed:    0.1s\n",
      "[Parallel(n_jobs=4)]: Done 792 tasks      | elapsed:    0.1s\n",
      "[Parallel(n_jobs=4)]: Done 1242 tasks      | elapsed:    0.2s\n",
      "[Parallel(n_jobs=4)]: Done 1750 out of 1750 | elapsed:    0.3s finished\n"
     ]
    },
    {
     "name": "stdout",
     "output_type": "stream",
     "text": [
      "Fold 2 OOB Score: 0.9842767295597484\n",
      "\n",
      "Fold 3\n",
      "\n"
     ]
    },
    {
     "name": "stderr",
     "output_type": "stream",
     "text": [
      "[Parallel(n_jobs=-1)]: Using backend ThreadingBackend with 4 concurrent workers.\n",
      "[Parallel(n_jobs=-1)]: Done  42 tasks      | elapsed:    0.1s\n",
      "[Parallel(n_jobs=-1)]: Done 192 tasks      | elapsed:    0.3s\n",
      "[Parallel(n_jobs=-1)]: Done 442 tasks      | elapsed:    0.7s\n",
      "[Parallel(n_jobs=-1)]: Done 792 tasks      | elapsed:    1.3s\n",
      "[Parallel(n_jobs=-1)]: Done 1242 tasks      | elapsed:    2.1s\n",
      "[Parallel(n_jobs=-1)]: Done 1750 out of 1750 | elapsed:    3.0s finished\n",
      "[Parallel(n_jobs=4)]: Using backend ThreadingBackend with 4 concurrent workers.\n",
      "[Parallel(n_jobs=4)]: Done  42 tasks      | elapsed:    0.0s\n",
      "[Parallel(n_jobs=4)]: Done 192 tasks      | elapsed:    0.0s\n",
      "[Parallel(n_jobs=4)]: Done 442 tasks      | elapsed:    0.1s\n",
      "[Parallel(n_jobs=4)]: Done 792 tasks      | elapsed:    0.2s\n",
      "[Parallel(n_jobs=4)]: Done 1242 tasks      | elapsed:    0.3s\n",
      "[Parallel(n_jobs=4)]: Done 1750 out of 1750 | elapsed:    0.4s finished\n",
      "[Parallel(n_jobs=4)]: Using backend ThreadingBackend with 4 concurrent workers.\n",
      "[Parallel(n_jobs=4)]: Done  42 tasks      | elapsed:    0.0s\n",
      "[Parallel(n_jobs=4)]: Done 192 tasks      | elapsed:    0.0s\n",
      "[Parallel(n_jobs=4)]: Done 442 tasks      | elapsed:    0.1s\n",
      "[Parallel(n_jobs=4)]: Done 792 tasks      | elapsed:    0.1s\n",
      "[Parallel(n_jobs=4)]: Done 1242 tasks      | elapsed:    0.2s\n",
      "[Parallel(n_jobs=4)]: Done 1750 out of 1750 | elapsed:    0.3s finished\n",
      "[Parallel(n_jobs=4)]: Using backend ThreadingBackend with 4 concurrent workers.\n",
      "[Parallel(n_jobs=4)]: Done  42 tasks      | elapsed:    0.0s\n",
      "[Parallel(n_jobs=4)]: Done 192 tasks      | elapsed:    0.0s\n",
      "[Parallel(n_jobs=4)]: Done 442 tasks      | elapsed:    0.1s\n",
      "[Parallel(n_jobs=4)]: Done 792 tasks      | elapsed:    0.1s\n",
      "[Parallel(n_jobs=4)]: Done 1242 tasks      | elapsed:    0.2s\n",
      "[Parallel(n_jobs=4)]: Done 1750 out of 1750 | elapsed:    0.3s finished\n",
      "[Parallel(n_jobs=4)]: Using backend ThreadingBackend with 4 concurrent workers.\n",
      "[Parallel(n_jobs=4)]: Done  42 tasks      | elapsed:    0.0s\n",
      "[Parallel(n_jobs=4)]: Done 192 tasks      | elapsed:    0.0s\n",
      "[Parallel(n_jobs=4)]: Done 442 tasks      | elapsed:    0.1s\n",
      "[Parallel(n_jobs=4)]: Done 792 tasks      | elapsed:    0.1s\n",
      "[Parallel(n_jobs=4)]: Done 1242 tasks      | elapsed:    0.2s\n",
      "[Parallel(n_jobs=4)]: Done 1750 out of 1750 | elapsed:    0.3s finished\n"
     ]
    },
    {
     "name": "stdout",
     "output_type": "stream",
     "text": [
      "Fold 3 OOB Score: 0.9811320754716981\n",
      "\n",
      "Fold 4\n",
      "\n"
     ]
    },
    {
     "name": "stderr",
     "output_type": "stream",
     "text": [
      "[Parallel(n_jobs=-1)]: Using backend ThreadingBackend with 4 concurrent workers.\n",
      "[Parallel(n_jobs=-1)]: Done  42 tasks      | elapsed:    0.1s\n",
      "[Parallel(n_jobs=-1)]: Done 192 tasks      | elapsed:    0.3s\n",
      "[Parallel(n_jobs=-1)]: Done 442 tasks      | elapsed:    0.8s\n",
      "[Parallel(n_jobs=-1)]: Done 792 tasks      | elapsed:    1.4s\n",
      "[Parallel(n_jobs=-1)]: Done 1242 tasks      | elapsed:    2.1s\n",
      "[Parallel(n_jobs=-1)]: Done 1750 out of 1750 | elapsed:    3.0s finished\n",
      "[Parallel(n_jobs=4)]: Using backend ThreadingBackend with 4 concurrent workers.\n",
      "[Parallel(n_jobs=4)]: Done  42 tasks      | elapsed:    0.0s\n",
      "[Parallel(n_jobs=4)]: Done 192 tasks      | elapsed:    0.0s\n",
      "[Parallel(n_jobs=4)]: Done 442 tasks      | elapsed:    0.1s\n",
      "[Parallel(n_jobs=4)]: Done 792 tasks      | elapsed:    0.2s\n",
      "[Parallel(n_jobs=4)]: Done 1242 tasks      | elapsed:    0.3s\n",
      "[Parallel(n_jobs=4)]: Done 1750 out of 1750 | elapsed:    0.4s finished\n",
      "[Parallel(n_jobs=4)]: Using backend ThreadingBackend with 4 concurrent workers.\n",
      "[Parallel(n_jobs=4)]: Done  42 tasks      | elapsed:    0.0s\n",
      "[Parallel(n_jobs=4)]: Done 192 tasks      | elapsed:    0.0s\n",
      "[Parallel(n_jobs=4)]: Done 442 tasks      | elapsed:    0.1s\n",
      "[Parallel(n_jobs=4)]: Done 792 tasks      | elapsed:    0.1s\n",
      "[Parallel(n_jobs=4)]: Done 1242 tasks      | elapsed:    0.2s\n",
      "[Parallel(n_jobs=4)]: Done 1750 out of 1750 | elapsed:    0.3s finished\n",
      "[Parallel(n_jobs=4)]: Using backend ThreadingBackend with 4 concurrent workers.\n",
      "[Parallel(n_jobs=4)]: Done  42 tasks      | elapsed:    0.0s\n",
      "[Parallel(n_jobs=4)]: Done 192 tasks      | elapsed:    0.0s\n",
      "[Parallel(n_jobs=4)]: Done 442 tasks      | elapsed:    0.1s\n",
      "[Parallel(n_jobs=4)]: Done 792 tasks      | elapsed:    0.2s\n",
      "[Parallel(n_jobs=4)]: Done 1242 tasks      | elapsed:    0.3s\n",
      "[Parallel(n_jobs=4)]: Done 1750 out of 1750 | elapsed:    0.3s finished\n",
      "[Parallel(n_jobs=4)]: Using backend ThreadingBackend with 4 concurrent workers.\n",
      "[Parallel(n_jobs=4)]: Done  42 tasks      | elapsed:    0.0s\n",
      "[Parallel(n_jobs=4)]: Done 192 tasks      | elapsed:    0.0s\n",
      "[Parallel(n_jobs=4)]: Done 442 tasks      | elapsed:    0.1s\n",
      "[Parallel(n_jobs=4)]: Done 792 tasks      | elapsed:    0.1s\n",
      "[Parallel(n_jobs=4)]: Done 1242 tasks      | elapsed:    0.2s\n",
      "[Parallel(n_jobs=4)]: Done 1750 out of 1750 | elapsed:    0.3s finished\n"
     ]
    },
    {
     "name": "stdout",
     "output_type": "stream",
     "text": [
      "Fold 4 OOB Score: 0.9749216300940439\n",
      "\n",
      "Fold 5\n",
      "\n"
     ]
    },
    {
     "name": "stderr",
     "output_type": "stream",
     "text": [
      "[Parallel(n_jobs=-1)]: Using backend ThreadingBackend with 4 concurrent workers.\n",
      "[Parallel(n_jobs=-1)]: Done  42 tasks      | elapsed:    0.1s\n",
      "[Parallel(n_jobs=-1)]: Done 192 tasks      | elapsed:    0.3s\n",
      "[Parallel(n_jobs=-1)]: Done 442 tasks      | elapsed:    0.7s\n",
      "[Parallel(n_jobs=-1)]: Done 792 tasks      | elapsed:    1.3s\n",
      "[Parallel(n_jobs=-1)]: Done 1242 tasks      | elapsed:    2.2s\n",
      "[Parallel(n_jobs=-1)]: Done 1750 out of 1750 | elapsed:    3.0s finished\n",
      "[Parallel(n_jobs=4)]: Using backend ThreadingBackend with 4 concurrent workers.\n",
      "[Parallel(n_jobs=4)]: Done  42 tasks      | elapsed:    0.0s\n",
      "[Parallel(n_jobs=4)]: Done 192 tasks      | elapsed:    0.0s\n",
      "[Parallel(n_jobs=4)]: Done 442 tasks      | elapsed:    0.1s\n",
      "[Parallel(n_jobs=4)]: Done 792 tasks      | elapsed:    0.2s\n",
      "[Parallel(n_jobs=4)]: Done 1242 tasks      | elapsed:    0.3s\n",
      "[Parallel(n_jobs=4)]: Done 1750 out of 1750 | elapsed:    0.4s finished\n",
      "[Parallel(n_jobs=4)]: Using backend ThreadingBackend with 4 concurrent workers.\n",
      "[Parallel(n_jobs=4)]: Done  42 tasks      | elapsed:    0.0s\n",
      "[Parallel(n_jobs=4)]: Done 192 tasks      | elapsed:    0.0s\n",
      "[Parallel(n_jobs=4)]: Done 442 tasks      | elapsed:    0.1s\n",
      "[Parallel(n_jobs=4)]: Done 792 tasks      | elapsed:    0.1s\n",
      "[Parallel(n_jobs=4)]: Done 1242 tasks      | elapsed:    0.2s\n",
      "[Parallel(n_jobs=4)]: Done 1750 out of 1750 | elapsed:    0.3s finished\n",
      "[Parallel(n_jobs=4)]: Using backend ThreadingBackend with 4 concurrent workers.\n",
      "[Parallel(n_jobs=4)]: Done  42 tasks      | elapsed:    0.0s\n",
      "[Parallel(n_jobs=4)]: Done 192 tasks      | elapsed:    0.0s\n",
      "[Parallel(n_jobs=4)]: Done 442 tasks      | elapsed:    0.1s\n",
      "[Parallel(n_jobs=4)]: Done 792 tasks      | elapsed:    0.1s\n",
      "[Parallel(n_jobs=4)]: Done 1242 tasks      | elapsed:    0.2s\n",
      "[Parallel(n_jobs=4)]: Done 1750 out of 1750 | elapsed:    0.3s finished\n",
      "[Parallel(n_jobs=4)]: Using backend ThreadingBackend with 4 concurrent workers.\n",
      "[Parallel(n_jobs=4)]: Done  42 tasks      | elapsed:    0.0s\n",
      "[Parallel(n_jobs=4)]: Done 192 tasks      | elapsed:    0.0s\n",
      "[Parallel(n_jobs=4)]: Done 442 tasks      | elapsed:    0.1s\n",
      "[Parallel(n_jobs=4)]: Done 792 tasks      | elapsed:    0.2s\n",
      "[Parallel(n_jobs=4)]: Done 1242 tasks      | elapsed:    0.2s\n",
      "[Parallel(n_jobs=4)]: Done 1750 out of 1750 | elapsed:    0.3s finished\n"
     ]
    },
    {
     "name": "stdout",
     "output_type": "stream",
     "text": [
      "Fold 5 OOB Score: 0.9780564263322884\n",
      "\n",
      "Average OOB Score: 0.9786459257506752\n"
     ]
    }
   ],
   "source": [
    "N = 5\n",
    "oob = 0\n",
    "probs = pd.DataFrame(np.zeros((len(X_test), N * 2)), columns=['Fold_{}_Prob_{}'.format(i, j) for i in range(1, N + 1) for j in range(2)])\n",
    "importances = pd.DataFrame(np.zeros((X_train.shape[1], N)), columns=['Fold_{}'.format(i) for i in range(1, N + 1)], index=df_all.columns)\n",
    "fprs, tprs, scores = [], [], []\n",
    "\n",
    "skf = StratifiedKFold(n_splits=N, random_state=N, shuffle=True)\n",
    "\n",
    "for fold, (trn_idx, val_idx) in enumerate(skf.split(X_train, y_train), 1):\n",
    "    print('Fold {}\\n'.format(fold))\n",
    "    \n",
    "    # Fitting the model\n",
    "    leaderboard_model.fit(X_train[trn_idx], y_train[trn_idx])\n",
    "    \n",
    "    # Computing Train AUC score\n",
    "    trn_fpr, trn_tpr, trn_thresholds = roc_curve(y_train[trn_idx], leaderboard_model.predict_proba(X_train[trn_idx])[:, 1])\n",
    "    trn_auc_score = auc(trn_fpr, trn_tpr)\n",
    "    # Computing Validation AUC score\n",
    "    val_fpr, val_tpr, val_thresholds = roc_curve(y_train[val_idx], leaderboard_model.predict_proba(X_train[val_idx])[:, 1])\n",
    "    val_auc_score = auc(val_fpr, val_tpr)  \n",
    "      \n",
    "    scores.append((trn_auc_score, val_auc_score))\n",
    "    fprs.append(val_fpr)\n",
    "    tprs.append(val_tpr)\n",
    "    \n",
    "    # X_test probabilities\n",
    "    probs.loc[:, 'Fold_{}_Prob_0'.format(fold)] = leaderboard_model.predict_proba(X_test)[:, 0]\n",
    "    probs.loc[:, 'Fold_{}_Prob_1'.format(fold)] = leaderboard_model.predict_proba(X_test)[:, 1]\n",
    "    importances.iloc[:, fold - 1] = leaderboard_model.feature_importances_\n",
    "        \n",
    "    oob += leaderboard_model.oob_score_ / N\n",
    "    print('Fold {} OOB Score: {}\\n'.format(fold, leaderboard_model.oob_score_))   \n",
    "    \n",
    "print('Average OOB Score: {}'.format(oob))"
   ]
  },
  {
   "cell_type": "code",
   "execution_count": null,
   "metadata": {
    "papermill": {
     "duration": 0.057355,
     "end_time": "2021-11-27T17:56:43.883862",
     "exception": false,
     "start_time": "2021-11-27T17:56:43.826507",
     "status": "completed"
    },
    "tags": []
   },
   "outputs": [],
   "source": []
  },
  {
   "cell_type": "code",
   "execution_count": null,
   "metadata": {
    "papermill": {
     "duration": 0.06013,
     "end_time": "2021-11-27T17:56:44.001207",
     "exception": false,
     "start_time": "2021-11-27T17:56:43.941077",
     "status": "completed"
    },
    "tags": []
   },
   "outputs": [],
   "source": []
  }
 ],
 "metadata": {
  "kernelspec": {
   "display_name": "Python 3",
   "language": "python",
   "name": "python3"
  },
  "language_info": {
   "codemirror_mode": {
    "name": "ipython",
    "version": 3
   },
   "file_extension": ".py",
   "mimetype": "text/x-python",
   "name": "python",
   "nbconvert_exporter": "python",
   "pygments_lexer": "ipython3",
   "version": "3.7.7"
  },
  "papermill": {
   "default_parameters": {},
   "duration": 63.21439,
   "end_time": "2021-11-27T17:56:44.874161",
   "environment_variables": {},
   "exception": null,
   "input_path": "__notebook__.ipynb",
   "output_path": "__notebook__.ipynb",
   "parameters": {},
   "start_time": "2021-11-27T17:55:41.659771",
   "version": "2.3.3"
  }
 },
 "nbformat": 4,
 "nbformat_minor": 5
}
